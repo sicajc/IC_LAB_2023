{
 "cells": [
  {
   "cell_type": "code",
   "execution_count": 381,
   "metadata": {},
   "outputs": [],
   "source": [
    "import numpy as np\n",
    "\n",
    "PATTERN_TO_DEBUG = 4\n",
    "\n",
    "def toDec(hexstr,BIT):\n",
    "    msb4bits = hexstr[0]\n",
    "    n = int(msb4bits, 16)\n",
    "    if n >= 8:\n",
    "        p = -1*pow(2,BIT-1)\n",
    "        addend = int(str(n-8) + hexstr[1:], 16)\n",
    "        return str( p + addend)\n",
    "    else:\n",
    "        return str(int(hexstr, 16))\n",
    "\n",
    "def int2hex(num,bit_width):\n",
    "    if num<0:\n",
    "        num = (1 << bit_width) + num\n",
    "    hex_string = hex(num)[2:]\n",
    "    return '{:0>{width}}'.format(hex_string,width = (bit_width+3)//4)\n",
    "\n",
    "NEGATE = {'1': '0', '0': '1'}\n",
    "def negate(value):\n",
    "    return ''.join(NEGATE[x] for x in value)\n",
    "\n",
    "def twocomplement(n, size_in_bits):\n",
    "    # print(n)\n",
    "    number = int(n)\n",
    "    if number < 0:\n",
    "        return negate(bin(abs(number) - 1)[2:]).rjust(size_in_bits, '1')\n",
    "    else:\n",
    "        return bin(number)[2:].rjust(size_in_bits, '0')\n",
    "\n",
    "NEGATE = {'1': '0', '0': '1'}\n",
    "def negate(value):\n",
    "    return ''.join(NEGATE[x] for x in value)\n",
    "\n",
    "def reverseRow(data, index):\n",
    "\n",
    "    cols = len(data[index])\n",
    "    for i in range(cols // 2):\n",
    "        temp = data[index][i]\n",
    "        data[index][i] = data[index][cols - i - 1]\n",
    "        data[index][cols - i - 1] = temp\n",
    "\n",
    "    return data\n",
    "\n",
    "# Rotate Matrix by 180 degrees\n",
    "def rotateMatrix(data):\n",
    "\n",
    "    rows = len(data)\n",
    "    cols = len(data[0])\n",
    "\n",
    "    if (rows % 2):\n",
    "        # If N is odd reverse the middle\n",
    "        # row in the matrix\n",
    "        data = reverseRow(data, len(data) // 2)\n",
    "\n",
    "        # Swap the value of matrix [i][j] with\n",
    "        # [rows - i - 1][cols - j - 1] for half\n",
    "        # the rows size.\n",
    "        for i in range(rows // 2):\n",
    "            for j in range(cols):\n",
    "                temp = data[i][j]\n",
    "                data[i][j] = data[rows - i - 1][cols - j - 1]\n",
    "                data[rows - i - 1][cols - j - 1] = temp\n",
    "        return data\n",
    "\n",
    "def twocomplement(n, size_in_bits):\n",
    "    # print(n)\n",
    "    number = int(n)\n",
    "    if number < 0:\n",
    "        return negate(bin(abs(number) - 1)[2:]).rjust(size_in_bits, '1')\n",
    "    else:\n",
    "        return bin(number)[2:].rjust(size_in_bits, '0')\n"
   ]
  },
  {
   "cell_type": "code",
   "execution_count": 382,
   "metadata": {},
   "outputs": [],
   "source": [
    "with open('input.txt', 'r') as file:\n",
    "  file_in = file.readlines()\n",
    "\n",
    "NUM = int(file_in[0])\n",
    "\n",
    "# print(file_in)\n",
    "for i in range(NUM):\n",
    "  img_16 = []\n",
    "  kernal_16 = []\n",
    "  matrix_idx = []\n",
    "  mode = []\n",
    "\n",
    "  # MATRIX SIZE\n",
    "  matrix_in_idx = int(file_in[1 + 65 * i + 0])\n",
    "\n",
    "  if matrix_in_idx == 0:\n",
    "     matrix_size = 8\n",
    "  elif matrix_in_idx == 1:\n",
    "     matrix_size = 16\n",
    "  else:\n",
    "     matrix_size = 32\n",
    "\n",
    "  for j in range(16):\n",
    "    img_in = np.array([int(toDec(val,8)) for val in file_in[1 + 65 * i + (1+j)].split()])\n",
    "    img_16.append(np.reshape(img_in,(matrix_size,matrix_size)))\n",
    "\n",
    "  for k in range(16):\n",
    "    kernal_in = np.array([int(toDec(val,8)) for val in file_in[1 + 65 * i + (17+k)].split()])\n",
    "    kernal_16.append(np.reshape(kernal_in,(5,5)))\n",
    "\n",
    "\n",
    "  for idx in range(16):\n",
    "    mode.append(int(file_in[1 + 65 * i + (33+idx*2)])) #0 2 4\n",
    "    matrix_idx.append(np.array([int(val) for val in file_in[1 + 65 * i + (34+idx*2)].split()]))# 1 3 5\n",
    "\n",
    "  if i == PATTERN_TO_DEBUG:\n",
    "    break"
   ]
  },
  {
   "cell_type": "code",
   "execution_count": 383,
   "metadata": {},
   "outputs": [
    {
     "data": {
      "text/plain": [
       "0"
      ]
     },
     "execution_count": 383,
     "metadata": {},
     "output_type": "execute_result"
    }
   ],
   "source": [
    "mode[0]"
   ]
  },
  {
   "cell_type": "code",
   "execution_count": 384,
   "metadata": {},
   "outputs": [
    {
     "data": {
      "text/plain": [
       "array([ 6, 15])"
      ]
     },
     "execution_count": 384,
     "metadata": {},
     "output_type": "execute_result"
    }
   ],
   "source": [
    "matrix_idx[6]"
   ]
  },
  {
   "cell_type": "code",
   "execution_count": 385,
   "metadata": {},
   "outputs": [
    {
     "data": {
      "text/plain": [
       "array([[  58,  -69,   70, -100,  118,   57,  -95,  -47, -122,  -25,  -69,\n",
       "         119,    5,  101,  -67, -115],\n",
       "       [ -15,  115,   40,  -81, -116,  -92,   81,  -17, -106,   50,   70,\n",
       "          35,  -46,  -99,   65,  -53],\n",
       "       [  34,   31,  -44,  -64,  104,  -68,   25,   92,   22,  120,  -19,\n",
       "          55,   98,  -75,  -20,  120],\n",
       "       [ -46,    7,  120,  -36,   89,   -8,  -97,  -17,  -44,  -21,   57,\n",
       "         -69,   -4,  -66,   27, -106],\n",
       "       [ -29,  -56,  -51,   75,   26,   58,  -97,  107,  -78,  -83,  -53,\n",
       "          18,   60,  107,   62,  -59],\n",
       "       [-103,  -37,  -70,   53,   10,  115,   96,   81, -105,   82,   38,\n",
       "         -37,  -93,  -16,    6,   64],\n",
       "       [ 112,   84, -114,  -18,   70,   58,   17,  -98,  -50,    8,   24,\n",
       "         -36,  -76, -102,   70,  -91],\n",
       "       [ -55,  117, -113, -104,  -62,  -23,   51,  -82,  -34,   60,   20,\n",
       "         -50,   93,  -22,   -7, -126],\n",
       "       [ -79,  -90,   25,    0, -101,  -22,  -86,  102,   57,   62,  -69,\n",
       "         -68,   70, -107,  -73, -107],\n",
       "       [ -90,  -65,   25, -122,  -75,   42,    9,  -22, -126,  -58, -106,\n",
       "          25,   -7,  -76,  111,  -70],\n",
       "       [ -13, -109,   81,   11,   26, -120,   -3,  -45,  123,  -68,  102,\n",
       "        -121,  -65,  -59,  -95,  123],\n",
       "       [ -65,  -60,  -37,  -45,  108,   -8,  -97,  105, -113,  -34,  127,\n",
       "          14,  -17, -106,  -53,  -56],\n",
       "       [ 101,  -39,   98, -107,   40,   96,   67,  -50,  -49,  103, -121,\n",
       "           6,  -16,  125, -100,  -24],\n",
       "       [  70,   89,   23,   26,   38, -107,  -33,  -64,  -78,   41,   73,\n",
       "          18,  -63, -114,   93,  -90],\n",
       "       [-112,   95,  -66,   72,   51,   59,  -26,  -60,   45,   38,   44,\n",
       "         -75,   48,   -8,   35,  -25],\n",
       "       [-123,   53,  -58,   35,  116,   77,   49,  116,   84,  -75,  105,\n",
       "          87,  -96,  -15,  -72,  -28]])"
      ]
     },
     "execution_count": 385,
     "metadata": {},
     "output_type": "execute_result"
    }
   ],
   "source": [
    "img_16[13]"
   ]
  },
  {
   "cell_type": "code",
   "execution_count": 386,
   "metadata": {},
   "outputs": [
    {
     "data": {
      "text/plain": [
       "array([[ -34,   -7,   85,   30,  -30],\n",
       "       [ -72,  -87,  102,  107,  110],\n",
       "       [ 107,  100,  -57,  -90, -113],\n",
       "       [  14,   80,   14,  124,  117],\n",
       "       [  30, -101,  -56,  121,   60]])"
      ]
     },
     "execution_count": 386,
     "metadata": {},
     "output_type": "execute_result"
    }
   ],
   "source": [
    "kernal_16[8]"
   ]
  },
  {
   "cell_type": "code",
   "execution_count": 387,
   "metadata": {},
   "outputs": [
    {
     "data": {
      "text/plain": [
       "array([ 2, 14])"
      ]
     },
     "execution_count": 387,
     "metadata": {},
     "output_type": "execute_result"
    }
   ],
   "source": [
    "matrix_idx[0]"
   ]
  },
  {
   "cell_type": "code",
   "execution_count": 388,
   "metadata": {},
   "outputs": [
    {
     "data": {
      "text/plain": [
       "16"
      ]
     },
     "execution_count": 388,
     "metadata": {},
     "output_type": "execute_result"
    }
   ],
   "source": [
    "matrix_size"
   ]
  },
  {
   "cell_type": "markdown",
   "metadata": {},
   "source": [
    "## Convolution"
   ]
  },
  {
   "cell_type": "code",
   "execution_count": 389,
   "metadata": {},
   "outputs": [],
   "source": [
    "img = img_16[13]\n",
    "kernal = kernal_16[9]\n",
    "\n",
    "convoluted_results = np.zeros((matrix_size-4,matrix_size-4))\n",
    "for i in range(matrix_size-4):\n",
    "    for j in range(matrix_size-4):\n",
    "        conv = 0\n",
    "        for k in range(5):\n",
    "            for l in range(5):\n",
    "                conv += kernal[k,l] * img[i+k,j+l]\n",
    "\n",
    "        convoluted_results[i,j] = conv"
   ]
  },
  {
   "cell_type": "code",
   "execution_count": 390,
   "metadata": {},
   "outputs": [
    {
     "data": {
      "text/plain": [
       "array([[  4583.,  -5202.,   4295.,  16231., -48008.,  20264., -19893.,\n",
       "         -8263., -20252., -24039.,  44814., -26779.],\n",
       "       [ 36156., -20739.,   2548.,  33600., -39714.,  34440.,    461.,\n",
       "        -15002.,  22383.,   1594.,  23498.,  -3589.],\n",
       "       [ 36945.,   3138.,  10366.,  55980., -13964.,  16391.,  32479.,\n",
       "        -54417.,   5123., -12361.,  24490., -24686.],\n",
       "       [  2012.,  21938., -17250.,   5502., -32319.,  11314., -25825.,\n",
       "        -37388.,  23975., -22540., -27745., -32164.],\n",
       "       [-66785., -27768.,   1775.,  14093., -33619.,   8608., -20927.,\n",
       "         -3012.,  28868.,  -7515., -17734., -39341.],\n",
       "       [-22863., -53929., -20276., -21165.,  31257.,  29218., -31996.,\n",
       "        -24809.,  -2928., -50637.,   5059., -58661.],\n",
       "       [-14090.,  -8609.,  -5183., -30465.,  -4616., -25927.,  -3030.,\n",
       "        -36036.,  16443., -70611.,   2137., -22739.],\n",
       "       [ -2131., -22816., -66766.,  35077., -20547.,   1310., -15435.,\n",
       "        -14071.,  -7997., -34634.,  17842., -41302.],\n",
       "       [ 16656.,  35850., -29135., -25617.,   1142.,  12487.,   7163.,\n",
       "         14285.,  -9781., -16311., -57976., -20549.],\n",
       "       [  9566.,  -7250.,  35127.,   6127., -50981., -14881.,  12692.,\n",
       "        -92959.,  21146.,   9867.,    568., -38053.],\n",
       "       [ 26068., -13220., -33269.,  46610., -22900.,  -3704.,  -6824.,\n",
       "           674.,  10008., -27612.,  -8845.,    244.],\n",
       "       [ 38292.,   -151.,   9078.,  17998.,  12834.,  30451.,  11282.,\n",
       "         32608.,   2915.,  34144., -23694., -28191.]])"
      ]
     },
     "execution_count": 390,
     "metadata": {},
     "output_type": "execute_result"
    }
   ],
   "source": [
    "convoluted_results"
   ]
  },
  {
   "cell_type": "markdown",
   "metadata": {},
   "source": [
    "## Maxpooling"
   ]
  },
  {
   "cell_type": "code",
   "execution_count": 391,
   "metadata": {},
   "outputs": [],
   "source": [
    "convoluted_img_width = len(convoluted_results)"
   ]
  },
  {
   "cell_type": "code",
   "execution_count": 392,
   "metadata": {},
   "outputs": [],
   "source": [
    "max_pooling_results = np.zeros((convoluted_img_width//2,convoluted_img_width//2))\n",
    "\n",
    "for i in range(0,convoluted_img_width,2):\n",
    "    for j in range(0,convoluted_img_width,2):\n",
    "        max_pooling_results[i//2,j//2] = max(convoluted_results[i,j],convoluted_results[i+1,j],\\\n",
    "                                                convoluted_results[i+1,j+1],convoluted_results[i,j+1])"
   ]
  },
  {
   "cell_type": "code",
   "execution_count": 393,
   "metadata": {},
   "outputs": [
    {
     "data": {
      "text/plain": [
       "array([[ 36156.,  33600.,  34440.,    461.,  22383.,  44814.],\n",
       "       [ 36945.,  55980.,  16391.,  32479.,  23975.,  24490.],\n",
       "       [-22863.,  14093.,  31257.,  -3012.,  28868.,   5059.],\n",
       "       [ -2131.,  35077.,   1310.,  -3030.,  16443.,  17842.],\n",
       "       [ 35850.,  35127.,  12487.,  14285.,  21146.,    568.],\n",
       "       [ 38292.,  46610.,  30451.,  32608.,  34144.,    244.]])"
      ]
     },
     "execution_count": 393,
     "metadata": {},
     "output_type": "execute_result"
    }
   ],
   "source": [
    "max_pooling_results"
   ]
  },
  {
   "cell_type": "markdown",
   "metadata": {},
   "source": [
    "### Merged Convolution and max pooling"
   ]
  },
  {
   "cell_type": "code",
   "execution_count": 394,
   "metadata": {},
   "outputs": [
    {
     "data": {
      "text/plain": [
       "array([[ 103,  -34,  -60, -109,  -73,  -52,  -88,   97,   25,  109,  -26,\n",
       "         -35,  -76,   43,  -78,    1],\n",
       "       [ -25,   58,  -67,  105,   21,   43, -127,   46,  -96,  -37,   37,\n",
       "          43,   44,   -2,  -70,   33],\n",
       "       [ -13,   32,  -33,  -98,   10,  -90, -118,   17,  -41,  -31,   44,\n",
       "         118,  -64, -106,   74,   -5],\n",
       "       [  99,   27,   35, -105, -105,    7,   98,   93,   54,  -25,   90,\n",
       "         109,  118, -125,   82,   58],\n",
       "       [-128,  104,   53, -117, -121,  115,  121,  119,  -69,  -26,  -75,\n",
       "         -76,  -88,  -30,  102,  -68],\n",
       "       [ 120,   76,   18,   -2,  -99,  114,  -33,   48,   99,   74,   -1,\n",
       "         -99,  -27,   84,    4,  124],\n",
       "       [ -62,  -76, -108,  -23,  -92,   65,  -46,  -60,  -93, -117,  101,\n",
       "         103,   16, -110,  -70,  116],\n",
       "       [  90,    3,  -27,   73,  -93,   50,    3,  -13,  112,   -1,  100,\n",
       "          27,  -61,   71,   76,  -85],\n",
       "       [  39, -124,   48, -100,   33,  -22, -114,   50, -127,   21,  -45,\n",
       "           5,  127,  -45,    7,   81],\n",
       "       [ -90,   18,   13,   92,  115, -102,  -64,  -71,  -45, -128,   39,\n",
       "         110,   89,   41,  116,  -38],\n",
       "       [ 127,   71, -120,   -8,   80,   86,  -20,  127,  -23,  -92,  -15,\n",
       "          53,  -67,  -46,  -53,  -89],\n",
       "       [ -70,  -56,   30,   29,   -1, -102,  -82,  -90,  103,  -13,  -66,\n",
       "         -80,   92, -123,  -94,  -13],\n",
       "       [  81,   38,   53,  -35,  123,   31, -127,  -77,   48,  -46, -108,\n",
       "          24,    7,   50,  118,  100],\n",
       "       [   9,    6, -127,   29, -103,   46, -121,  -67,   58,   93,  -26,\n",
       "         116,   79,   92,   29,   51],\n",
       "       [  37,   83,   51,   32,  -70, -124,  113, -111,   64,  -71,  117,\n",
       "           6,  -26,  -96,  -37,   27],\n",
       "       [  39,  -35,   69,  -45,   99,   64,  110,  -77, -108,  -55,   62,\n",
       "         114,   40,   62,   32,   40]])"
      ]
     },
     "execution_count": 394,
     "metadata": {},
     "output_type": "execute_result"
    }
   ],
   "source": [
    "img_16[2]"
   ]
  },
  {
   "cell_type": "code",
   "execution_count": 395,
   "metadata": {},
   "outputs": [
    {
     "data": {
      "text/plain": [
       "array([[ 124,   12,   46,  109, -126],\n",
       "       [  72,   97,  -97,   15,   14],\n",
       "       [ -54,   86,  -66,   17,  -16],\n",
       "       [ 107,    0,   71,  -87,   -8],\n",
       "       [  -5,  -96,   58, -119,  -37]])"
      ]
     },
     "execution_count": 395,
     "metadata": {},
     "output_type": "execute_result"
    }
   ],
   "source": [
    "kernal_16[3]"
   ]
  },
  {
   "cell_type": "code",
   "execution_count": 396,
   "metadata": {},
   "outputs": [],
   "source": [
    "img = img_16[13]\n",
    "kernal = kernal_16[9]"
   ]
  },
  {
   "cell_type": "code",
   "execution_count": 397,
   "metadata": {},
   "outputs": [
    {
     "name": "stdout",
     "output_type": "stream",
     "text": [
      "4583\n",
      "(y,x) = (0, 0)\n",
      "Window_y:0, Window_x:0\n",
      "36156\n",
      "(y,x) = (0, 0)\n",
      "Window_y:1, Window_x:0\n",
      "4295\n",
      "(y,x) = (0, 2)\n",
      "Window_y:0, Window_x:0\n",
      "16231\n",
      "(y,x) = (0, 2)\n",
      "Window_y:0, Window_x:1\n",
      "2548\n",
      "(y,x) = (0, 2)\n",
      "Window_y:1, Window_x:0\n",
      "33600\n",
      "(y,x) = (0, 2)\n",
      "Window_y:1, Window_x:1\n",
      "20264\n",
      "(y,x) = (0, 4)\n",
      "Window_y:0, Window_x:1\n",
      "34440\n",
      "(y,x) = (0, 4)\n",
      "Window_y:1, Window_x:1\n",
      "461\n",
      "(y,x) = (0, 6)\n",
      "Window_y:1, Window_x:0\n",
      "22383\n",
      "(y,x) = (0, 8)\n",
      "Window_y:1, Window_x:0\n",
      "1594\n",
      "(y,x) = (0, 8)\n",
      "Window_y:1, Window_x:1\n",
      "44814\n",
      "(y,x) = (0, 10)\n",
      "Window_y:0, Window_x:0\n",
      "23498\n",
      "(y,x) = (0, 10)\n",
      "Window_y:1, Window_x:0\n",
      "36945\n",
      "(y,x) = (2, 0)\n",
      "Window_y:0, Window_x:0\n",
      "3138\n",
      "(y,x) = (2, 0)\n",
      "Window_y:0, Window_x:1\n",
      "2012\n",
      "(y,x) = (2, 0)\n",
      "Window_y:1, Window_x:0\n",
      "21938\n",
      "(y,x) = (2, 0)\n",
      "Window_y:1, Window_x:1\n",
      "10366\n",
      "(y,x) = (2, 2)\n",
      "Window_y:0, Window_x:0\n",
      "55980\n",
      "(y,x) = (2, 2)\n",
      "Window_y:0, Window_x:1\n",
      "5502\n",
      "(y,x) = (2, 2)\n",
      "Window_y:1, Window_x:1\n",
      "16391\n",
      "(y,x) = (2, 4)\n",
      "Window_y:0, Window_x:1\n",
      "11314\n",
      "(y,x) = (2, 4)\n",
      "Window_y:1, Window_x:1\n",
      "32479\n",
      "(y,x) = (2, 6)\n",
      "Window_y:0, Window_x:0\n",
      "5123\n",
      "(y,x) = (2, 8)\n",
      "Window_y:0, Window_x:0\n",
      "23975\n",
      "(y,x) = (2, 8)\n",
      "Window_y:1, Window_x:0\n",
      "24490\n",
      "(y,x) = (2, 10)\n",
      "Window_y:0, Window_x:0\n",
      "1775\n",
      "(y,x) = (4, 2)\n",
      "Window_y:0, Window_x:0\n",
      "14093\n",
      "(y,x) = (4, 2)\n",
      "Window_y:0, Window_x:1\n",
      "8608\n",
      "(y,x) = (4, 4)\n",
      "Window_y:0, Window_x:1\n",
      "31257\n",
      "(y,x) = (4, 4)\n",
      "Window_y:1, Window_x:0\n",
      "29218\n",
      "(y,x) = (4, 4)\n",
      "Window_y:1, Window_x:1\n",
      "28868\n",
      "(y,x) = (4, 8)\n",
      "Window_y:0, Window_x:0\n",
      "5059\n",
      "(y,x) = (4, 10)\n",
      "Window_y:1, Window_x:0\n",
      "35077\n",
      "(y,x) = (6, 2)\n",
      "Window_y:1, Window_x:1\n",
      "1310\n",
      "(y,x) = (6, 4)\n",
      "Window_y:1, Window_x:1\n",
      "16443\n",
      "(y,x) = (6, 8)\n",
      "Window_y:0, Window_x:0\n",
      "2137\n",
      "(y,x) = (6, 10)\n",
      "Window_y:0, Window_x:0\n",
      "17842\n",
      "(y,x) = (6, 10)\n",
      "Window_y:1, Window_x:0\n",
      "16656\n",
      "(y,x) = (8, 0)\n",
      "Window_y:0, Window_x:0\n",
      "35850\n",
      "(y,x) = (8, 0)\n",
      "Window_y:0, Window_x:1\n",
      "9566\n",
      "(y,x) = (8, 0)\n",
      "Window_y:1, Window_x:0\n",
      "35127\n",
      "(y,x) = (8, 2)\n",
      "Window_y:1, Window_x:0\n",
      "6127\n",
      "(y,x) = (8, 2)\n",
      "Window_y:1, Window_x:1\n",
      "1142\n",
      "(y,x) = (8, 4)\n",
      "Window_y:0, Window_x:0\n",
      "12487\n",
      "(y,x) = (8, 4)\n",
      "Window_y:0, Window_x:1\n",
      "7163\n",
      "(y,x) = (8, 6)\n",
      "Window_y:0, Window_x:0\n",
      "14285\n",
      "(y,x) = (8, 6)\n",
      "Window_y:0, Window_x:1\n",
      "12692\n",
      "(y,x) = (8, 6)\n",
      "Window_y:1, Window_x:0\n",
      "21146\n",
      "(y,x) = (8, 8)\n",
      "Window_y:1, Window_x:0\n",
      "9867\n",
      "(y,x) = (8, 8)\n",
      "Window_y:1, Window_x:1\n",
      "568\n",
      "(y,x) = (8, 10)\n",
      "Window_y:1, Window_x:0\n",
      "26068\n",
      "(y,x) = (10, 0)\n",
      "Window_y:0, Window_x:0\n",
      "38292\n",
      "(y,x) = (10, 0)\n",
      "Window_y:1, Window_x:0\n",
      "46610\n",
      "(y,x) = (10, 2)\n",
      "Window_y:0, Window_x:1\n",
      "9078\n",
      "(y,x) = (10, 2)\n",
      "Window_y:1, Window_x:0\n",
      "17998\n",
      "(y,x) = (10, 2)\n",
      "Window_y:1, Window_x:1\n",
      "12834\n",
      "(y,x) = (10, 4)\n",
      "Window_y:1, Window_x:0\n",
      "30451\n",
      "(y,x) = (10, 4)\n",
      "Window_y:1, Window_x:1\n",
      "674\n",
      "(y,x) = (10, 6)\n",
      "Window_y:0, Window_x:1\n",
      "11282\n",
      "(y,x) = (10, 6)\n",
      "Window_y:1, Window_x:0\n",
      "32608\n",
      "(y,x) = (10, 6)\n",
      "Window_y:1, Window_x:1\n",
      "10008\n",
      "(y,x) = (10, 8)\n",
      "Window_y:0, Window_x:0\n",
      "2915\n",
      "(y,x) = (10, 8)\n",
      "Window_y:1, Window_x:0\n",
      "34144\n",
      "(y,x) = (10, 8)\n",
      "Window_y:1, Window_x:1\n",
      "244\n",
      "(y,x) = (10, 10)\n",
      "Window_y:0, Window_x:1\n"
     ]
    }
   ],
   "source": [
    "max_pooling_results = np.zeros((convoluted_img_width//2,convoluted_img_width//2))\n",
    "for img_yptr in range(0,matrix_size-4,2):\n",
    "    for img_xptr in range(0,matrix_size-4,2):\n",
    "        # print(img_yptr)\n",
    "\n",
    "        temp_max = -999999\n",
    "        # 4 times convolution to quickly get values needed for max pooling\n",
    "        for mp_window_y in range(2):\n",
    "            for mp_window_x in range(2):\n",
    "                conv = 0\n",
    "                idx_x = img_xptr+mp_window_x\n",
    "                idx_y = img_yptr+mp_window_y\n",
    "                for k_yptr in range(5):\n",
    "                    # Uses High level modeling for fast MAC, img_x_cord[x] and kernal_x_cord[x]\n",
    "                    for k_xptr in range(5): # Unrolling the x_ptr\n",
    "                        conv += kernal[k_yptr,k_xptr] * img[idx_y+k_yptr,idx_x+k_xptr]\n",
    "\n",
    "                if conv>=67:\n",
    "                    print(conv)\n",
    "                    print(f\"(y,x) = {img_yptr,img_xptr}\")\n",
    "                    print(f\"Window_y:{mp_window_y}, Window_x:{mp_window_x}\")\n",
    "\n",
    "                if (mp_window_y == 0 and mp_window_x == 0) or conv > temp_max:\n",
    "                    temp_max = conv\n",
    "\n",
    "        max_pooling_results[img_yptr//2,img_xptr//2] = temp_max"
   ]
  },
  {
   "cell_type": "code",
   "execution_count": 398,
   "metadata": {},
   "outputs": [
    {
     "data": {
      "text/plain": [
       "array([[ 36156.,  33600.,  34440.,    461.,  22383.,  44814.],\n",
       "       [ 36945.,  55980.,  16391.,  32479.,  23975.,  24490.],\n",
       "       [-22863.,  14093.,  31257.,  -3012.,  28868.,   5059.],\n",
       "       [ -2131.,  35077.,   1310.,  -3030.,  16443.,  17842.],\n",
       "       [ 35850.,  35127.,  12487.,  14285.,  21146.,    568.],\n",
       "       [ 38292.,  46610.,  30451.,  32608.,  34144.,    244.]])"
      ]
     },
     "execution_count": 398,
     "metadata": {},
     "output_type": "execute_result"
    }
   ],
   "source": [
    "max_pooling_results"
   ]
  },
  {
   "cell_type": "code",
   "execution_count": 399,
   "metadata": {},
   "outputs": [],
   "source": [
    "max_pooling_results = np.zeros((convoluted_img_width//2,convoluted_img_width//2))\n",
    "for img_yptr in range(0,matrix_size-4,2):\n",
    "    for img_xptr in range(0,matrix_size-4,2):\n",
    "        temp_max = -999999\n",
    "        # 4 times convolution to quickly get values needed for max pooling\n",
    "        for mp_window_y in range(2):\n",
    "            for mp_window_x in range(2):\n",
    "                conv = 0\n",
    "                idx_y = img_yptr+mp_window_y\n",
    "                idx_x = img_xptr+mp_window_x\n",
    "                for k_yptr in range(5):\n",
    "                    conv += kernal[k_yptr,0] * img[idx_y+k_yptr,idx_x+0]\n",
    "                    conv += kernal[k_yptr,1] * img[idx_y+k_yptr,idx_x+1]\n",
    "                    conv += kernal[k_yptr,2] * img[idx_y+k_yptr,idx_x+2]\n",
    "                    conv += kernal[k_yptr,3] * img[idx_y+k_yptr,idx_x+3]\n",
    "                    conv += kernal[k_yptr,4] * img[idx_y+k_yptr,idx_x+4]\n",
    "\n",
    "                if (mp_window_y == 0 and mp_window_x == 0) or conv > temp_max:\n",
    "                    temp_max = conv\n",
    "\n",
    "        max_pooling_results[img_yptr//2,img_xptr//2] = temp_max"
   ]
  },
  {
   "cell_type": "code",
   "execution_count": 400,
   "metadata": {},
   "outputs": [
    {
     "data": {
      "text/plain": [
       "array([[ 36156.,  33600.,  34440.,    461.,  22383.,  44814.],\n",
       "       [ 36945.,  55980.,  16391.,  32479.,  23975.,  24490.],\n",
       "       [-22863.,  14093.,  31257.,  -3012.,  28868.,   5059.],\n",
       "       [ -2131.,  35077.,   1310.,  -3030.,  16443.,  17842.],\n",
       "       [ 35850.,  35127.,  12487.,  14285.,  21146.,    568.],\n",
       "       [ 38292.,  46610.,  30451.,  32608.,  34144.,    244.]])"
      ]
     },
     "execution_count": 400,
     "metadata": {},
     "output_type": "execute_result"
    }
   ],
   "source": [
    "max_pooling_results"
   ]
  },
  {
   "cell_type": "markdown",
   "metadata": {},
   "source": [
    "### Transposed convolution"
   ]
  },
  {
   "cell_type": "code",
   "execution_count": 401,
   "metadata": {},
   "outputs": [],
   "source": [
    "trans_convoluted_results = np.zeros((matrix_size+4,matrix_size+4))\n",
    "for i in range(matrix_size):\n",
    "    for j in range(matrix_size):\n",
    "        for k in range(5):\n",
    "            for l in range(5):\n",
    "                conv = kernal[k,l] * img[i,j]\n",
    "                trans_convoluted_results[i+k,j+l] += conv"
   ]
  },
  {
   "cell_type": "code",
   "execution_count": 402,
   "metadata": {},
   "outputs": [
    {
     "data": {
      "text/plain": [
       "array([[ 9.2800e+02,  3.4780e+03, -2.8230e+03,  3.0640e+03, -2.2800e+03,\n",
       "         5.1660e+03,  8.0910e+03, -1.0087e+04, -1.0870e+03, -9.8160e+03,\n",
       "        -1.1943e+04, -8.5930e+03,  9.4300e+02,  2.7010e+03,  5.3530e+03,\n",
       "         1.7610e+03, -8.9510e+03,  1.1900e+03, -5.3240e+03, -5.9800e+03],\n",
       "       [-5.8800e+02,  3.9110e+03,  8.3760e+03, -1.8130e+03,  6.1170e+03,\n",
       "        -2.1298e+04,  2.0421e+04, -2.8709e+04, -9.3450e+03, -2.1170e+03,\n",
       "        -4.6810e+03,  9.4860e+03, -8.0810e+03,  1.0700e+04, -1.9875e+04,\n",
       "         1.6919e+04, -2.7193e+04,  7.5570e+03,  9.5940e+03, -1.4716e+04],\n",
       "       [-5.9780e+03,  1.4495e+04,  8.2100e+02,  1.1461e+04, -2.4510e+04,\n",
       "        -1.3182e+04,  3.8680e+04, -3.3400e+03,  1.5947e+04, -2.6797e+04,\n",
       "         8.3620e+03,  7.6400e+03, -7.2790e+03,  1.7821e+04, -3.1680e+03,\n",
       "         3.6902e+04, -3.8660e+03, -2.6571e+04,  1.8260e+04, -5.3670e+03],\n",
       "       [ 1.4660e+03, -1.4398e+04,  6.0910e+03,  3.8718e+04, -7.0210e+03,\n",
       "         1.8038e+04, -1.2562e+04, -3.3562e+04,  5.7366e+04, -4.8428e+04,\n",
       "        -3.7567e+04,  9.1980e+03, -1.8965e+04,  2.3347e+04, -2.2350e+04,\n",
       "        -3.9110e+03,  2.6481e+04, -1.9095e+04, -2.7047e+04, -7.1110e+03],\n",
       "       [ 3.3800e+02, -4.2390e+03,  1.0220e+04,  7.0030e+03, -7.0910e+03,\n",
       "         1.1691e+04,  4.0043e+04, -9.0344e+04, -1.1730e+03, -1.5583e+04,\n",
       "        -2.9534e+04,  8.1420e+03, -2.8605e+04,  4.5134e+04,  2.2265e+04,\n",
       "        -2.5357e+04, -1.3372e+04,  4.7550e+03,  8.4060e+03, -2.5346e+04],\n",
       "       [ 2.9930e+03, -5.0930e+03, -1.2469e+04,  1.5059e+04, -1.8760e+04,\n",
       "        -1.0272e+04,  1.3517e+04,  5.4820e+03, -2.0180e+03,  1.3410e+03,\n",
       "        -6.6560e+03,  6.2007e+04,  9.3200e+02, -3.3310e+03, -6.3010e+03,\n",
       "         2.0635e+04, -2.1810e+03, -4.1589e+04,  4.1880e+04, -2.3900e+03],\n",
       "       [ 7.8500e+03,  1.3538e+04,  2.1310e+03, -2.4744e+04, -6.7620e+03,\n",
       "         4.4713e+04,  1.0190e+04, -1.1790e+03,  2.9602e+04,  1.8323e+04,\n",
       "        -2.4916e+04,  3.1233e+04, -3.5814e+04,  7.9790e+03, -1.2266e+04,\n",
       "         2.3631e+04, -9.6500e+02, -1.7010e+04, -1.2321e+04,  1.3690e+03],\n",
       "       [ 6.2080e+03, -8.7990e+03,  1.2015e+04, -2.4482e+04, -2.6901e+04,\n",
       "         1.3916e+04, -5.7820e+03, -8.9960e+03,  2.0615e+04, -2.6838e+04,\n",
       "        -9.6670e+03,  2.4350e+04, -3.0773e+04, -2.9855e+04, -4.0500e+03,\n",
       "        -9.9210e+03,  5.4660e+03, -2.0608e+04,  2.0425e+04, -2.9854e+04],\n",
       "       [-1.7229e+04, -2.4525e+04,  1.2962e+04, -1.3200e+04, -6.4819e+04,\n",
       "         1.5292e+04, -4.4450e+03,  2.6297e+04,  1.1541e+04, -6.2950e+03,\n",
       "         4.2080e+03,  1.2558e+04, -1.5838e+04,  2.5948e+04, -1.0311e+04,\n",
       "        -2.6326e+04, -7.4230e+03, -3.3712e+04,  3.4706e+04, -2.3591e+04],\n",
       "       [-1.4890e+03, -3.7814e+04, -1.1636e+04,  2.8017e+04, -2.7484e+04,\n",
       "        -1.6203e+04, -1.3975e+04,  4.4369e+04, -2.7510e+03, -7.2080e+03,\n",
       "        -1.2143e+04,  1.0513e+04, -6.6195e+04,  6.0970e+03, -1.8860e+03,\n",
       "        -1.9155e+04, -1.9662e+04, -3.0910e+04,  1.4532e+04, -2.3452e+04],\n",
       "       [ 1.7526e+04,  1.5170e+04, -2.4587e+04, -1.5694e+04,  1.4724e+04,\n",
       "        -1.3643e+04, -1.3124e+04, -4.0832e+04, -4.9014e+04,  7.6130e+03,\n",
       "         9.0640e+03,  2.2910e+03, -4.9579e+04,  6.6710e+03, -2.3543e+04,\n",
       "        -2.8737e+04, -2.9510e+03, -6.4459e+04,  1.9915e+04, -2.8731e+04],\n",
       "       [ 4.0050e+03, -8.3160e+03, -3.6849e+04, -1.1120e+04, -4.1585e+04,\n",
       "        -5.6029e+04, -7.7300e+03, -3.0302e+04,  8.5190e+03, -3.5838e+04,\n",
       "         1.3038e+04, -9.6810e+03,  9.2960e+03, -2.6760e+03, -2.1529e+04,\n",
       "        -3.8909e+04, -6.7430e+03, -4.4654e+04, -2.9942e+04, -1.7924e+04],\n",
       "       [-3.8330e+03, -5.6000e+03, -4.1988e+04, -5.3880e+03, -2.2237e+04,\n",
       "        -2.4120e+04, -2.7940e+03, -4.9760e+04,  3.8700e+02,  3.6535e+04,\n",
       "        -3.7701e+04,  1.7610e+03, -4.1370e+03, -4.9544e+04, -1.0309e+04,\n",
       "        -6.8732e+04, -1.2752e+04,  2.8320e+03, -1.6101e+04, -1.8969e+04],\n",
       "       [ 6.5800e+02, -4.0030e+03, -1.2833e+04, -9.2830e+03, -3.2016e+04,\n",
       "        -3.3488e+04,  6.0783e+04, -4.9579e+04, -2.8676e+04, -2.6981e+04,\n",
       "        -5.3390e+04,  1.9335e+04, -2.3514e+04,  1.3773e+04, -3.0524e+04,\n",
       "        -1.8586e+04, -4.3611e+04, -2.2233e+04,  1.3888e+04, -5.6500e+03],\n",
       "       [-1.5533e+04, -5.5260e+03, -1.7210e+03, -2.5210e+03,  4.3530e+03,\n",
       "        -3.4554e+04,  4.8320e+03,  4.8900e+02,  4.2143e+04, -5.1535e+04,\n",
       "         3.5664e+04,  5.7530e+03, -4.0627e+04, -2.8148e+04,  1.7396e+04,\n",
       "        -1.3200e+02, -2.5522e+04, -2.8417e+04, -7.7050e+03, -4.1360e+03],\n",
       "       [-1.3199e+04, -2.6992e+04, -8.0000e+00,  1.9252e+04, -2.7654e+04,\n",
       "         6.9886e+04, -1.8630e+03, -1.1646e+04,  4.1088e+04,  6.5820e+03,\n",
       "        -1.2274e+04,  3.5174e+04,  2.0931e+04, -2.2241e+04, -1.8954e+04,\n",
       "        -2.6049e+04,  6.2880e+03, -4.2161e+04, -1.7310e+03, -1.7226e+04],\n",
       "       [ 2.2325e+04, -1.3450e+04,  1.3065e+04,  2.5180e+04, -1.5208e+04,\n",
       "         4.4499e+04,  3.8550e+04,  6.0180e+03, -2.0577e+04, -1.7440e+03,\n",
       "        -9.3100e+02, -6.0590e+03,  8.1500e+02,  4.9690e+03, -9.0000e+01,\n",
       "         7.7680e+03, -4.3643e+04,  1.2704e+04, -9.3380e+03, -1.5649e+04],\n",
       "       [ 1.8208e+04, -5.5710e+03,  1.4426e+04,  1.5470e+03, -1.5692e+04,\n",
       "         2.5538e+04,  1.9290e+03, -9.1180e+03,  8.3390e+03,  1.6657e+04,\n",
       "        -1.2780e+04, -1.1530e+03,  3.7478e+04, -1.1409e+04, -9.9040e+03,\n",
       "         6.2510e+03, -1.8870e+04, -1.9295e+04,  1.3309e+04, -1.3654e+04],\n",
       "       [-1.0324e+04, -1.0878e+04, -4.8900e+02, -4.2070e+03, -1.2770e+04,\n",
       "         3.5071e+04,  7.3600e+02,  1.9968e+04,  2.3543e+04,  2.8777e+04,\n",
       "         2.4427e+04,  1.7255e+04,  6.6600e+03,  9.2500e+02,  2.8300e+04,\n",
       "        -1.2909e+04, -8.2650e+03, -1.2297e+04, -4.6990e+03, -5.4440e+03],\n",
       "       [-9.7170e+03, -1.0081e+04, -5.8140e+03,  4.7520e+03, -5.9250e+03,\n",
       "         2.9973e+04,  1.1924e+04,  1.8028e+04,  3.2095e+04,  1.6890e+04,\n",
       "         4.7070e+03,  2.3301e+04,  2.1255e+04, -1.9926e+04, -5.7630e+03,\n",
       "         2.2520e+03, -1.7261e+04, -6.0000e+01, -6.5160e+03, -3.0240e+03]])"
      ]
     },
     "execution_count": 402,
     "metadata": {},
     "output_type": "execute_result"
    }
   ],
   "source": [
    "trans_convoluted_results"
   ]
  },
  {
   "cell_type": "markdown",
   "metadata": {},
   "source": [
    "## Transpoed convolution with zero-padding"
   ]
  },
  {
   "cell_type": "code",
   "execution_count": 403,
   "metadata": {},
   "outputs": [],
   "source": [
    "img = img_16[13]"
   ]
  },
  {
   "cell_type": "code",
   "execution_count": 404,
   "metadata": {},
   "outputs": [
    {
     "data": {
      "text/plain": [
       "array([[  58,  -69,   70, -100,  118,   57,  -95,  -47, -122,  -25,  -69,\n",
       "         119,    5,  101,  -67, -115],\n",
       "       [ -15,  115,   40,  -81, -116,  -92,   81,  -17, -106,   50,   70,\n",
       "          35,  -46,  -99,   65,  -53],\n",
       "       [  34,   31,  -44,  -64,  104,  -68,   25,   92,   22,  120,  -19,\n",
       "          55,   98,  -75,  -20,  120],\n",
       "       [ -46,    7,  120,  -36,   89,   -8,  -97,  -17,  -44,  -21,   57,\n",
       "         -69,   -4,  -66,   27, -106],\n",
       "       [ -29,  -56,  -51,   75,   26,   58,  -97,  107,  -78,  -83,  -53,\n",
       "          18,   60,  107,   62,  -59],\n",
       "       [-103,  -37,  -70,   53,   10,  115,   96,   81, -105,   82,   38,\n",
       "         -37,  -93,  -16,    6,   64],\n",
       "       [ 112,   84, -114,  -18,   70,   58,   17,  -98,  -50,    8,   24,\n",
       "         -36,  -76, -102,   70,  -91],\n",
       "       [ -55,  117, -113, -104,  -62,  -23,   51,  -82,  -34,   60,   20,\n",
       "         -50,   93,  -22,   -7, -126],\n",
       "       [ -79,  -90,   25,    0, -101,  -22,  -86,  102,   57,   62,  -69,\n",
       "         -68,   70, -107,  -73, -107],\n",
       "       [ -90,  -65,   25, -122,  -75,   42,    9,  -22, -126,  -58, -106,\n",
       "          25,   -7,  -76,  111,  -70],\n",
       "       [ -13, -109,   81,   11,   26, -120,   -3,  -45,  123,  -68,  102,\n",
       "        -121,  -65,  -59,  -95,  123],\n",
       "       [ -65,  -60,  -37,  -45,  108,   -8,  -97,  105, -113,  -34,  127,\n",
       "          14,  -17, -106,  -53,  -56],\n",
       "       [ 101,  -39,   98, -107,   40,   96,   67,  -50,  -49,  103, -121,\n",
       "           6,  -16,  125, -100,  -24],\n",
       "       [  70,   89,   23,   26,   38, -107,  -33,  -64,  -78,   41,   73,\n",
       "          18,  -63, -114,   93,  -90],\n",
       "       [-112,   95,  -66,   72,   51,   59,  -26,  -60,   45,   38,   44,\n",
       "         -75,   48,   -8,   35,  -25],\n",
       "       [-123,   53,  -58,   35,  116,   77,   49,  116,   84,  -75,  105,\n",
       "          87,  -96,  -15,  -72,  -28]])"
      ]
     },
     "execution_count": 404,
     "metadata": {},
     "output_type": "execute_result"
    }
   ],
   "source": [
    "img"
   ]
  },
  {
   "cell_type": "code",
   "execution_count": 405,
   "metadata": {},
   "outputs": [],
   "source": [
    "kernal = kernal_16[7]"
   ]
  },
  {
   "cell_type": "code",
   "execution_count": 406,
   "metadata": {},
   "outputs": [
    {
     "data": {
      "text/plain": [
       "array([[ -88,   33,   30,  -53,   22],\n",
       "       [ 127,   62,   86,    1, -128],\n",
       "       [  18,  -72,  -86,   50,   56],\n",
       "       [ -38,   28,  121,   60,   35],\n",
       "       [  16,   -5,    7,  -32,  -25]])"
      ]
     },
     "execution_count": 406,
     "metadata": {},
     "output_type": "execute_result"
    }
   ],
   "source": [
    "kernal"
   ]
  },
  {
   "cell_type": "code",
   "execution_count": 407,
   "metadata": {},
   "outputs": [],
   "source": [
    "new_trans_convoluted_results = np.zeros((matrix_size+4,matrix_size+4))\n",
    "# Note the matrix is flipped\n",
    "lower_bound0 = matrix_size + 4\n",
    "lower_bound1 = matrix_size + 5\n",
    "lower_bound2 = matrix_size + 6\n",
    "lower_bound3 = matrix_size + 7\n",
    "\n",
    "for img_ytr in range(matrix_size+4):\n",
    "    for img_xptr in range(matrix_size+4):\n",
    "        conv = 0\n",
    "        for k_yptr in range(5):\n",
    "            # Uses High level always@* , need idx_x[x]\n",
    "            for k_xptr in range(5):\n",
    "                idx_y = img_ytr + k_yptr\n",
    "                idx_x = img_xptr + k_xptr\n",
    "                if idx_y == 0 or idx_y == 1 or idx_y == 2 or idx_y == 3 or idx_x == 0 or idx_x == 1 \\\n",
    "                    or idx_x == 2 or idx_x == 3:\n",
    "                        conv += 0\n",
    "                elif idx_y == lower_bound0 or idx_y == lower_bound1 or idx_y == lower_bound2 or idx_y == lower_bound3 \\\n",
    "                    or idx_x == lower_bound0 or idx_x == lower_bound1 or idx_x == lower_bound2 or idx_x == lower_bound3 :\n",
    "                        conv += 0\n",
    "                else:\n",
    "                   # Address translation\n",
    "                   conv += kernal[4-k_yptr,4-k_xptr] * img[idx_y-4,idx_x-4]\n",
    "\n",
    "        new_trans_convoluted_results[img_ytr,img_xptr] = conv\n"
   ]
  },
  {
   "cell_type": "code",
   "execution_count": 408,
   "metadata": {},
   "outputs": [
    {
     "data": {
      "text/plain": [
       "array([[ -25,  -32,    7,   -5,   16],\n",
       "       [  35,   60,  121,   28,  -38],\n",
       "       [  56,   50,  -86,  -72,   18],\n",
       "       [-128,    1,   86,   62,  127],\n",
       "       [  22,  -53,   30,   33,  -88]])"
      ]
     },
     "execution_count": 408,
     "metadata": {},
     "output_type": "execute_result"
    }
   ],
   "source": [
    "rotateMatrix(kernal)"
   ]
  },
  {
   "cell_type": "code",
   "execution_count": 409,
   "metadata": {},
   "outputs": [
    {
     "data": {
      "text/plain": [
       "array([[-5.1040e+03,  7.9860e+03, -6.6970e+03,  5.9660e+03, -6.6510e+03,\n",
       "        -9.3500e+03,  2.0621e+04, -5.7430e+03,  5.9100e+03,  3.0530e+03,\n",
       "         1.9880e+03, -8.0670e+03,  5.8000e+01, -2.0460e+03,  1.5540e+03,\n",
       "         1.3292e+04, -1.1048e+04,  2.3230e+03,  4.6210e+03, -2.5300e+03],\n",
       "       [ 8.6860e+03, -1.5782e+04,  9.4250e+03, -1.5430e+03,  9.6230e+03,\n",
       "         1.7105e+04, -1.5914e+04,  1.1736e+04, -2.8104e+04, -3.6897e+04,\n",
       "        -1.3699e+04,  2.0553e+04,  1.9991e+04,  3.2136e+04, -3.5480e+03,\n",
       "        -1.8253e+04, -8.9950e+03, -3.0098e+04,  1.2700e+04,  1.3554e+04],\n",
       "       [-3.8530e+03,  6.6510e+03,  1.8075e+04,  7.3700e+03, -2.4656e+04,\n",
       "        -2.9246e+04, -2.6536e+04, -9.6360e+03,  3.3764e+04,  1.1096e+04,\n",
       "        -2.1650e+03,  1.4674e+04, -7.9150e+03, -1.7240e+04, -1.8694e+04,\n",
       "        -3.2213e+04,  3.6956e+04,  2.3385e+04, -2.4675e+04,  2.9840e+03],\n",
       "       [ 5.8920e+03,  1.1307e+04, -1.6295e+04, -1.2467e+04, -1.3780e+03,\n",
       "        -2.4240e+03,  6.1143e+04,  9.2690e+03, -1.9320e+04,  3.5130e+04,\n",
       "        -1.2974e+04, -1.9752e+04, -1.2325e+04, -3.4690e+03,  3.2590e+04,\n",
       "         2.9261e+04, -2.0569e+04,  1.7010e+03,  6.3700e+02, -2.4685e+04],\n",
       "       [-1.1800e+03, -6.0660e+03,  9.2960e+03,  8.9720e+03,  5.6982e+04,\n",
       "        -7.5880e+03, -4.6365e+04, -2.6616e+04, -3.0738e+04, -5.2560e+03,\n",
       "        -8.7670e+03,  9.3000e+02,  2.2144e+04, -7.1820e+03, -2.2202e+04,\n",
       "         3.4450e+03, -1.7844e+04, -2.6027e+04,  1.0259e+04,  2.0010e+04],\n",
       "       [ 3.0210e+03, -3.9260e+03,  1.6320e+03, -6.5170e+03, -1.5160e+04,\n",
       "         1.0760e+04, -5.6040e+03,  1.0307e+04,  1.6517e+04, -1.8324e+04,\n",
       "        -2.0500e+02,  6.5280e+03,  1.6122e+04,  4.3865e+04,  4.2241e+04,\n",
       "        -8.3890e+03,  1.8890e+03,  3.1000e+01, -8.4720e+03,  8.5490e+03],\n",
       "       [-2.1167e+04, -1.4929e+04, -8.8210e+03,  3.0400e+03,  3.3250e+03,\n",
       "         2.0503e+04,  4.3782e+04,  3.5781e+04, -5.7530e+03, -2.0592e+04,\n",
       "        -1.4271e+04,  9.5530e+03,  2.2920e+03, -3.5351e+04, -4.2362e+04,\n",
       "         2.6680e+03,  2.2238e+04,  2.8790e+03, -2.5740e+03, -2.0208e+04],\n",
       "       [ 1.7576e+04,  1.3909e+04,  2.1203e+04,  1.4070e+03, -3.6357e+04,\n",
       "        -6.3280e+03,  2.2020e+04, -4.0690e+03, -3.2517e+04, -3.4840e+03,\n",
       "         1.1829e+04, -7.0610e+03, -3.4079e+04, -1.1026e+04,  1.6870e+04,\n",
       "         8.8000e+03,  1.5017e+04, -4.3230e+03,  2.3560e+03,  1.3045e+04],\n",
       "       [ 5.4330e+03,  7.9810e+03, -4.8677e+04, -1.4275e+04,  7.6290e+03,\n",
       "        -3.7761e+04, -6.0000e+00,  7.2910e+03,  2.9281e+04,  3.6279e+04,\n",
       "        -6.1470e+03,  1.2970e+04,  1.2543e+04,  1.8085e+04,  1.3705e+04,\n",
       "        -3.0916e+04, -3.3566e+04, -1.6360e+03,  8.5930e+03,  1.2393e+04],\n",
       "       [-9.0070e+03, -7.6450e+03, -3.3920e+03,  2.0175e+04,  1.8160e+04,\n",
       "         2.8030e+03, -1.6971e+04,  1.3083e+04,  2.3913e+04,  2.1430e+04,\n",
       "        -3.7410e+03, -3.7912e+04, -2.8030e+03, -1.4189e+04, -4.1457e+04,\n",
       "        -1.6062e+04, -3.6020e+03, -5.7050e+03,  3.4890e+03,  3.1500e+02],\n",
       "       [-7.8260e+03, -5.8060e+03, -6.5310e+03, -9.5790e+03, -2.4590e+04,\n",
       "        -7.4510e+03, -1.4001e+04,  1.2276e+04, -2.0275e+04, -4.6718e+04,\n",
       "        -4.8227e+04,  1.3964e+04,  3.7116e+04, -1.0981e+04,  3.8855e+04,\n",
       "        -7.9010e+03,  2.5153e+04, -5.9570e+03, -3.8968e+04,  3.5390e+03],\n",
       "       [ 4.5710e+03, -2.8490e+03, -1.2000e+03, -1.4940e+04, -5.7840e+03,\n",
       "         1.5431e+04, -6.0150e+03, -6.4386e+04,  6.8040e+03,  3.5728e+04,\n",
       "         2.4272e+04,  2.4570e+04, -2.6869e+04, -3.0456e+04, -2.4894e+04,\n",
       "         6.6560e+03, -1.6014e+04,  2.9660e+03,  1.2033e+04, -2.1491e+04],\n",
       "       [-1.5221e+04, -7.0060e+03, -2.3829e+04, -1.0173e+04,  1.5370e+03,\n",
       "        -3.1599e+04,  1.6150e+03,  3.1700e+04, -2.0198e+04, -2.5320e+04,\n",
       "         1.1285e+04, -3.0752e+04, -4.4240e+03, -7.3900e+02, -1.9397e+04,\n",
       "        -1.9288e+04, -1.5641e+04, -2.8110e+03,  1.1564e+04,  1.3753e+04],\n",
       "       [ 4.5510e+03,  2.5750e+03,  2.3363e+04, -2.1342e+04, -3.2990e+03,\n",
       "         2.2171e+04, -3.8060e+03,  2.6527e+04, -7.8190e+03, -2.7576e+04,\n",
       "        -7.8070e+03,  1.7649e+04, -5.8400e+03,  3.5350e+03,  6.2960e+03,\n",
       "        -1.3360e+03, -1.1233e+04, -2.7095e+04,  1.7344e+04,  4.0110e+03],\n",
       "       [ 2.2826e+04, -5.6060e+03,  9.5390e+03,  1.0840e+03, -1.9319e+04,\n",
       "        -1.3638e+04, -8.0940e+03, -4.0986e+04, -2.2253e+04,  3.1766e+04,\n",
       "        -5.7210e+03,  8.7230e+03,  2.4897e+04, -1.2219e+04, -2.0946e+04,\n",
       "        -2.8937e+04,  1.5052e+04, -6.2000e+01, -2.3475e+04,  4.5910e+03],\n",
       "       [-7.0180e+03, -3.3650e+03, -1.4317e+04,  2.0159e+04,  2.2368e+04,\n",
       "        -3.0600e+03,  2.1871e+04,  2.6250e+03,  2.7600e+03,  1.1147e+04,\n",
       "         2.2130e+03, -1.5588e+04,  3.8340e+03, -2.1735e+04,  2.0747e+04,\n",
       "         2.5249e+04, -2.1945e+04,  6.9860e+03, -5.7200e+03, -1.8960e+03],\n",
       "       [-1.8681e+04,  6.3280e+03, -4.9600e+02,  6.4800e+03,  3.8040e+04,\n",
       "         1.7554e+04,  2.6301e+04,  1.5011e+04,  8.4270e+03, -1.9752e+04,\n",
       "        -1.9445e+04, -8.9100e+03,  6.5620e+03,  3.0488e+04, -4.6109e+04,\n",
       "        -3.4191e+04,  9.3100e+02, -6.5010e+03,  1.1021e+04, -3.6600e+02],\n",
       "       [ 3.1620e+03,  4.1380e+03, -2.2530e+03, -7.0270e+03, -9.7690e+03,\n",
       "        -7.3260e+03, -6.4490e+03,  1.0495e+04, -6.0400e+02, -1.3222e+04,\n",
       "         1.2227e+04,  2.4738e+04, -1.0762e+04, -7.9910e+03,  1.8780e+04,\n",
       "         6.1220e+03,  1.3141e+04, -3.9930e+03, -5.1520e+03, -1.9300e+02],\n",
       "       [ 2.8820e+03, -3.3780e+03, -1.3510e+04,  1.8100e+03, -1.1817e+04,\n",
       "         3.8620e+03,  1.3392e+04,  1.0617e+04,  1.2340e+04,  2.4193e+04,\n",
       "         1.6148e+04, -1.4350e+03,  1.6339e+04,  8.8330e+03,  1.8310e+03,\n",
       "        -5.7740e+03, -1.4330e+04, -9.3280e+03, -4.2750e+03, -3.5500e+02],\n",
       "       [-1.9680e+03,  1.4630e+03, -2.0540e+03,  5.1570e+03,  2.6540e+03,\n",
       "         1.4280e+03,  1.5410e+03, -2.4370e+03, -4.2570e+03, -4.3010e+03,\n",
       "        -2.2940e+03, -5.2460e+03, -9.3600e+02, -6.3600e+02, -7.1580e+03,\n",
       "         7.0400e+02,  2.5160e+03,  2.4830e+03,  2.6960e+03,  7.0000e+02]])"
      ]
     },
     "execution_count": 409,
     "metadata": {},
     "output_type": "execute_result"
    }
   ],
   "source": [
    "new_trans_convoluted_results"
   ]
  },
  {
   "cell_type": "code",
   "execution_count": 410,
   "metadata": {},
   "outputs": [
    {
     "data": {
      "text/plain": [
       "False"
      ]
     },
     "execution_count": 410,
     "metadata": {},
     "output_type": "execute_result"
    }
   ],
   "source": [
    "np.array_equal(new_trans_convoluted_results,trans_convoluted_results)"
   ]
  },
  {
   "cell_type": "code",
   "execution_count": 411,
   "metadata": {},
   "outputs": [],
   "source": [
    "new_trans_convoluted_results = np.zeros((matrix_size+4,matrix_size+4))\n",
    "lower_bound0 = matrix_size + 4\n",
    "lower_bound1 = matrix_size + 5\n",
    "lower_bound2 = matrix_size + 6\n",
    "lower_bound3 = matrix_size + 7\n",
    "\n",
    "for img_ytr in range(matrix_size+4):\n",
    "    for img_xptr in range(matrix_size+4):\n",
    "        conv = 0\n",
    "        if(img_yptr ==2 and img_xptr == 0): print(\"DEBUG\")\n",
    "        for k_yptr in range(5):\n",
    "            # for k_xptr in range(5):\n",
    "                idx_y = img_ytr + k_yptr\n",
    "                idx_x_0 = img_xptr + 0\n",
    "                idx_x_1 = img_xptr + 1\n",
    "                idx_x_2 = img_xptr + 2\n",
    "                idx_x_3 = img_xptr + 3\n",
    "                idx_x_4 = img_xptr + 4\n",
    "                # 0\n",
    "                if idx_y == 0 or idx_y == 1 or idx_y == 2 or \\\n",
    "                    idx_y == 3 or idx_x_0 == 0 or idx_x_0 == 1 \\\n",
    "                    or idx_x_0 == 2 or idx_x_0 == 3:\n",
    "                        conv += 0\n",
    "                elif idx_y == lower_bound0 or idx_y == lower_bound1 or idx_y == lower_bound2 or idx_y == lower_bound3 \\\n",
    "                    or idx_x_0 == lower_bound0 or idx_x_0 == lower_bound1 or idx_x_0 == lower_bound2 or idx_x_0 == lower_bound3 :\n",
    "                        conv += 0\n",
    "                else:\n",
    "                   conv += kernal[4-k_yptr,4] * img[idx_y-4,idx_x_0-4]\n",
    "                # 1\n",
    "                if idx_y == 0 or idx_y == 1 or idx_y == 2 or \\\n",
    "                    idx_y == 3 or idx_x_1 == 0 or idx_x_1 == 1 \\\n",
    "                    or idx_x_1 == 2 or idx_x_1 == 3:\n",
    "                        conv += 0\n",
    "                elif idx_y == lower_bound0 or idx_y == lower_bound1 or idx_y == lower_bound2 or idx_y == lower_bound3 \\\n",
    "                    or idx_x_1 == lower_bound0 or idx_x_1 == lower_bound1 or idx_x_1 == lower_bound2 or idx_x_1 == lower_bound3 :\n",
    "                        conv += 0\n",
    "                else:\n",
    "                   conv += kernal[4-k_yptr,3] * img[idx_y-4,idx_x_1-4]\n",
    "                # 2\n",
    "                if idx_y == 0 or idx_y == 1 or idx_y == 2 or \\\n",
    "                    idx_y == 3 or idx_x_2 == 0 or idx_x_2 == 1 \\\n",
    "                    or idx_x_2 == 2 or idx_x_2 == 3:\n",
    "                        conv += 0\n",
    "                elif idx_y == lower_bound0 or idx_y == lower_bound1 or idx_y == lower_bound2 or idx_y == lower_bound3 \\\n",
    "                    or idx_x_2 == lower_bound0 or idx_x_2 == lower_bound1 or idx_x_2 == lower_bound2 or idx_x_2 == lower_bound3 :\n",
    "                        conv += 0\n",
    "                else:\n",
    "                   conv += kernal[4-k_yptr,2] * img[idx_y-4,idx_x_2-4]\n",
    "                # 3\n",
    "                if idx_y == 0 or idx_y == 1 or idx_y == 2 or \\\n",
    "                    idx_y == 3 or idx_x_3 == 0 or idx_x_3 == 1 \\\n",
    "                    or idx_x_3 == 2 or idx_x_3 == 3:\n",
    "                        conv += 0\n",
    "                elif idx_y == lower_bound0 or idx_y == lower_bound1 or idx_y == lower_bound2 or idx_y == lower_bound3 \\\n",
    "                    or idx_x_3 == lower_bound0 or idx_x_3 == lower_bound1 or idx_x_3 == lower_bound2 or idx_x_3 == lower_bound3 :\n",
    "                        conv += 0\n",
    "                else:\n",
    "                   conv += kernal[4-k_yptr,1] * img[idx_y-4,idx_x_3-4]\n",
    "\n",
    "                # 4\n",
    "                if idx_y == 0 or idx_y == 1 or idx_y == 2 or \\\n",
    "                    idx_y == 3 or idx_x_4 == 0 or idx_x_4 == 1 \\\n",
    "                    or idx_x_4 == 2 or idx_x_4 == 3:\n",
    "                        conv += 0\n",
    "                elif idx_y == lower_bound0 or idx_y == lower_bound1 or idx_y == lower_bound2 or idx_y == lower_bound3 \\\n",
    "                    or idx_x_4 == lower_bound0 or idx_x_4 == lower_bound1 or idx_x_4 == lower_bound2 or idx_x_4 == lower_bound3 :\n",
    "                        conv += 0\n",
    "                else:\n",
    "                   conv += kernal[4-k_yptr,0] * img[idx_y-4,idx_x_4-4]\n",
    "\n",
    "        new_trans_convoluted_results[img_ytr,img_xptr] = conv\n"
   ]
  },
  {
   "cell_type": "code",
   "execution_count": 412,
   "metadata": {},
   "outputs": [
    {
     "data": {
      "text/plain": [
       "array([[-1.4500e+03, -1.3100e+02,  8.6400e+02, -5.1300e+02,  2.0130e+03,\n",
       "        -7.3550e+03,  2.9970e+03,  2.4240e+03,  5.4920e+03,  5.5870e+03,\n",
       "         3.8600e+02, -1.0840e+03, -6.2430e+03, -1.9070e+03, -3.2210e+03,\n",
       "         7.6050e+03,  2.7860e+03,  1.1460e+03, -4.9700e+02, -1.8400e+03],\n",
       "       [ 2.4050e+03, -1.3300e+03,  5.4300e+02, -4.4000e+03,  7.4210e+03,\n",
       "         8.6420e+03,  1.0065e+04,  3.1290e+03, -1.9108e+04, -1.8562e+04,\n",
       "        -1.9094e+04, -7.1370e+03,  1.4760e+03,  2.1894e+04,  1.2440e+04,\n",
       "        -8.6400e+02, -1.0459e+04, -2.1909e+04,  6.3100e+02,  3.5220e+03],\n",
       "       [ 1.8730e+03,  2.9800e+02,  2.3130e+03,  1.5773e+04,  8.3900e+02,\n",
       "        -1.3181e+04, -2.2772e+04, -3.4737e+04,  2.5960e+03, -7.6800e+02,\n",
       "        -7.1490e+03,  2.3890e+04,  2.1565e+04, -6.0100e+02, -1.6846e+04,\n",
       "        -3.1741e+04, -5.5460e+03,  1.5441e+04,  2.2000e+03,  1.8640e+03],\n",
       "       [-5.9240e+03,  1.9002e+04,  6.1270e+03, -3.6520e+03, -3.5584e+04,\n",
       "        -3.4679e+04,  5.6182e+04,  2.7631e+04,  2.2591e+04,  1.3966e+04,\n",
       "         9.8490e+03, -1.0371e+04, -2.6790e+04, -1.9644e+04,  2.0694e+04,\n",
       "         4.6319e+04,  1.8830e+03,  1.1756e+04, -5.5710e+03, -2.1815e+04],\n",
       "       [ 4.2150e+03, -1.6078e+04, -1.2780e+03,  7.4130e+03,  4.4663e+04,\n",
       "         3.4183e+04, -3.7651e+04, -2.7370e+03, -2.0945e+04, -2.2502e+04,\n",
       "        -8.9980e+03, -1.0679e+04,  5.2740e+03,  1.7237e+04, -2.8682e+04,\n",
       "        -7.5620e+03,  1.3377e+04, -4.6453e+04, -4.6370e+03,  8.6330e+03],\n",
       "       [-5.6980e+03, -1.9960e+03,  7.5070e+03,  1.1817e+04, -1.6458e+04,\n",
       "         6.2900e+03, -1.5755e+04, -3.6249e+04,  1.6674e+04,  1.1070e+04,\n",
       "        -6.0210e+03, -2.1800e+02, -2.4420e+03,  4.0698e+04,  3.5624e+04,\n",
       "        -7.2450e+03,  1.0058e+04,  5.4990e+03,  1.3170e+03,  2.1262e+04],\n",
       "       [-1.3930e+03, -1.9807e+04, -4.0249e+04,  8.4280e+03,  6.3150e+03,\n",
       "         2.5820e+03,  4.3107e+04,  2.8142e+04,  1.9634e+04,  1.7190e+03,\n",
       "        -4.7895e+04,  1.7440e+04,  2.0329e+04, -1.1169e+04, -2.4680e+03,\n",
       "        -1.6059e+04, -2.5001e+04,  2.1530e+03,  1.1080e+04, -2.8972e+04],\n",
       "       [ 2.2270e+03,  1.1004e+04,  2.1253e+04, -1.5190e+03, -4.7150e+03,\n",
       "        -5.1590e+03,  2.1397e+04,  1.8799e+04, -2.4267e+04, -1.0418e+04,\n",
       "         4.9320e+03, -7.1300e+02, -3.8155e+04, -4.3154e+04, -1.3409e+04,\n",
       "         2.4177e+04,  3.4914e+04,  3.2800e+03, -1.0848e+04,  4.4290e+03],\n",
       "       [ 1.8868e+04,  2.0815e+04, -1.2663e+04, -3.5540e+04, -3.2890e+04,\n",
       "        -1.8284e+04, -2.0474e+04, -4.3520e+03,  2.4040e+03,  1.0189e+04,\n",
       "         2.3974e+04,  1.9223e+04,  6.3810e+03,  7.1480e+03,  1.7384e+04,\n",
       "        -9.1690e+03, -2.1568e+04, -2.1048e+04,  1.2440e+03,  1.4758e+04],\n",
       "       [-2.0197e+04, -5.5780e+03,  1.2632e+04, -1.0208e+04,  2.4700e+02,\n",
       "         1.0653e+04, -1.3559e+04,  9.8400e+03,  1.3030e+04,  2.8706e+04,\n",
       "         8.3540e+03, -2.5834e+04,  1.4570e+03,  7.0910e+03, -2.8687e+04,\n",
       "        -3.7078e+04, -2.5667e+04, -1.5156e+04,  1.5682e+04, -1.6511e+04],\n",
       "       [ 2.2550e+03, -3.2643e+04, -2.5980e+03,  2.9671e+04, -1.7793e+04,\n",
       "        -3.6565e+04, -2.5892e+04,  1.2485e+04,  1.3913e+04, -3.3888e+04,\n",
       "        -4.7445e+04, -2.7895e+04, -2.0840e+03,  1.7992e+04,  7.1250e+03,\n",
       "        -9.3620e+03,  3.1879e+04,  4.9420e+03, -1.9787e+04, -5.2920e+03],\n",
       "       [ 5.0320e+03,  7.7750e+03, -1.7419e+04, -6.8230e+03,  6.0880e+03,\n",
       "        -1.4651e+04,  2.6897e+04, -3.7379e+04, -3.4812e+04, -8.2300e+02,\n",
       "         1.0262e+04,  4.2357e+04,  1.3728e+04, -1.3240e+04, -1.3454e+04,\n",
       "         1.0560e+04, -1.5889e+04, -2.0090e+04, -5.9230e+03, -9.3310e+03],\n",
       "       [ 4.2540e+03, -4.5740e+03, -2.1106e+04, -1.2990e+03,  3.6460e+03,\n",
       "        -2.6738e+04, -1.8668e+04, -5.4350e+03,  1.5127e+04,  1.8234e+04,\n",
       "         1.2790e+03, -2.6738e+04, -2.2025e+04, -2.1126e+04, -2.7221e+04,\n",
       "         7.4660e+03,  2.1550e+03, -1.1693e+04,  1.0500e+03,  4.4840e+03],\n",
       "       [-2.1710e+03,  1.0899e+04,  5.9600e+02, -1.5835e+04,  1.7673e+04,\n",
       "         2.5690e+04,  1.3970e+03,  2.1343e+04,  5.7190e+03, -2.6551e+04,\n",
       "        -1.6270e+04,  3.6751e+04,  1.2093e+04, -1.9800e+04,  3.1638e+04,\n",
       "        -4.0950e+04, -1.2067e+04, -1.2030e+03, -8.3730e+03,  2.0245e+04],\n",
       "       [ 1.8940e+04,  1.7296e+04,  1.3548e+04,  3.2900e+02, -3.6775e+04,\n",
       "         2.9350e+03,  2.3676e+04, -4.3746e+04, -1.2867e+04,  2.2740e+03,\n",
       "        -2.3184e+04, -2.5260e+03,  6.9980e+03,  3.5849e+04, -4.9350e+03,\n",
       "        -1.8440e+04, -1.3921e+04, -8.7350e+03, -3.2250e+03, -1.5348e+04],\n",
       "       [-1.1283e+04,  1.4918e+04, -1.5032e+04,  1.2526e+04,  1.5679e+04,\n",
       "        -2.5775e+04,  1.4940e+03,  1.8271e+04, -3.5100e+03,  3.8430e+03,\n",
       "         5.5993e+04, -1.2706e+04, -6.0070e+03, -2.3705e+04,  3.6000e+02,\n",
       "         3.3592e+04, -9.3360e+03,  1.0685e+04, -6.2600e+03,  7.6200e+02],\n",
       "       [-1.7315e+04, -2.3338e+04,  7.3710e+03,  4.6440e+03,  1.9440e+04,\n",
       "         4.8523e+04,  1.1640e+04,  1.9705e+04,  2.0507e+04, -1.9700e+03,\n",
       "        -2.6236e+04, -1.0625e+04,  1.2908e+04,  3.2481e+04, -1.8474e+04,\n",
       "        -9.2220e+03, -1.3340e+04, -3.6820e+04,  1.8621e+04, -8.7040e+03],\n",
       "       [ 8.9880e+03, -1.7206e+04,  6.7800e+03, -3.6500e+02, -1.6337e+04,\n",
       "         8.2350e+03,  1.8280e+03,  1.5733e+04, -1.2760e+03, -4.7730e+03,\n",
       "        -2.3425e+04,  2.1509e+04,  1.0559e+04, -1.9684e+04,  4.6000e+01,\n",
       "        -1.3394e+04,  2.2071e+04,  1.6727e+04, -7.5390e+03,  4.2410e+03],\n",
       "       [ 1.3280e+04,  1.1190e+03, -1.2948e+04, -3.3700e+03, -2.3819e+04,\n",
       "        -1.3378e+04,  4.6000e+03,  6.3500e+02,  1.3933e+04,  2.3078e+04,\n",
       "         7.7360e+03,  6.3820e+03,  3.1068e+04, -5.7100e+02,  1.5961e+04,\n",
       "         1.2858e+04, -2.1455e+04, -7.6680e+03, -1.4785e+04, -1.3560e+03],\n",
       "       [-2.7060e+03,  7.6850e+03, -7.7750e+03,  1.3750e+03,  1.1530e+04,\n",
       "        -9.9820e+03,  6.7360e+03,  3.0130e+03, -1.0497e+04, -7.7810e+03,\n",
       "         8.3210e+03, -1.3337e+04, -1.3440e+04,  1.7433e+04, -1.0038e+04,\n",
       "        -8.0740e+03,  7.2770e+03, -1.8960e+03,  5.4120e+03,  2.4640e+03]])"
      ]
     },
     "execution_count": 412,
     "metadata": {},
     "output_type": "execute_result"
    }
   ],
   "source": [
    "new_trans_convoluted_results"
   ]
  },
  {
   "cell_type": "markdown",
   "metadata": {},
   "source": [
    "#### Convert results to LSB binary representation"
   ]
  },
  {
   "cell_type": "code",
   "execution_count": 413,
   "metadata": {},
   "outputs": [
    {
     "data": {
      "text/plain": [
       "'00000000000000111001'"
      ]
     },
     "execution_count": 413,
     "metadata": {},
     "output_type": "execute_result"
    }
   ],
   "source": [
    "twocomplement(57,20)"
   ]
  },
  {
   "cell_type": "code",
   "execution_count": 414,
   "metadata": {},
   "outputs": [],
   "source": [
    "vf = np.vectorize(twocomplement)\n",
    "bits_result = vf(trans_convoluted_results,20)"
   ]
  },
  {
   "cell_type": "code",
   "execution_count": 415,
   "metadata": {},
   "outputs": [
    {
     "data": {
      "text/plain": [
       "'00000000001110100000'"
      ]
     },
     "execution_count": 415,
     "metadata": {},
     "output_type": "execute_result"
    }
   ],
   "source": [
    "bits_result[0][0]"
   ]
  },
  {
   "cell_type": "code",
   "execution_count": 416,
   "metadata": {},
   "outputs": [],
   "source": [
    "result = bits_result[0][0]"
   ]
  },
  {
   "cell_type": "code",
   "execution_count": 417,
   "metadata": {},
   "outputs": [],
   "source": [
    "result = result[::-1]"
   ]
  },
  {
   "cell_type": "code",
   "execution_count": 418,
   "metadata": {},
   "outputs": [
    {
     "data": {
      "text/plain": [
       "'00000101110000000000'"
      ]
     },
     "execution_count": 418,
     "metadata": {},
     "output_type": "execute_result"
    }
   ],
   "source": [
    "result"
   ]
  }
 ],
 "metadata": {
  "kernelspec": {
   "display_name": "Python 3",
   "language": "python",
   "name": "python3"
  },
  "language_info": {
   "codemirror_mode": {
    "name": "ipython",
    "version": 3
   },
   "file_extension": ".py",
   "mimetype": "text/x-python",
   "name": "python",
   "nbconvert_exporter": "python",
   "pygments_lexer": "ipython3",
   "version": "3.11.6"
  }
 },
 "nbformat": 4,
 "nbformat_minor": 2
}
