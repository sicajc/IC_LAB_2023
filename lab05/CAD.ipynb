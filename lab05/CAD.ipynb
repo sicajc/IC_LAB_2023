{
 "cells": [
  {
   "cell_type": "code",
   "execution_count": 174,
   "metadata": {},
   "outputs": [],
   "source": [
    "import numpy as np\n",
    "\n",
    "PATTERN_TO_DEBUG = 0\n",
    "\n",
    "def toDec(hexstr,BIT):\n",
    "    msb4bits = hexstr[0]\n",
    "    n = int(msb4bits, 16)\n",
    "    if n >= 8:\n",
    "        p = -1*pow(2,BIT-1)\n",
    "        addend = int(str(n-8) + hexstr[1:], 16)\n",
    "        return str( p + addend)\n",
    "    else:\n",
    "        return str(int(hexstr, 16))\n",
    "\n",
    "def int2hex(num,bit_width):\n",
    "    if num<0:\n",
    "        num = (1 << bit_width) + num\n",
    "    hex_string = hex(num)[2:]\n",
    "    return '{:0>{width}}'.format(hex_string,width = (bit_width+3)//4)\n",
    "\n",
    "NEGATE = {'1': '0', '0': '1'}\n",
    "def negate(value):\n",
    "    return ''.join(NEGATE[x] for x in value)\n",
    "\n",
    "def twocomplement(n, size_in_bits):\n",
    "    # print(n)\n",
    "    number = int(n)\n",
    "    if number < 0:\n",
    "        return negate(bin(abs(number) - 1)[2:]).rjust(size_in_bits, '1')\n",
    "    else:\n",
    "        return bin(number)[2:].rjust(size_in_bits, '0')\n",
    "\n",
    "NEGATE = {'1': '0', '0': '1'}\n",
    "def negate(value):\n",
    "    return ''.join(NEGATE[x] for x in value)\n",
    "\n",
    "def twocomplement(n, size_in_bits):\n",
    "    # print(n)\n",
    "    number = int(n)\n",
    "    if number < 0:\n",
    "        return negate(bin(abs(number) - 1)[2:]).rjust(size_in_bits, '1')\n",
    "    else:\n",
    "        return bin(number)[2:].rjust(size_in_bits, '0')\n"
   ]
  },
  {
   "cell_type": "code",
   "execution_count": 175,
   "metadata": {},
   "outputs": [],
   "source": [
    "with open('input.txt', 'r') as file:\n",
    "  file_in = file.readlines()\n",
    "\n",
    "NUM = int(file_in[0])\n",
    "\n",
    "# print(file_in)\n",
    "for i in range(NUM):\n",
    "  img_16 = []\n",
    "  kernal_16 = []\n",
    "  matrix_idx = []\n",
    "\n",
    "  # MATRIX SIZE\n",
    "  matrix_in_idx = int(file_in[1 + 50 * i + 0])\n",
    "\n",
    "  if matrix_in_idx == 0:\n",
    "     matrix_size = 8\n",
    "  elif matrix_in_idx == 1:\n",
    "     matrix_size = 16\n",
    "  else:\n",
    "     matrix_size = 32\n",
    "\n",
    "  for j in range(16):\n",
    "    img_in = np.array([int(toDec(val,8)) for val in file_in[1 + 50 * i + (1+j)].split()])\n",
    "    img_16.append(np.reshape(img_in,(matrix_size,matrix_size)))\n",
    "\n",
    "  for k in range(16):\n",
    "    kernal_in = np.array([int(toDec(val,8)) for val in file_in[1 + 50 * i + (17+k)].split()])\n",
    "    kernal_16.append(np.reshape(kernal_in,(5,5)))\n",
    "\n",
    "  mode = int(file_in[1 + 50 * i + 33])\n",
    "\n",
    "  for idx in range(16):\n",
    "    matrix_idx.append(np.array([int(val) for val in file_in[1 + 50 * i + (34+idx)].split()]))\n",
    "\n",
    "  if i == PATTERN_TO_DEBUG:\n",
    "    break"
   ]
  },
  {
   "cell_type": "code",
   "execution_count": 176,
   "metadata": {},
   "outputs": [
    {
     "data": {
      "text/plain": [
       "array([[2, 1, 1, 1, 1, 1, 1, 2],\n",
       "       [1, 1, 1, 1, 2, 2, 2, 1],\n",
       "       [1, 1, 1, 1, 2, 1, 1, 2],\n",
       "       [1, 1, 1, 2, 1, 2, 2, 2],\n",
       "       [2, 1, 1, 2, 1, 1, 1, 2],\n",
       "       [1, 2, 2, 1, 1, 1, 2, 1],\n",
       "       [1, 1, 1, 1, 2, 1, 1, 2],\n",
       "       [2, 1, 2, 2, 1, 1, 2, 1]])"
      ]
     },
     "execution_count": 176,
     "metadata": {},
     "output_type": "execute_result"
    }
   ],
   "source": [
    "img_16[0]"
   ]
  },
  {
   "cell_type": "code",
   "execution_count": 177,
   "metadata": {},
   "outputs": [
    {
     "data": {
      "text/plain": [
       "array([[1, 1, 1, 1, 2],\n",
       "       [2, 1, 2, 1, 1],\n",
       "       [1, 1, 2, 1, 2],\n",
       "       [2, 1, 2, 2, 1],\n",
       "       [2, 2, 1, 2, 1]])"
      ]
     },
     "execution_count": 177,
     "metadata": {},
     "output_type": "execute_result"
    }
   ],
   "source": [
    "kernal_16[0]"
   ]
  },
  {
   "cell_type": "code",
   "execution_count": 178,
   "metadata": {},
   "outputs": [
    {
     "data": {
      "text/plain": [
       "array([8, 0])"
      ]
     },
     "execution_count": 178,
     "metadata": {},
     "output_type": "execute_result"
    }
   ],
   "source": [
    "matrix_idx[0]"
   ]
  },
  {
   "cell_type": "code",
   "execution_count": 179,
   "metadata": {},
   "outputs": [
    {
     "data": {
      "text/plain": [
       "8"
      ]
     },
     "execution_count": 179,
     "metadata": {},
     "output_type": "execute_result"
    }
   ],
   "source": [
    "matrix_size"
   ]
  },
  {
   "cell_type": "markdown",
   "metadata": {},
   "source": [
    "## Convolution"
   ]
  },
  {
   "cell_type": "code",
   "execution_count": 180,
   "metadata": {},
   "outputs": [],
   "source": [
    "img = img_16[0]\n",
    "kernal = kernal_16[0]\n",
    "\n",
    "convoluted_results = np.zeros((matrix_size-4,matrix_size-4))\n",
    "for i in range(matrix_size-4):\n",
    "    for j in range(matrix_size-4):\n",
    "        conv = 0\n",
    "        for k in range(5):\n",
    "            for l in range(5):\n",
    "                conv += kernal[k,l] * img[i+k,j+l]\n",
    "\n",
    "        convoluted_results[i,j] = conv"
   ]
  },
  {
   "cell_type": "code",
   "execution_count": 181,
   "metadata": {},
   "outputs": [
    {
     "data": {
      "text/plain": [
       "array([[46., 43., 48., 55.],\n",
       "       [47., 50., 50., 52.],\n",
       "       [45., 47., 45., 53.],\n",
       "       [49., 48., 51., 51.]])"
      ]
     },
     "execution_count": 181,
     "metadata": {},
     "output_type": "execute_result"
    }
   ],
   "source": [
    "convoluted_results"
   ]
  },
  {
   "cell_type": "markdown",
   "metadata": {},
   "source": [
    "## Maxpooling"
   ]
  },
  {
   "cell_type": "code",
   "execution_count": 182,
   "metadata": {},
   "outputs": [],
   "source": [
    "convoluted_img_width = len(convoluted_results)"
   ]
  },
  {
   "cell_type": "code",
   "execution_count": 183,
   "metadata": {},
   "outputs": [],
   "source": [
    "max_pooling_results = np.zeros((convoluted_img_width//2,convoluted_img_width//2))\n",
    "for i in range(0,convoluted_img_width,2):\n",
    "    for j in range(0,convoluted_img_width,2):\n",
    "        max_pooling_results[i//2,j//2] = max(convoluted_results[i,j],convoluted_results[i+1,j],\\\n",
    "                                                convoluted_results[i+1,j+1],convoluted_results[i,j+1])"
   ]
  },
  {
   "cell_type": "code",
   "execution_count": 184,
   "metadata": {},
   "outputs": [
    {
     "data": {
      "text/plain": [
       "array([[50., 55.],\n",
       "       [49., 53.]])"
      ]
     },
     "execution_count": 184,
     "metadata": {},
     "output_type": "execute_result"
    }
   ],
   "source": [
    "max_pooling_results"
   ]
  },
  {
   "cell_type": "markdown",
   "metadata": {},
   "source": [
    "### Transposed convolution"
   ]
  },
  {
   "cell_type": "code",
   "execution_count": 185,
   "metadata": {},
   "outputs": [],
   "source": [
    "trans_convoluted_results = np.zeros((matrix_size+4,matrix_size+4))\n",
    "for i in range(matrix_size):\n",
    "    for k in range(5):\n",
    "        for j in range(matrix_size):\n",
    "            for l in range(5):\n",
    "                conv = kernal[k,l] * img[i,j]\n",
    "                trans_convoluted_results[i+k,j+l] += conv"
   ]
  },
  {
   "cell_type": "code",
   "execution_count": 186,
   "metadata": {},
   "outputs": [
    {
     "data": {
      "text/plain": [
       "array([2., 3., 4., 5., 8., 6., 6., 7., 6., 5., 4., 4.])"
      ]
     },
     "execution_count": 186,
     "metadata": {},
     "output_type": "execute_result"
    }
   ],
   "source": [
    "trans_convoluted_results[0]"
   ]
  },
  {
   "cell_type": "markdown",
   "metadata": {},
   "source": [
    "#### Convert results to LSB binary representation"
   ]
  },
  {
   "cell_type": "code",
   "execution_count": 187,
   "metadata": {},
   "outputs": [
    {
     "data": {
      "text/plain": [
       "'11111111'"
      ]
     },
     "execution_count": 187,
     "metadata": {},
     "output_type": "execute_result"
    }
   ],
   "source": [
    "twocomplement(-1,8)"
   ]
  },
  {
   "cell_type": "code",
   "execution_count": 188,
   "metadata": {},
   "outputs": [],
   "source": [
    "vf = np.vectorize(twocomplement)\n",
    "bits_result = vf(trans_convoluted_results,20)"
   ]
  },
  {
   "cell_type": "code",
   "execution_count": 189,
   "metadata": {},
   "outputs": [
    {
     "data": {
      "text/plain": [
       "'00000000000000000010'"
      ]
     },
     "execution_count": 189,
     "metadata": {},
     "output_type": "execute_result"
    }
   ],
   "source": [
    "bits_result[0][0]"
   ]
  },
  {
   "cell_type": "code",
   "execution_count": 190,
   "metadata": {},
   "outputs": [],
   "source": [
    "result = bits_result[0][0]"
   ]
  },
  {
   "cell_type": "code",
   "execution_count": 191,
   "metadata": {},
   "outputs": [],
   "source": [
    "result = result[::-1]"
   ]
  },
  {
   "cell_type": "code",
   "execution_count": 192,
   "metadata": {},
   "outputs": [
    {
     "data": {
      "text/plain": [
       "'01000000000000000000'"
      ]
     },
     "execution_count": 192,
     "metadata": {},
     "output_type": "execute_result"
    }
   ],
   "source": [
    "result"
   ]
  }
 ],
 "metadata": {
  "kernelspec": {
   "display_name": "Python 3",
   "language": "python",
   "name": "python3"
  },
  "language_info": {
   "codemirror_mode": {
    "name": "ipython",
    "version": 3
   },
   "file_extension": ".py",
   "mimetype": "text/x-python",
   "name": "python",
   "nbconvert_exporter": "python",
   "pygments_lexer": "ipython3",
   "version": "3.11.6"
  }
 },
 "nbformat": 4,
 "nbformat_minor": 2
}
