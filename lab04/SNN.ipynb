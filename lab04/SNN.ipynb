{
 "cells": [
  {
   "cell_type": "markdown",
   "metadata": {},
   "source": [
    "#### 0. Create 3 kernals, 2 images with 3 channels\n"
   ]
  },
  {
   "cell_type": "code",
   "execution_count": 87,
   "metadata": {},
   "outputs": [],
   "source": [
    "import random as rd\n",
    "import numpy as np\n",
    "import struct\n",
    "import math\n",
    "\n",
    "KERNAL_SIZE = 3\n",
    "IMG_SIZE    = 4\n",
    "\n",
    "rd.seed(1234)\n",
    "\n",
    "\n",
    "\n",
    "kernal0  = np.array([[rd.randint(1,3) for i in range(KERNAL_SIZE)] for j in range(KERNAL_SIZE)], dtype=\"float32\")\n",
    "kernal1  = np.array([[rd.randint(1,3) for i in range(KERNAL_SIZE)] for j in range(KERNAL_SIZE)], dtype=\"float32\")\n",
    "kernal2  = np.array([[rd.randint(1,3) for i in range(KERNAL_SIZE)] for j in range(KERNAL_SIZE)], dtype=\"float32\")\n",
    "\n",
    "img0_0    = np.array([[rd.randint(1,3) for i in range(IMG_SIZE)] for j in range(IMG_SIZE)], dtype=\"float32\")\n",
    "img0_1    = np.array([[rd.randint(1,3) for i in range(IMG_SIZE)] for j in range(IMG_SIZE)], dtype=\"float32\")\n",
    "img0_2    = np.array([[rd.randint(1,3) for i in range(IMG_SIZE)] for j in range(IMG_SIZE)], dtype=\"float32\")\n",
    "\n",
    "img1_0    = np.array([[rd.randint(1,3) for i in range(IMG_SIZE)] for j in range(IMG_SIZE)], dtype=\"float32\")\n",
    "img1_1    = np.array([[rd.randint(1,3) for i in range(IMG_SIZE)] for j in range(IMG_SIZE)], dtype=\"float32\")\n",
    "img1_2    = np.array([[rd.randint(1,3) for i in range(IMG_SIZE)] for j in range(IMG_SIZE)], dtype=\"float32\")\n",
    "\n",
    "weight    = np.array([[rd.randint(1,3) for i in range(2)] for j in range(2)], dtype=\"float32\")\n"
   ]
  },
  {
   "cell_type": "code",
   "execution_count": 88,
   "metadata": {},
   "outputs": [
    {
     "data": {
      "text/plain": [
       "(array([[2., 1., 1.],\n",
       "        [1., 3., 1.],\n",
       "        [3., 3., 1.]], dtype=float32),\n",
       " array([[1., 2., 1.],\n",
       "        [1., 1., 1.],\n",
       "        [2., 3., 3.]], dtype=float32),\n",
       " array([[2., 3., 2.],\n",
       "        [1., 1., 1.],\n",
       "        [3., 1., 1.]], dtype=float32))"
      ]
     },
     "execution_count": 88,
     "metadata": {},
     "output_type": "execute_result"
    }
   ],
   "source": [
    "kernal0,kernal1,kernal2"
   ]
  },
  {
   "cell_type": "code",
   "execution_count": 89,
   "metadata": {},
   "outputs": [
    {
     "data": {
      "text/plain": [
       "(array([[3., 2., 1., 1.],\n",
       "        [3., 3., 2., 1.],\n",
       "        [3., 3., 1., 3.],\n",
       "        [3., 1., 2., 3.]], dtype=float32),\n",
       " array([[1., 2., 1., 3.],\n",
       "        [1., 3., 2., 2.],\n",
       "        [1., 2., 2., 3.],\n",
       "        [1., 1., 2., 1.]], dtype=float32))"
      ]
     },
     "execution_count": 89,
     "metadata": {},
     "output_type": "execute_result"
    }
   ],
   "source": [
    "img0_0,img1_0"
   ]
  },
  {
   "cell_type": "code",
   "execution_count": 90,
   "metadata": {},
   "outputs": [
    {
     "data": {
      "text/plain": [
       "array([[2., 3.],\n",
       "       [1., 2.]], dtype=float32)"
      ]
     },
     "execution_count": 90,
     "metadata": {},
     "output_type": "execute_result"
    }
   ],
   "source": [
    "weight"
   ]
  },
  {
   "cell_type": "markdown",
   "metadata": {},
   "source": [
    "#### 1. Do zero-padding and convolution related to signals\n"
   ]
  },
  {
   "cell_type": "markdown",
   "metadata": {},
   "source": [
    "#### 0.Zero-padding, since reading into an array with raster scan order, place it into the correct position"
   ]
  },
  {
   "cell_type": "code",
   "execution_count": 91,
   "metadata": {},
   "outputs": [],
   "source": [
    "zero_padded_img = np.zeros((IMG_SIZE+2,IMG_SIZE+2),dtype= 'float32')"
   ]
  },
  {
   "cell_type": "code",
   "execution_count": 92,
   "metadata": {},
   "outputs": [
    {
     "data": {
      "text/plain": [
       "array([[0., 0., 0., 0., 0., 0.],\n",
       "       [0., 0., 0., 0., 0., 0.],\n",
       "       [0., 0., 0., 0., 0., 0.],\n",
       "       [0., 0., 0., 0., 0., 0.],\n",
       "       [0., 0., 0., 0., 0., 0.],\n",
       "       [0., 0., 0., 0., 0., 0.]], dtype=float32)"
      ]
     },
     "execution_count": 92,
     "metadata": {},
     "output_type": "execute_result"
    }
   ],
   "source": [
    "zero_padded_img"
   ]
  },
  {
   "cell_type": "code",
   "execution_count": 93,
   "metadata": {},
   "outputs": [],
   "source": [
    "\n",
    "for i in range(IMG_SIZE):\n",
    "    for j in range(IMG_SIZE):\n",
    "        zero_padded_img[i+1,j+1] = img0_0[i,j]\n"
   ]
  },
  {
   "cell_type": "code",
   "execution_count": 94,
   "metadata": {},
   "outputs": [
    {
     "data": {
      "text/plain": [
       "array([[0., 0., 0., 0., 0., 0.],\n",
       "       [0., 3., 2., 1., 1., 0.],\n",
       "       [0., 3., 3., 2., 1., 0.],\n",
       "       [0., 3., 3., 1., 3., 0.],\n",
       "       [0., 3., 1., 2., 3., 0.],\n",
       "       [0., 0., 0., 0., 0., 0.]], dtype=float32)"
      ]
     },
     "execution_count": 94,
     "metadata": {},
     "output_type": "execute_result"
    }
   ],
   "source": [
    "zero_padded_img"
   ]
  },
  {
   "cell_type": "markdown",
   "metadata": {},
   "source": [
    "## Replication"
   ]
  },
  {
   "cell_type": "code",
   "execution_count": 95,
   "metadata": {},
   "outputs": [],
   "source": [
    "replicated_img = np.zeros((IMG_SIZE+2,IMG_SIZE+2),dtype= 'float32')\n",
    "for i in range(IMG_SIZE):\n",
    "    for j in range(IMG_SIZE):\n",
    "        pixel = img0_0[i,j]\n",
    "        # Check 4 corners\n",
    "        # 4 corners\n",
    "        if i == 0 and j == 0:\n",
    "            replicated_img[0][0] = pixel\n",
    "            replicated_img[0][1] = pixel\n",
    "            replicated_img[1][0] = pixel\n",
    "            replicated_img[1][1] = pixel\n",
    "        elif i == 0 and j == IMG_SIZE-1:\n",
    "            replicated_img[1][4] = pixel\n",
    "            replicated_img[1][5] = pixel\n",
    "            replicated_img[0][4] = pixel\n",
    "            replicated_img[0][5] = pixel\n",
    "        elif i == IMG_SIZE -1 and j == 0:\n",
    "            replicated_img[4][1] = pixel\n",
    "            replicated_img[4][0] = pixel\n",
    "            replicated_img[5][0] = pixel\n",
    "            replicated_img[5][1] = pixel\n",
    "        elif i == IMG_SIZE -1 and j == IMG_SIZE-1:\n",
    "            replicated_img[4][4] = pixel\n",
    "            replicated_img[4][5] = pixel\n",
    "            replicated_img[5][4] = pixel\n",
    "            replicated_img[5][5] = pixel\n",
    "        elif i == 0:\n",
    "            replicated_img[0][j+1] = pixel\n",
    "            replicated_img[1][j+1] = pixel\n",
    "        elif j == 0:\n",
    "            replicated_img[i+1][0] = pixel\n",
    "            replicated_img[i+1][1] = pixel\n",
    "        elif i == IMG_SIZE -1:\n",
    "            replicated_img[4][j+1] = pixel\n",
    "            replicated_img[5][j+1] = pixel\n",
    "        elif j == IMG_SIZE -1:\n",
    "            replicated_img[i+1][4] = pixel\n",
    "            replicated_img[i+1][5] = pixel\n",
    "        else:\n",
    "            replicated_img[i+1][j+1] = pixel\n"
   ]
  },
  {
   "cell_type": "code",
   "execution_count": 96,
   "metadata": {},
   "outputs": [
    {
     "data": {
      "text/plain": [
       "array([[3., 3., 2., 1., 1., 1.],\n",
       "       [3., 3., 2., 1., 1., 1.],\n",
       "       [3., 3., 3., 2., 1., 1.],\n",
       "       [3., 3., 3., 1., 3., 3.],\n",
       "       [3., 3., 1., 2., 3., 3.],\n",
       "       [3., 3., 1., 2., 3., 3.]], dtype=float32)"
      ]
     },
     "execution_count": 96,
     "metadata": {},
     "output_type": "execute_result"
    }
   ],
   "source": [
    "replicated_img"
   ]
  },
  {
   "cell_type": "code",
   "execution_count": 97,
   "metadata": {},
   "outputs": [],
   "source": [
    "def zero_padded_img(img):\n",
    "    zero_padded_img = np.zeros((IMG_SIZE+2,IMG_SIZE+2),dtype= 'float32')\n",
    "    for i in range(IMG_SIZE):\n",
    "        for j in range(IMG_SIZE):\n",
    "            zero_padded_img[i+1,j+1] = img[i,j]\n",
    "\n",
    "    return zero_padded_img\n",
    "\n",
    "def replication(img):\n",
    "    replicated_img = np.zeros((IMG_SIZE+2,IMG_SIZE+2),dtype= 'float32')\n",
    "    for i in range(IMG_SIZE):\n",
    "        for j in range(IMG_SIZE):\n",
    "            pixel = img[i,j]\n",
    "            # Check 4 corners\n",
    "            # 4 corners\n",
    "            if i == 0 and j == 0:\n",
    "                replicated_img[0][0] = pixel\n",
    "                replicated_img[0][1] = pixel\n",
    "                replicated_img[1][0] = pixel\n",
    "                replicated_img[1][1] = pixel\n",
    "            elif i == 0 and j == IMG_SIZE-1:\n",
    "                replicated_img[1][4] = pixel\n",
    "                replicated_img[1][5] = pixel\n",
    "                replicated_img[0][4] = pixel\n",
    "                replicated_img[0][5] = pixel\n",
    "            elif i == IMG_SIZE -1 and j == 0:\n",
    "                replicated_img[4][1] = pixel\n",
    "                replicated_img[4][0] = pixel\n",
    "                replicated_img[5][0] = pixel\n",
    "                replicated_img[5][1] = pixel\n",
    "            elif i == IMG_SIZE -1 and j == IMG_SIZE-1:\n",
    "                replicated_img[4][4] = pixel\n",
    "                replicated_img[4][5] = pixel\n",
    "                replicated_img[5][4] = pixel\n",
    "                replicated_img[5][5] = pixel\n",
    "            elif i == 0:\n",
    "                replicated_img[0][j+1] = pixel\n",
    "                replicated_img[1][j+1] = pixel\n",
    "            elif j == 0:\n",
    "                replicated_img[i+1][0] = pixel\n",
    "                replicated_img[i+1][1] = pixel\n",
    "            elif i == IMG_SIZE -1:\n",
    "                replicated_img[4][j+1] = pixel\n",
    "                replicated_img[5][j+1] = pixel\n",
    "            elif j == IMG_SIZE -1:\n",
    "                replicated_img[i+1][4] = pixel\n",
    "                replicated_img[i+1][5] = pixel\n",
    "            else:\n",
    "                replicated_img[i+1][j+1] = pixel\n",
    "\n",
    "    return replicated_img\n"
   ]
  },
  {
   "cell_type": "markdown",
   "metadata": {},
   "source": [
    "### Use Zeropadded for further testing"
   ]
  },
  {
   "cell_type": "code",
   "execution_count": 98,
   "metadata": {},
   "outputs": [],
   "source": [
    "img0_0 = zero_padded_img(img0_0)\n",
    "img0_1 = zero_padded_img(img0_1)\n",
    "img0_2 = zero_padded_img(img0_2)"
   ]
  },
  {
   "cell_type": "code",
   "execution_count": 99,
   "metadata": {},
   "outputs": [
    {
     "data": {
      "text/plain": [
       "array([[0., 0., 0., 0., 0., 0.],\n",
       "       [0., 3., 2., 1., 1., 0.],\n",
       "       [0., 3., 3., 2., 1., 0.],\n",
       "       [0., 3., 3., 1., 3., 0.],\n",
       "       [0., 3., 1., 2., 3., 0.],\n",
       "       [0., 0., 0., 0., 0., 0.]], dtype=float32)"
      ]
     },
     "execution_count": 99,
     "metadata": {},
     "output_type": "execute_result"
    }
   ],
   "source": [
    "img0_0"
   ]
  },
  {
   "cell_type": "markdown",
   "metadata": {},
   "source": [
    "#### 2. Sum add convolution, fill up 4 max pooling results.\n"
   ]
  },
  {
   "cell_type": "code",
   "execution_count": 100,
   "metadata": {},
   "outputs": [],
   "source": [
    "convoluted_results = np.zeros((IMG_SIZE,IMG_SIZE),dtype= 'float32')"
   ]
  },
  {
   "cell_type": "code",
   "execution_count": 101,
   "metadata": {},
   "outputs": [],
   "source": [
    "for i in range(IMG_SIZE):\n",
    "    for j in range(IMG_SIZE):\n",
    "        conv1,conv2,conv3 = np.float32(0),np.float32(0),np.float32(0)\n",
    "        for k in range(KERNAL_SIZE):\n",
    "            for l in range(KERNAL_SIZE):\n",
    "                conv1 += kernal0[k,l] * img0_0[i+k,j+l]\n",
    "                conv2 += kernal1[k,l] * img0_1[i+k,j+l]\n",
    "                conv3 += kernal2[k,l] * img0_2[i+k,j+l]\n",
    "\n",
    "        convoluted_results[i,j] = conv1 + conv2 + conv3\n"
   ]
  },
  {
   "cell_type": "code",
   "execution_count": 102,
   "metadata": {},
   "outputs": [],
   "source": [
    "def convolution(img0_0, img0_1,img0_2):\n",
    "    convoluted_results = np.zeros((IMG_SIZE,IMG_SIZE),dtype= 'float32')\n",
    "    for i in range(IMG_SIZE):\n",
    "        for j in range(IMG_SIZE):\n",
    "            conv1,conv2,conv3 = np.float32(0),np.float32(0),np.float32(0)\n",
    "            for k in range(KERNAL_SIZE):\n",
    "                for l in range(KERNAL_SIZE):\n",
    "                    conv1 += kernal0[k,l] * img0_0[i+k,j+l]\n",
    "                    conv2 += kernal1[k,l] * img0_1[i+k,j+l]\n",
    "                    conv3 += kernal2[k,l] * img0_2[i+k,j+l]\n",
    "\n",
    "            convoluted_results[i,j] = conv1 + conv2 + conv3\n",
    "\n",
    "    return convoluted_results"
   ]
  },
  {
   "cell_type": "code",
   "execution_count": 103,
   "metadata": {},
   "outputs": [
    {
     "data": {
      "text/plain": [
       "numpy.float32"
      ]
     },
     "execution_count": 103,
     "metadata": {},
     "output_type": "execute_result"
    }
   ],
   "source": [
    "type(conv1)"
   ]
  },
  {
   "cell_type": "code",
   "execution_count": 104,
   "metadata": {},
   "outputs": [
    {
     "data": {
      "text/plain": [
       "array([[ 47.,  67.,  59.,  37.],\n",
       "       [ 64., 100.,  99.,  66.],\n",
       "       [ 70.,  92.,  83.,  60.],\n",
       "       [ 37.,  51.,  55.,  36.]], dtype=float32)"
      ]
     },
     "execution_count": 104,
     "metadata": {},
     "output_type": "execute_result"
    }
   ],
   "source": [
    "convoluted_results"
   ]
  },
  {
   "cell_type": "markdown",
   "metadata": {},
   "source": [
    "### Max pooling"
   ]
  },
  {
   "cell_type": "code",
   "execution_count": 105,
   "metadata": {},
   "outputs": [],
   "source": [
    "max_pooled_result = np.zeros((2,2),dtype='float32')\n",
    "for i in range(0,4,2):\n",
    "    for j in range(0,4,2):\n",
    "        temp_max = np.float32(0)\n",
    "        for k in range(0,2):\n",
    "            for l in range(0,2):\n",
    "                if temp_max < convoluted_results[i+k,j+l]:\n",
    "                    temp_max = convoluted_results[i+k,j+l]\n",
    "\n",
    "        max_pooled_result[i//2,j//2] = temp_max\n"
   ]
  },
  {
   "cell_type": "code",
   "execution_count": 106,
   "metadata": {},
   "outputs": [],
   "source": [
    "def max_pooling(convoluted_results):\n",
    "    max_pooled_result = np.zeros((2,2),dtype='float32')\n",
    "    # Finish this with 2 cycles\n",
    "    for i in range(0,4,2):\n",
    "        # Parallelize this using 2 comparators\n",
    "        for j in range(0,4,2):\n",
    "            temp_max = np.float32(0)\n",
    "            for k in range(0,2):\n",
    "                for l in range(0,2):\n",
    "                    if temp_max < convoluted_results[i+k,j+l]:\n",
    "                        temp_max = convoluted_results[i+k,j+l]\n",
    "\n",
    "            max_pooled_result[i//2,j//2] = temp_max\n",
    "\n",
    "    return max_pooled_result\n"
   ]
  },
  {
   "cell_type": "code",
   "execution_count": 107,
   "metadata": {},
   "outputs": [
    {
     "data": {
      "text/plain": [
       "numpy.float32"
      ]
     },
     "execution_count": 107,
     "metadata": {},
     "output_type": "execute_result"
    }
   ],
   "source": [
    "type(temp_max)"
   ]
  },
  {
   "cell_type": "code",
   "execution_count": 108,
   "metadata": {},
   "outputs": [
    {
     "data": {
      "text/plain": [
       "array([[100.,  99.],\n",
       "       [ 92.,  83.]], dtype=float32)"
      ]
     },
     "execution_count": 108,
     "metadata": {},
     "output_type": "execute_result"
    }
   ],
   "source": [
    "max_pooled_result"
   ]
  },
  {
   "cell_type": "code",
   "execution_count": 109,
   "metadata": {},
   "outputs": [
    {
     "data": {
      "text/plain": [
       "array([[2., 3.],\n",
       "       [1., 2.]], dtype=float32)"
      ]
     },
     "execution_count": 109,
     "metadata": {},
     "output_type": "execute_result"
    }
   ],
   "source": [
    "weight"
   ]
  },
  {
   "cell_type": "markdown",
   "metadata": {},
   "source": [
    "#### 3. Fully connected layers with matrix multiplication\n",
    "### Finding the min-max of fully as computing the fully connected layers."
   ]
  },
  {
   "cell_type": "code",
   "execution_count": 110,
   "metadata": {},
   "outputs": [],
   "source": [
    "fully_connected_result = np.zeros((4,1),dtype='float32')\n",
    "\n",
    "LARGE_NUMBER = 99999999999999999999999999999\n",
    "SMALL_NUMBER = -99999999999999999999999999999\n",
    "\n",
    "min = np.float32(LARGE_NUMBER)\n",
    "max = np.float32(SMALL_NUMBER)\n",
    "\n",
    "for i in range(2):\n",
    "    for j in range(2):\n",
    "        partial_mult = 0\n",
    "        for k in range(2):\n",
    "            partial_mult += max_pooled_result[i,k] * weight[k,j]\n",
    "\n",
    "        if partial_mult > max:\n",
    "            max = partial_mult\n",
    "        if partial_mult < min:\n",
    "            min = partial_mult\n",
    "\n",
    "        fully_connected_result[i*2+j] = partial_mult\n"
   ]
  },
  {
   "cell_type": "code",
   "execution_count": 111,
   "metadata": {},
   "outputs": [],
   "source": [
    "def fully_connection(max_pooled_result,weight):\n",
    "    fully_connected_result = np.zeros((4,1),dtype='float32')\n",
    "    min = np.float32(LARGE_NUMBER)\n",
    "    max = np.float32(SMALL_NUMBER)\n",
    "\n",
    "    for i in range(2):\n",
    "        for j in range(2):\n",
    "            partial_mult = 0\n",
    "            for k in range(2):\n",
    "                partial_mult += max_pooled_result[i,k] * weight[k,j]\n",
    "\n",
    "            if partial_mult > max:\n",
    "                max = partial_mult\n",
    "            if partial_mult < min:\n",
    "                min = partial_mult\n",
    "\n",
    "            fully_connected_result[i*2+j] = partial_mult\n",
    "\n",
    "    return fully_connected_result\n"
   ]
  },
  {
   "cell_type": "code",
   "execution_count": 112,
   "metadata": {},
   "outputs": [
    {
     "data": {
      "text/plain": [
       "numpy.float64"
      ]
     },
     "execution_count": 112,
     "metadata": {},
     "output_type": "execute_result"
    }
   ],
   "source": [
    "type(min)"
   ]
  },
  {
   "cell_type": "code",
   "execution_count": 113,
   "metadata": {},
   "outputs": [],
   "source": [
    "fully_connected_result = fully_connection(max_pooled_result,weight)"
   ]
  },
  {
   "cell_type": "code",
   "execution_count": 114,
   "metadata": {},
   "outputs": [
    {
     "data": {
      "text/plain": [
       "array([[299.],\n",
       "       [498.],\n",
       "       [267.],\n",
       "       [442.]], dtype=float32)"
      ]
     },
     "execution_count": 114,
     "metadata": {},
     "output_type": "execute_result"
    }
   ],
   "source": [
    "fully_connected_result"
   ]
  },
  {
   "cell_type": "code",
   "execution_count": 115,
   "metadata": {},
   "outputs": [
    {
     "data": {
      "text/plain": [
       "(numpy.float64, 267.0)"
      ]
     },
     "execution_count": 115,
     "metadata": {},
     "output_type": "execute_result"
    }
   ],
   "source": [
    "type(max),min"
   ]
  },
  {
   "cell_type": "markdown",
   "metadata": {},
   "source": [
    "#### 5. Do the min-max Normalization\n"
   ]
  },
  {
   "cell_type": "code",
   "execution_count": 116,
   "metadata": {},
   "outputs": [],
   "source": [
    "x_scaled = np.zeros((4,1),dtype='float32')\n",
    "for i,x in enumerate(fully_connected_result):\n",
    "    x_scaled[i] = (x-min) / (max-min)"
   ]
  },
  {
   "cell_type": "code",
   "execution_count": 117,
   "metadata": {},
   "outputs": [],
   "source": [
    "def min_max_norm(fully_connected_result):\n",
    "    x_scaled = np.zeros((4,1),dtype='float32')\n",
    "    for i,x in enumerate(fully_connected_result):\n",
    "        x_scaled[i] = (x-min) / (max-min)\n",
    "\n",
    "    return x_scaled"
   ]
  },
  {
   "cell_type": "code",
   "execution_count": 118,
   "metadata": {},
   "outputs": [],
   "source": [
    "x_scaled = min_max_norm(fully_connected_result)"
   ]
  },
  {
   "cell_type": "code",
   "execution_count": 119,
   "metadata": {},
   "outputs": [
    {
     "data": {
      "text/plain": [
       "array([[0.13852814],\n",
       "       [1.        ],\n",
       "       [0.        ],\n",
       "       [0.75757575]], dtype=float32)"
      ]
     },
     "execution_count": 119,
     "metadata": {},
     "output_type": "execute_result"
    }
   ],
   "source": [
    "x_scaled"
   ]
  },
  {
   "cell_type": "markdown",
   "metadata": {},
   "source": [
    "#### 6. Do the sigmoid activation function"
   ]
  },
  {
   "cell_type": "markdown",
   "metadata": {},
   "source": [
    "## Sigmoid"
   ]
  },
  {
   "cell_type": "code",
   "execution_count": 120,
   "metadata": {},
   "outputs": [],
   "source": [
    "activated_value = np.zeros((4,1),dtype='float32')"
   ]
  },
  {
   "cell_type": "code",
   "execution_count": 121,
   "metadata": {},
   "outputs": [],
   "source": [
    "for i,e in enumerate(x_scaled):\n",
    "    activated_value[i] = 1/(1+np.exp(-e,dtype='float32'))"
   ]
  },
  {
   "cell_type": "code",
   "execution_count": 122,
   "metadata": {},
   "outputs": [],
   "source": [
    "def sigmoid(x_scaled):\n",
    "    activated_value = np.zeros((4,1),dtype='float32')\n",
    "    for i,e in enumerate(x_scaled):\n",
    "        activated_value[i] = 1/(1+np.exp(-e,dtype='float32'))\n",
    "\n",
    "    return activated_value"
   ]
  },
  {
   "cell_type": "code",
   "execution_count": 123,
   "metadata": {},
   "outputs": [
    {
     "data": {
      "text/plain": [
       "array([[0.5345768],\n",
       "       [0.7310586],\n",
       "       [0.5      ],\n",
       "       [0.6808272]], dtype=float32)"
      ]
     },
     "execution_count": 123,
     "metadata": {},
     "output_type": "execute_result"
    }
   ],
   "source": [
    "activated_value"
   ]
  },
  {
   "cell_type": "markdown",
   "metadata": {},
   "source": [
    "## Tanh"
   ]
  },
  {
   "cell_type": "code",
   "execution_count": 124,
   "metadata": {},
   "outputs": [],
   "source": [
    "for i,e in enumerate(x_scaled):\n",
    "    activated_value[i] = (np.exp(e,dtype='float32') - np.exp(-e,dtype='float32')) \\\n",
    "    / (np.exp(e,dtype='float32') + np.exp(-e,dtype='float32'))"
   ]
  },
  {
   "cell_type": "code",
   "execution_count": 125,
   "metadata": {},
   "outputs": [],
   "source": [
    "def tanh(x_scaled):\n",
    "    activated_value = np.zeros((4,1),dtype='float32')\n",
    "    for i,e in enumerate(x_scaled):\n",
    "        activated_value[i] = 1/(1+np.exp(-e,dtype='float32'))\n",
    "\n",
    "    return activated_value"
   ]
  },
  {
   "cell_type": "markdown",
   "metadata": {},
   "source": [
    "## Hex representaion conversion"
   ]
  },
  {
   "cell_type": "code",
   "execution_count": 126,
   "metadata": {},
   "outputs": [
    {
     "data": {
      "text/plain": [
       "array([[0.13764876],\n",
       "       [0.7615942 ],\n",
       "       [0.        ],\n",
       "       [0.6396468 ]], dtype=float32)"
      ]
     },
     "execution_count": 126,
     "metadata": {},
     "output_type": "execute_result"
    }
   ],
   "source": [
    "activated_value"
   ]
  },
  {
   "cell_type": "code",
   "execution_count": 127,
   "metadata": {},
   "outputs": [
    {
     "data": {
      "text/plain": [
       "0.13764876"
      ]
     },
     "execution_count": 127,
     "metadata": {},
     "output_type": "execute_result"
    }
   ],
   "source": [
    "activated_value[0][0]"
   ]
  },
  {
   "cell_type": "code",
   "execution_count": 128,
   "metadata": {},
   "outputs": [],
   "source": [
    "value = activated_value[0][0]\n",
    "# Get the hexadecimal representation (as a string)\n",
    "float_as_int = np.float32(value).view(np.int32)\n",
    "hex_representation = format(value.view(np.int32), 'x')"
   ]
  },
  {
   "cell_type": "code",
   "execution_count": 129,
   "metadata": {},
   "outputs": [
    {
     "data": {
      "text/plain": [
       "'3e0cf3cc'"
      ]
     },
     "execution_count": 129,
     "metadata": {},
     "output_type": "execute_result"
    }
   ],
   "source": [
    "hex_representation"
   ]
  }
 ],
 "metadata": {
  "kernelspec": {
   "display_name": "Python 3",
   "language": "python",
   "name": "python3"
  },
  "language_info": {
   "codemirror_mode": {
    "name": "ipython",
    "version": 3
   },
   "file_extension": ".py",
   "mimetype": "text/x-python",
   "name": "python",
   "nbconvert_exporter": "python",
   "pygments_lexer": "ipython3",
   "version": "3.11.6"
  }
 },
 "nbformat": 4,
 "nbformat_minor": 2
}
