{
 "cells": [
  {
   "cell_type": "markdown",
   "metadata": {},
   "source": [
    "### Data structure\n",
    "- N = ['A',left_child_idx,right_child_idx,weight,encode bits,bit counts]"
   ]
  },
  {
   "cell_type": "code",
   "execution_count": 35,
   "metadata": {},
   "outputs": [],
   "source": [
    "NUM_TO_DEBUG = 3\n",
    "with open('input.txt', 'r') as file1:\n",
    "  file_in = file1.readlines()\n",
    "\n",
    "  NUM = int(file_in[0])\n",
    "\n",
    "for i in range(NUM):\n",
    "    char = ['A','B','C','E','I','L','O','V']\n",
    "    mode = int(file_in[1 + 2 * i + 0])\n",
    "    in_weight = [int(val) for val in file_in[1 + 2 * i + 1 + 0].split()]\n",
    "\n",
    "    nodes = []\n",
    "    for idx,w in enumerate(in_weight):\n",
    "        nodes.append([char[idx],-1,-1,w,'',0])\n",
    "\n",
    "    if NUM_TO_DEBUG == i:\n",
    "       break"
   ]
  },
  {
   "cell_type": "code",
   "execution_count": 36,
   "metadata": {},
   "outputs": [
    {
     "data": {
      "text/plain": [
       "[7, 7, 7, 7, 7, 7, 7, 7]"
      ]
     },
     "execution_count": 36,
     "metadata": {},
     "output_type": "execute_result"
    }
   ],
   "source": [
    "in_weight"
   ]
  },
  {
   "cell_type": "code",
   "execution_count": 37,
   "metadata": {},
   "outputs": [
    {
     "data": {
      "text/plain": [
       "[['A', -1, -1, 7, '', 0],\n",
       " ['B', -1, -1, 7, '', 0],\n",
       " ['C', -1, -1, 7, '', 0],\n",
       " ['E', -1, -1, 7, '', 0],\n",
       " ['I', -1, -1, 7, '', 0],\n",
       " ['L', -1, -1, 7, '', 0],\n",
       " ['O', -1, -1, 7, '', 0],\n",
       " ['V', -1, -1, 7, '', 0]]"
      ]
     },
     "execution_count": 37,
     "metadata": {},
     "output_type": "execute_result"
    }
   ],
   "source": [
    "nodes"
   ]
  },
  {
   "cell_type": "code",
   "execution_count": 38,
   "metadata": {},
   "outputs": [],
   "source": [
    "code_book = {'A':'','B':'','C':'','E':'','I':'','L':'','O':'','V':''}"
   ]
  },
  {
   "cell_type": "markdown",
   "metadata": {},
   "source": [
    "### Sort the list according to the weight in desceding order"
   ]
  },
  {
   "cell_type": "code",
   "execution_count": 39,
   "metadata": {},
   "outputs": [],
   "source": [
    "def bubble_sort(nodes):\n",
    "    n = len(nodes)\n",
    "    # Traverse through all array elements\n",
    "    for i in range(n-1):\n",
    "        # range(n) also work but outer loop will\n",
    "        # repeat one time more than needed.\n",
    "        # Last i elements are already in place\n",
    "        for j in range(0, n-i-1):\n",
    "            # traverse the array from 0 to n-i-1\n",
    "            # Swap if the element found is greater\n",
    "            # than the next element\n",
    "\n",
    "            # Add condition, if they have the same wait, sort them in character number ordering\n",
    "            if nodes[j][3] < nodes[j + 1][3]:\n",
    "                nodes[j], nodes[j + 1] = nodes[j + 1], nodes[j]\n",
    "\n",
    "    return nodes"
   ]
  },
  {
   "cell_type": "code",
   "execution_count": 40,
   "metadata": {},
   "outputs": [],
   "source": [
    "nodes = bubble_sort(nodes)"
   ]
  },
  {
   "cell_type": "code",
   "execution_count": 41,
   "metadata": {},
   "outputs": [
    {
     "data": {
      "text/plain": [
       "[['A', -1, -1, 7, '', 0],\n",
       " ['B', -1, -1, 7, '', 0],\n",
       " ['C', -1, -1, 7, '', 0],\n",
       " ['E', -1, -1, 7, '', 0],\n",
       " ['I', -1, -1, 7, '', 0],\n",
       " ['L', -1, -1, 7, '', 0],\n",
       " ['O', -1, -1, 7, '', 0],\n",
       " ['V', -1, -1, 7, '', 0]]"
      ]
     },
     "execution_count": 41,
     "metadata": {},
     "output_type": "execute_result"
    }
   ],
   "source": [
    "nodes"
   ]
  },
  {
   "cell_type": "markdown",
   "metadata": {},
   "source": [
    "### Building sub-tree take two elements out and create a dummy nodes"
   ]
  },
  {
   "cell_type": "markdown",
   "metadata": {},
   "source": [
    "- Define nodes: nodeA = ['char','Left child index','Right child index','Weight','Encoded bits']"
   ]
  },
  {
   "cell_type": "markdown",
   "metadata": {},
   "source": [
    "#### Do sortings using weights, than combine to make new sub trees repeat until there is nothing left"
   ]
  },
  {
   "cell_type": "code",
   "execution_count": 42,
   "metadata": {},
   "outputs": [],
   "source": [
    "char = ['A','B','C','E','I','L','O','V']\n",
    "nodes = []\n",
    "for idx,w in enumerate(in_weight):\n",
    "    nodes.append([char[idx],-1,-1,w,'',0])\n",
    "\n",
    "tree = []\n",
    "tree_ptr = 0\n",
    "\n",
    "dummy_node_name = ['alpha','beta','gamma','delta','epsilon','theta','eta']\n",
    "cnt = 0\n",
    "\n",
    "while nodes != []:\n",
    "    # Only root node left.\n",
    "    if len(nodes) == 1:\n",
    "        node1 = nodes.pop() # Right\n",
    "        tree.append(node1)\n",
    "        break\n",
    "\n",
    "    # Sortings\n",
    "    nodes = bubble_sort(nodes)\n",
    "\n",
    "    # Extract the two nodes with min weights and add those nodes into the sub-tree list\n",
    "\n",
    "    node1 = nodes.pop() # Right\n",
    "    node2 = nodes.pop() # Left\n",
    "\n",
    "    tree.append(node1)\n",
    "    node1_idx = tree_ptr\n",
    "    tree_ptr += 1\n",
    "\n",
    "    tree.append(node2)\n",
    "    node2_idx = tree_ptr\n",
    "    tree_ptr += 1\n",
    "    # Create dummy nodes\n",
    "    sub_tree = [dummy_node_name[cnt],node2_idx,node1_idx,node1[3]+node2[3],'',0]\n",
    "    cnt += 1\n",
    "    # Push dummy nodes into nodes list\n",
    "    nodes.append(sub_tree)\n",
    "    # print(tree)\n"
   ]
  },
  {
   "cell_type": "code",
   "execution_count": 43,
   "metadata": {},
   "outputs": [
    {
     "data": {
      "text/plain": [
       "[['V', -1, -1, 7, '', 0],\n",
       " ['O', -1, -1, 7, '', 0],\n",
       " ['L', -1, -1, 7, '', 0],\n",
       " ['I', -1, -1, 7, '', 0],\n",
       " ['E', -1, -1, 7, '', 0],\n",
       " ['C', -1, -1, 7, '', 0],\n",
       " ['B', -1, -1, 7, '', 0],\n",
       " ['A', -1, -1, 7, '', 0],\n",
       " ['delta', 7, 6, 14, '', 0],\n",
       " ['gamma', 5, 4, 14, '', 0],\n",
       " ['beta', 3, 2, 14, '', 0],\n",
       " ['alpha', 1, 0, 14, '', 0],\n",
       " ['theta', 11, 10, 28, '', 0],\n",
       " ['epsilon', 9, 8, 28, '', 0],\n",
       " ['eta', 13, 12, 56, '', 0]]"
      ]
     },
     "execution_count": 43,
     "metadata": {},
     "output_type": "execute_result"
    }
   ],
   "source": [
    "tree"
   ]
  },
  {
   "cell_type": "markdown",
   "metadata": {},
   "source": [
    "#### Traversing the Huffman tree with a stack, start traversing from last node, eta, which is the root node"
   ]
  },
  {
   "cell_type": "code",
   "execution_count": 44,
   "metadata": {},
   "outputs": [],
   "source": [
    "stack = [len(tree)-1] #idx\n",
    "bit_cnt = 0\n",
    "while stack != []:\n",
    "    # If left child, encode 0, right child encode 1\n",
    "    cur_node_idx = stack.pop()\n",
    "\n",
    "    # Extract current node from tree\n",
    "    cur_node = tree[cur_node_idx]\n",
    "    cur_char       = cur_node[0]\n",
    "    cur_encode_bit = cur_node[4]\n",
    "    cur_bit_count  = cur_node[5]\n",
    "\n",
    "    if cur_char in code_book:\n",
    "        code_book[cur_char] = cur_encode_bit\n",
    "\n",
    "    left_child_idx = cur_node[1]\n",
    "    right_child_idx = cur_node[2]\n",
    "\n",
    "    # Visit left child, concatenate the encode bits, and put it into stack\n",
    "    # Check if the child has left child\n",
    "    if left_child_idx != -1:\n",
    "        tree[left_child_idx][4] = cur_encode_bit + '0'\n",
    "        tree[left_child_idx][5] = cur_bit_count + 1\n",
    "        # Push its idx into stack\n",
    "        stack.append(left_child_idx)\n",
    "\n",
    "    # Visit right child, concatenate the encode bits, and put its children into stack\n",
    "    # Check if the child has right child\n",
    "    if right_child_idx != -1:\n",
    "        tree[right_child_idx][4] = cur_encode_bit + '1'\n",
    "        tree[right_child_idx][5] = cur_bit_count + 1\n",
    "\n",
    "        # Push its idx into stack\n",
    "        stack.append(right_child_idx)\n"
   ]
  },
  {
   "cell_type": "code",
   "execution_count": 45,
   "metadata": {},
   "outputs": [
    {
     "data": {
      "text/plain": [
       "[['V', -1, -1, 7, '101', 3],\n",
       " ['O', -1, -1, 7, '100', 3],\n",
       " ['L', -1, -1, 7, '111', 3],\n",
       " ['I', -1, -1, 7, '110', 3],\n",
       " ['E', -1, -1, 7, '001', 3],\n",
       " ['C', -1, -1, 7, '000', 3],\n",
       " ['B', -1, -1, 7, '011', 3],\n",
       " ['A', -1, -1, 7, '010', 3],\n",
       " ['delta', 7, 6, 14, '01', 2],\n",
       " ['gamma', 5, 4, 14, '00', 2],\n",
       " ['beta', 3, 2, 14, '11', 2],\n",
       " ['alpha', 1, 0, 14, '10', 2],\n",
       " ['theta', 11, 10, 28, '1', 1],\n",
       " ['epsilon', 9, 8, 28, '0', 1],\n",
       " ['eta', 13, 12, 56, '', 0]]"
      ]
     },
     "execution_count": 45,
     "metadata": {},
     "output_type": "execute_result"
    }
   ],
   "source": [
    "tree"
   ]
  },
  {
   "cell_type": "code",
   "execution_count": 46,
   "metadata": {},
   "outputs": [
    {
     "name": "stdout",
     "output_type": "stream",
     "text": [
      "--------------------Tree-------------------------------\n",
      "0 ['V', -1, -1, 7, '101', 3]\n",
      "1 ['O', -1, -1, 7, '100', 3]\n",
      "2 ['L', -1, -1, 7, '111', 3]\n",
      "3 ['I', -1, -1, 7, '110', 3]\n",
      "4 ['E', -1, -1, 7, '001', 3]\n",
      "5 ['C', -1, -1, 7, '000', 3]\n",
      "6 ['B', -1, -1, 7, '011', 3]\n",
      "7 ['A', -1, -1, 7, '010', 3]\n",
      "8 ['delta', 7, 6, 14, '01', 2]\n",
      "9 ['gamma', 5, 4, 14, '00', 2]\n",
      "10 ['beta', 3, 2, 14, '11', 2]\n",
      "11 ['alpha', 1, 0, 14, '10', 2]\n",
      "12 ['theta', 11, 10, 28, '1', 1]\n",
      "13 ['epsilon', 9, 8, 28, '0', 1]\n",
      "14 ['eta', 13, 12, 56, '', 0]\n"
     ]
    }
   ],
   "source": [
    "print(\"--------------------Tree-------------------------------\")\n",
    "for idx,n in enumerate(tree):\n",
    "    print(idx,n)"
   ]
  },
  {
   "cell_type": "code",
   "execution_count": 47,
   "metadata": {},
   "outputs": [
    {
     "data": {
      "text/plain": [
       "{'A': '010',\n",
       " 'B': '011',\n",
       " 'C': '000',\n",
       " 'E': '001',\n",
       " 'I': '110',\n",
       " 'L': '111',\n",
       " 'O': '100',\n",
       " 'V': '101'}"
      ]
     },
     "execution_count": 47,
     "metadata": {},
     "output_type": "execute_result"
    }
   ],
   "source": [
    "code_book"
   ]
  },
  {
   "cell_type": "markdown",
   "metadata": {},
   "source": [
    "#### Output ILOVE"
   ]
  },
  {
   "cell_type": "code",
   "execution_count": 48,
   "metadata": {},
   "outputs": [],
   "source": [
    "output = ''\n",
    "for e in ['I','L','O','V','E']:\n",
    "    output = output + code_book[e]"
   ]
  },
  {
   "cell_type": "code",
   "execution_count": 49,
   "metadata": {},
   "outputs": [
    {
     "data": {
      "text/plain": [
       "'110111100101001'"
      ]
     },
     "execution_count": 49,
     "metadata": {},
     "output_type": "execute_result"
    }
   ],
   "source": [
    "output"
   ]
  },
  {
   "cell_type": "markdown",
   "metadata": {},
   "source": [
    "### Output ICLAB"
   ]
  },
  {
   "cell_type": "code",
   "execution_count": 50,
   "metadata": {},
   "outputs": [],
   "source": [
    "output = ''\n",
    "for e in ['I','C','L','A','B']:\n",
    "    output = output + code_book[e]"
   ]
  },
  {
   "cell_type": "code",
   "execution_count": 51,
   "metadata": {},
   "outputs": [
    {
     "data": {
      "text/plain": [
       "'110000111010011'"
      ]
     },
     "execution_count": 51,
     "metadata": {},
     "output_type": "execute_result"
    }
   ],
   "source": [
    "output"
   ]
  }
 ],
 "metadata": {
  "kernelspec": {
   "display_name": "Python 3",
   "language": "python",
   "name": "python3"
  },
  "language_info": {
   "codemirror_mode": {
    "name": "ipython",
    "version": 3
   },
   "file_extension": ".py",
   "mimetype": "text/x-python",
   "name": "python",
   "nbconvert_exporter": "python",
   "pygments_lexer": "ipython3",
   "version": "3.11.6"
  }
 },
 "nbformat": 4,
 "nbformat_minor": 2
}
