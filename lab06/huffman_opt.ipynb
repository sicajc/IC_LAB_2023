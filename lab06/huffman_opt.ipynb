{
 "cells": [
  {
   "cell_type": "markdown",
   "metadata": {},
   "source": [
    "## Example\n",
    "- A B C E I L O V,if mode 0 output huffman Code os ILOVE, if mode 1 output huffman code of ICLAB"
   ]
  },
  {
   "cell_type": "code",
   "execution_count": 1,
   "metadata": {},
   "outputs": [],
   "source": [
    "A   = 0\n",
    "B   = 1\n",
    "C   = 2\n",
    "E   = 3\n",
    "I   = 4\n",
    "L   = 5\n",
    "O   = 6\n",
    "V   = 7\n",
    "#-------------------------------\n",
    "m   = 8\n",
    "n   = 9\n",
    "p   = 10\n",
    "q   = 11\n",
    "r   = 12\n",
    "s   = 13\n",
    "t   = 14\n",
    "\n",
    "LEAF= 15 # 0'b1111"
   ]
  },
  {
   "cell_type": "markdown",
   "metadata": {},
   "source": [
    "### 3 types of data structure, min Queue, Complete tree using linked list and stack for backtracking"
   ]
  },
  {
   "cell_type": "code",
   "execution_count": 2,
   "metadata": {},
   "outputs": [],
   "source": [
    "NUM_TO_DEBUG = 0\n",
    "with open('input.txt', 'r') as file1:\n",
    "  file_in = file1.readlines()\n",
    "\n",
    "  NUM = int(file_in[0])\n",
    "\n",
    "for i in range(NUM):\n",
    "  mode = int(file_in[1 + 2 * i + 0])\n",
    "  in_weight = [int(val) for val in file_in[1 + 2 * i + 1 + 0].split()]\n",
    "\n",
    "  char = [A, B, C, E, I, L, O, V]\n",
    "  nodes = []\n",
    "  for idx,w in enumerate(in_weight):\n",
    "      nodes.append([char[idx],[0,0,0,0,0,0,0,0],w,[0,0,0,0,0,0,0,0]])\n",
    "\n",
    "  if NUM_TO_DEBUG == i:\n",
    "     break"
   ]
  },
  {
   "cell_type": "code",
   "execution_count": 3,
   "metadata": {},
   "outputs": [
    {
     "data": {
      "text/plain": [
       "[3, 7, 6, 5, 3, 3, 5, 7]"
      ]
     },
     "execution_count": 3,
     "metadata": {},
     "output_type": "execute_result"
    }
   ],
   "source": [
    "in_weight"
   ]
  },
  {
   "cell_type": "code",
   "execution_count": 4,
   "metadata": {},
   "outputs": [
    {
     "data": {
      "text/plain": [
       "[[0, [0, 0, 0, 0, 0, 0, 0, 0], 3, [0, 0, 0, 0, 0, 0, 0, 0]],\n",
       " [1, [0, 0, 0, 0, 0, 0, 0, 0], 7, [0, 0, 0, 0, 0, 0, 0, 0]],\n",
       " [2, [0, 0, 0, 0, 0, 0, 0, 0], 6, [0, 0, 0, 0, 0, 0, 0, 0]],\n",
       " [3, [0, 0, 0, 0, 0, 0, 0, 0], 5, [0, 0, 0, 0, 0, 0, 0, 0]],\n",
       " [4, [0, 0, 0, 0, 0, 0, 0, 0], 3, [0, 0, 0, 0, 0, 0, 0, 0]],\n",
       " [5, [0, 0, 0, 0, 0, 0, 0, 0], 3, [0, 0, 0, 0, 0, 0, 0, 0]],\n",
       " [6, [0, 0, 0, 0, 0, 0, 0, 0], 5, [0, 0, 0, 0, 0, 0, 0, 0]],\n",
       " [7, [0, 0, 0, 0, 0, 0, 0, 0], 7, [0, 0, 0, 0, 0, 0, 0, 0]]]"
      ]
     },
     "execution_count": 4,
     "metadata": {},
     "output_type": "execute_result"
    }
   ],
   "source": [
    "nodes"
   ]
  },
  {
   "cell_type": "code",
   "execution_count": 5,
   "metadata": {},
   "outputs": [],
   "source": [
    "code_book = {A:'',B:'',C:'',E:'',I:'',L:'',O:'',V:''}"
   ]
  },
  {
   "cell_type": "markdown",
   "metadata": {},
   "source": [
    "### Sort the list according to the weight in desceding order"
   ]
  },
  {
   "cell_type": "markdown",
   "metadata": {},
   "source": [
    "### BubbleSort width fixed to 8, place 'L'=15 and assign max weight = 31 when you pop out the value from the queue"
   ]
  },
  {
   "cell_type": "code",
   "execution_count": 7,
   "metadata": {},
   "outputs": [],
   "source": [
    "def bubble_sort_caw(char:list, weight:list):\n",
    "    n = 8\n",
    "    char_out = [char[i] for i in range(n)] # no need to initialize in verilog\n",
    "    # Traverse through all array elements\n",
    "    for i in range(n-1):\n",
    "        # range(n) also work but outer loop will\n",
    "        # repeat one time more than needed.\n",
    "        # Last i elements are already in place\n",
    "        for j in range(0, n-i-1):\n",
    "            # traverse the array from 0 to n-i-1\n",
    "            # Swap if the element found is greater\n",
    "            # than the next element\n",
    "            if weight[j] > weight[j + 1]:\n",
    "                char_out[j], char_out[j + 1] = char_out[j + 1], char_out[j]\n",
    "                weight[j], weight[j + 1] = weight[j + 1], weight[j]\n",
    "\n",
    "    return char_out\n"
   ]
  },
  {
   "cell_type": "code",
   "execution_count": 8,
   "metadata": {},
   "outputs": [],
   "source": [
    "chars = bubble_sort_caw([nodes[i][0] for i in range(len(nodes))],[nodes[i][3] for i in range(len(nodes))]) # pass (nodes, weights) into sort"
   ]
  },
  {
   "cell_type": "code",
   "execution_count": 9,
   "metadata": {},
   "outputs": [
    {
     "data": {
      "text/plain": [
       "[[0, [0, 0, 0, 0, 0, 0, 0, 0], 3, [0, 0, 0, 0, 0, 0, 0, 0]],\n",
       " [1, [0, 0, 0, 0, 0, 0, 0, 0], 7, [0, 0, 0, 0, 0, 0, 0, 0]],\n",
       " [2, [0, 0, 0, 0, 0, 0, 0, 0], 6, [0, 0, 0, 0, 0, 0, 0, 0]],\n",
       " [3, [0, 0, 0, 0, 0, 0, 0, 0], 5, [0, 0, 0, 0, 0, 0, 0, 0]],\n",
       " [4, [0, 0, 0, 0, 0, 0, 0, 0], 3, [0, 0, 0, 0, 0, 0, 0, 0]],\n",
       " [5, [0, 0, 0, 0, 0, 0, 0, 0], 3, [0, 0, 0, 0, 0, 0, 0, 0]],\n",
       " [6, [0, 0, 0, 0, 0, 0, 0, 0], 5, [0, 0, 0, 0, 0, 0, 0, 0]],\n",
       " [7, [0, 0, 0, 0, 0, 0, 0, 0], 7, [0, 0, 0, 0, 0, 0, 0, 0]]]"
      ]
     },
     "execution_count": 9,
     "metadata": {},
     "output_type": "execute_result"
    }
   ],
   "source": [
    "nodes"
   ]
  },
  {
   "cell_type": "code",
   "execution_count": 10,
   "metadata": {},
   "outputs": [
    {
     "data": {
      "text/plain": [
       "[0, 1, 2, 3, 4, 5, 6, 7]"
      ]
     },
     "execution_count": 10,
     "metadata": {},
     "output_type": "execute_result"
    }
   ],
   "source": [
    "chars"
   ]
  },
  {
   "cell_type": "markdown",
   "metadata": {},
   "source": [
    "### Building sub-tree take two elements out and create a dummy nodes"
   ]
  },
  {
   "cell_type": "markdown",
   "metadata": {},
   "source": [
    "- Define nodes: nodeA = ['char','Left child index','Right child index','Weight','Encoded bits']"
   ]
  },
  {
   "cell_type": "code",
   "execution_count": 11,
   "metadata": {},
   "outputs": [],
   "source": [
    "node1 = nodes.pop() # Right\n",
    "node2 = nodes.pop() # Left"
   ]
  },
  {
   "cell_type": "code",
   "execution_count": 12,
   "metadata": {},
   "outputs": [
    {
     "data": {
      "text/plain": [
       "([7, [0, 0, 0, 0, 0, 0, 0, 0], 7, [0, 0, 0, 0, 0, 0, 0, 0]],\n",
       " [6, [0, 0, 0, 0, 0, 0, 0, 0], 5, [0, 0, 0, 0, 0, 0, 0, 0]])"
      ]
     },
     "execution_count": 12,
     "metadata": {},
     "output_type": "execute_result"
    }
   ],
   "source": [
    "node1,node2"
   ]
  },
  {
   "cell_type": "code",
   "execution_count": 13,
   "metadata": {},
   "outputs": [],
   "source": [
    "dummy_node_name = [m, n, p, q, r, s, t]\n",
    "tree = []\n",
    "tree_ptr = 0\n",
    "\n",
    "tree.append(node1)\n",
    "node1_idx = tree_ptr\n",
    "tree_ptr += 1\n",
    "\n",
    "tree.append(node2)\n",
    "node2_idx = tree_ptr\n",
    "tree_ptr += 1\n",
    "\n",
    "dummy_node = [dummy_node_name[0],node1_idx,node2_idx,node1[3]+node2[3],[0,0,0,0,0,0,0,0]]"
   ]
  },
  {
   "cell_type": "code",
   "execution_count": 14,
   "metadata": {},
   "outputs": [
    {
     "data": {
      "text/plain": [
       "([7, [0, 0, 0, 0, 0, 0, 0, 0], 7, [0, 0, 0, 0, 0, 0, 0, 0]], 2)"
      ]
     },
     "execution_count": 14,
     "metadata": {},
     "output_type": "execute_result"
    }
   ],
   "source": [
    "tree[0],tree_ptr"
   ]
  },
  {
   "cell_type": "code",
   "execution_count": 15,
   "metadata": {},
   "outputs": [
    {
     "data": {
      "text/plain": [
       "[8,\n",
       " 0,\n",
       " 1,\n",
       " [0, 0, 0, 0, 0, 0, 0, 0, 0, 0, 0, 0, 0, 0, 0, 0],\n",
       " [0, 0, 0, 0, 0, 0, 0, 0]]"
      ]
     },
     "execution_count": 15,
     "metadata": {},
     "output_type": "execute_result"
    }
   ],
   "source": [
    "dummy_node"
   ]
  },
  {
   "cell_type": "code",
   "execution_count": 16,
   "metadata": {},
   "outputs": [],
   "source": [
    "nodes.append(dummy_node)"
   ]
  },
  {
   "cell_type": "code",
   "execution_count": 17,
   "metadata": {},
   "outputs": [
    {
     "data": {
      "text/plain": [
       "[[0, [0, 0, 0, 0, 0, 0, 0, 0], 3, [0, 0, 0, 0, 0, 0, 0, 0]],\n",
       " [1, [0, 0, 0, 0, 0, 0, 0, 0], 7, [0, 0, 0, 0, 0, 0, 0, 0]],\n",
       " [2, [0, 0, 0, 0, 0, 0, 0, 0], 6, [0, 0, 0, 0, 0, 0, 0, 0]],\n",
       " [3, [0, 0, 0, 0, 0, 0, 0, 0], 5, [0, 0, 0, 0, 0, 0, 0, 0]],\n",
       " [4, [0, 0, 0, 0, 0, 0, 0, 0], 3, [0, 0, 0, 0, 0, 0, 0, 0]],\n",
       " [5, [0, 0, 0, 0, 0, 0, 0, 0], 3, [0, 0, 0, 0, 0, 0, 0, 0]],\n",
       " [8,\n",
       "  0,\n",
       "  1,\n",
       "  [0, 0, 0, 0, 0, 0, 0, 0, 0, 0, 0, 0, 0, 0, 0, 0],\n",
       "  [0, 0, 0, 0, 0, 0, 0, 0]]]"
      ]
     },
     "execution_count": 17,
     "metadata": {},
     "output_type": "execute_result"
    }
   ],
   "source": [
    "nodes"
   ]
  },
  {
   "cell_type": "code",
   "execution_count": 18,
   "metadata": {},
   "outputs": [
    {
     "data": {
      "text/plain": [
       "[[7, [0, 0, 0, 0, 0, 0, 0, 0], 7, [0, 0, 0, 0, 0, 0, 0, 0]],\n",
       " [6, [0, 0, 0, 0, 0, 0, 0, 0], 5, [0, 0, 0, 0, 0, 0, 0, 0]]]"
      ]
     },
     "execution_count": 18,
     "metadata": {},
     "output_type": "execute_result"
    }
   ],
   "source": [
    "tree"
   ]
  },
  {
   "cell_type": "code",
   "execution_count": 19,
   "metadata": {},
   "outputs": [],
   "source": [
    "tree = [[idx,[0,0,0,0,0,0,0],[0,0,0,0,0,0,0],0] for idx in range(8)]\n",
    "weight_rf = [31 for _ in range(16)]"
   ]
  },
  {
   "cell_type": "code",
   "execution_count": 20,
   "metadata": {},
   "outputs": [
    {
     "data": {
      "text/plain": [
       "[[0, [0, 0, 0, 0, 0, 0, 0], [0, 0, 0, 0, 0, 0, 0], 0],\n",
       " [1, [0, 0, 0, 0, 0, 0, 0], [0, 0, 0, 0, 0, 0, 0], 0],\n",
       " [2, [0, 0, 0, 0, 0, 0, 0], [0, 0, 0, 0, 0, 0, 0], 0],\n",
       " [3, [0, 0, 0, 0, 0, 0, 0], [0, 0, 0, 0, 0, 0, 0], 0],\n",
       " [4, [0, 0, 0, 0, 0, 0, 0], [0, 0, 0, 0, 0, 0, 0], 0],\n",
       " [5, [0, 0, 0, 0, 0, 0, 0], [0, 0, 0, 0, 0, 0, 0], 0],\n",
       " [6, [0, 0, 0, 0, 0, 0, 0], [0, 0, 0, 0, 0, 0, 0], 0],\n",
       " [7, [0, 0, 0, 0, 0, 0, 0], [0, 0, 0, 0, 0, 0, 0], 0]]"
      ]
     },
     "execution_count": 20,
     "metadata": {},
     "output_type": "execute_result"
    }
   ],
   "source": [
    "tree"
   ]
  },
  {
   "cell_type": "code",
   "execution_count": 21,
   "metadata": {},
   "outputs": [
    {
     "data": {
      "text/plain": [
       "[31, 31, 31, 31, 31, 31, 31, 31, 31, 31, 31, 31, 31, 31, 31, 31]"
      ]
     },
     "execution_count": 21,
     "metadata": {},
     "output_type": "execute_result"
    }
   ],
   "source": [
    "weight_rf"
   ]
  },
  {
   "cell_type": "markdown",
   "metadata": {},
   "source": [
    "#### Do sortings using weights, than combine to make new sub trees repeat until there is nothing left"
   ]
  },
  {
   "cell_type": "code",
   "execution_count": 22,
   "metadata": {},
   "outputs": [],
   "source": [
    "def bubble_sort_caw(char:list, weight:list):\n",
    "    # The larger value and char appears at higher index.\n",
    "    n = 8\n",
    "    char_out = [char[i] for i in range(n)] # no need to initialize in verilog\n",
    "    # Traverse through all array elements\n",
    "    for i in range(n-1):\n",
    "        # range(n) also work but outer loop will\n",
    "        # repeat one time more than needed.\n",
    "        # Last i elements are already in place\n",
    "        for j in range(0, n-i-1):\n",
    "            # traverse the array from 0 to n-i-1\n",
    "            # Swap if the element found is greater\n",
    "            # than the next element\n",
    "            if weight[j] > weight[j + 1]:\n",
    "                char_out[j], char_out[j + 1] = char_out[j + 1], char_out[j]\n",
    "                weight[j], weight[j + 1] = weight[j + 1], weight[j]\n",
    "\n",
    "    return char_out\n"
   ]
  },
  {
   "cell_type": "code",
   "execution_count": 23,
   "metadata": {},
   "outputs": [],
   "source": [
    "import copy\n",
    "sorter_in = []\n",
    "\n",
    "# Read weights in\n",
    "for cnt in range(8):\n",
    "    # Plug the weights into the correct tree position\n",
    "    weight_rf[cnt] = in_weight[cnt]\n",
    "    sorter_in.append([cnt,in_weight[cnt]])\n",
    "\n",
    "cnt = 0\n",
    "tree_ptr = 8\n",
    "# The first sort in must be reversed!\n",
    "sorter_in.reverse()\n",
    "\n",
    "## Building trees and encode it at the same time\n",
    "while cnt != 7:\n",
    "    # Sortings\n",
    "    char_in = [sorter_in[i][0] for i in range(8)]\n",
    "    sort_c_in = copy.deepcopy(char_in)\n",
    "\n",
    "    weight_in = [sorter_in[i][1] for i in range(8)]\n",
    "    sort_w_in = copy.deepcopy(weight_in)\n",
    "\n",
    "    char_out = bubble_sort_caw(sort_c_in,sort_w_in) # pass (nodes, weights) into sort\n",
    "\n",
    "    # Update sorter in\n",
    "    for i in range(8):\n",
    "        # print(char_in.index(char_out[i]),end = \" \")\n",
    "        sorter_in[i] = [char_out[i],weight_rf[char_out[i]]]\n",
    "\n",
    "    # Mark flags and encode the bits at the same time, tree_ptr has the ID of current merging node\n",
    "    # Left child\n",
    "    right_child_idx   = char_out[0] # Smaller to right, higher index bit\n",
    "    left_child_idx    = char_out[1] # Larger to left, lower index bit\n",
    "\n",
    "    # Since flag_map starts from 0, but merging node idx start from 8\n",
    "    offset_idx = tree_ptr - 8\n",
    "\n",
    "    # Check left node\n",
    "    if left_child_idx < 8:\n",
    "        # Normal node, simply updates\n",
    "        node = tree[left_child_idx]\n",
    "        flag_map   = copy.deepcopy(node[1])\n",
    "        encode_bit = copy.deepcopy(node[2])\n",
    "        bit_counts = copy.deepcopy(node[3])\n",
    "\n",
    "        flag_map[offset_idx] = 1\n",
    "        encode_bit[bit_counts] = 0\n",
    "\n",
    "        tree[left_child_idx][1] = flag_map\n",
    "        tree[left_child_idx][2] = encode_bit\n",
    "        tree[left_child_idx][3] = bit_counts + 1\n",
    "    else:\n",
    "        # This is the merging nodes, broadcast to all nodes\n",
    "        for idx, node in enumerate(tree):\n",
    "            flag_map = copy.deepcopy(node[1])\n",
    "            # If the node is a grandchild of the current merging node, update it\n",
    "            if flag_map[left_child_idx-8] == 1:\n",
    "                encode_bit = copy.deepcopy(node[2])\n",
    "                bit_counts = copy.deepcopy(node[3])\n",
    "\n",
    "                flag_map[offset_idx] = 1\n",
    "                encode_bit[bit_counts] = 0\n",
    "\n",
    "                tree[idx][1] = flag_map\n",
    "                tree[idx][2] = encode_bit\n",
    "                tree[idx][3] = bit_counts + 1\n",
    "\n",
    "    # Right\n",
    "    if right_child_idx < 8:\n",
    "        node = tree[right_child_idx]\n",
    "        flag_map   = copy.deepcopy(node[1])\n",
    "        encode_bit = copy.deepcopy(node[2])\n",
    "        bit_counts = copy.deepcopy(node[3])\n",
    "\n",
    "        flag_map[offset_idx] = 1\n",
    "        encode_bit[bit_counts] = 1\n",
    "\n",
    "        tree[right_child_idx][1] = flag_map\n",
    "        tree[right_child_idx][2] = encode_bit\n",
    "        tree[right_child_idx][3] = bit_counts + 1\n",
    "\n",
    "    else: # The merging node\n",
    "        # Traverse all nodes, look for bit map, and check if it is the node of it\n",
    "        # This is the merging nodes\n",
    "        for idx, node in enumerate(tree):\n",
    "            flag_map = copy.deepcopy(node[1])\n",
    "            if flag_map[right_child_idx-8] == 1:\n",
    "                encode_bit = copy.deepcopy(node[2])\n",
    "                bit_counts = copy.deepcopy(node[3])\n",
    "\n",
    "                flag_map[offset_idx] = 1\n",
    "                encode_bit[bit_counts] = 1\n",
    "\n",
    "                tree[idx][1] = flag_map\n",
    "                tree[idx][2] = encode_bit\n",
    "                tree[idx][3] = bit_counts + 1\n",
    "\n",
    "\n",
    "    # Push dummy nodes and LEAF into nodes list\n",
    "    merged_node_weight = weight_rf[right_child_idx] + weight_rf[left_child_idx]\n",
    "    weight_rf[tree_ptr] = merged_node_weight\n",
    "    sorter_in[0] = [tree_ptr,merged_node_weight]\n",
    "    sorter_in[1] = [LEAF,31]\n",
    "\n",
    "    tree_ptr += 1\n",
    "    cnt += 1"
   ]
  },
  {
   "cell_type": "code",
   "execution_count": 24,
   "metadata": {},
   "outputs": [
    {
     "data": {
      "text/plain": [
       "[[0, [0, 1, 0, 0, 1, 0, 1], [1, 0, 1, 0, 0, 0, 0], 3],\n",
       " [1, [0, 0, 0, 0, 1, 0, 1], [1, 1, 0, 0, 0, 0, 0], 2],\n",
       " [2, [0, 0, 0, 1, 0, 1, 1], [1, 0, 0, 0, 0, 0, 0], 3],\n",
       " [3, [0, 0, 1, 0, 0, 1, 1], [1, 1, 0, 0, 0, 0, 0], 3],\n",
       " [4, [1, 0, 1, 0, 0, 1, 1], [0, 0, 1, 0, 0, 0, 0], 4],\n",
       " [5, [1, 0, 1, 0, 0, 1, 1], [1, 0, 1, 0, 0, 0, 0], 4],\n",
       " [6, [0, 1, 0, 0, 1, 0, 1], [0, 0, 1, 0, 0, 0, 0], 3],\n",
       " [7, [0, 0, 0, 1, 0, 1, 1], [0, 0, 0, 0, 0, 0, 0], 3]]"
      ]
     },
     "execution_count": 24,
     "metadata": {},
     "output_type": "execute_result"
    }
   ],
   "source": [
    "tree"
   ]
  },
  {
   "cell_type": "markdown",
   "metadata": {},
   "source": [
    "####\n",
    "A   = 0\n",
    "B   = 1\n",
    "C   = 2\n",
    "E   = 3\n",
    "I   = 4\n",
    "L   = 5\n",
    "O   = 6\n",
    "V   = 7"
   ]
  },
  {
   "cell_type": "markdown",
   "metadata": {},
   "source": [
    "#### Output ILOVE"
   ]
  },
  {
   "cell_type": "code",
   "execution_count": 25,
   "metadata": {},
   "outputs": [],
   "source": [
    "output = ''\n",
    "for e in [I,L,O,V,E]:\n",
    "    bit_len = tree[e][3] # Valid length bit\n",
    "    bits    = tree[e][2]\n",
    "    for i in range(bit_len-1,-1,-1):\n",
    "        # print(i)\n",
    "        output = output + str(bits[i])"
   ]
  },
  {
   "cell_type": "code",
   "execution_count": 26,
   "metadata": {},
   "outputs": [
    {
     "data": {
      "text/plain": [
       "'01000101100000011'"
      ]
     },
     "execution_count": 26,
     "metadata": {},
     "output_type": "execute_result"
    }
   ],
   "source": [
    "output"
   ]
  },
  {
   "cell_type": "markdown",
   "metadata": {},
   "source": [
    "### Output ICLAB"
   ]
  },
  {
   "cell_type": "code",
   "execution_count": 27,
   "metadata": {},
   "outputs": [],
   "source": [
    "output = ''\n",
    "for e in [I,C,L,A,B]:\n",
    "    bit_len = tree[e][3]\n",
    "    bits    = tree[e][2]\n",
    "    for i in range(bit_len-1,-1,-1):\n",
    "        output = output + str(bits[i])"
   ]
  },
  {
   "cell_type": "code",
   "execution_count": 28,
   "metadata": {},
   "outputs": [
    {
     "data": {
      "text/plain": [
       "'0100001010110111'"
      ]
     },
     "execution_count": 28,
     "metadata": {},
     "output_type": "execute_result"
    }
   ],
   "source": [
    "output"
   ]
  }
 ],
 "metadata": {
  "kernelspec": {
   "display_name": "Python 3 (ipykernel)",
   "language": "python",
   "name": "python3"
  },
  "language_info": {
   "codemirror_mode": {
    "name": "ipython",
    "version": 3
   },
   "file_extension": ".py",
   "mimetype": "text/x-python",
   "name": "python",
   "nbconvert_exporter": "python",
   "pygments_lexer": "ipython3",
   "version": "3.11.6"
  }
 },
 "nbformat": 4,
 "nbformat_minor": 2
}
