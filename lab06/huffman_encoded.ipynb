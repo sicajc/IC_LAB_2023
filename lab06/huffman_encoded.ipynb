{
 "cells": [
  {
   "cell_type": "markdown",
   "metadata": {},
   "source": [
    "## Example\n",
    "- A B C E I L O V,if mode 0 output huffman Code os ILOVE, if mode 1 output huffman code of ICLAB"
   ]
  },
  {
   "cell_type": "code",
   "execution_count": 79,
   "metadata": {},
   "outputs": [],
   "source": [
    "A   = 0\n",
    "B   = 1\n",
    "C   = 2\n",
    "E   = 3\n",
    "I   = 4\n",
    "L   = 5\n",
    "O   = 6\n",
    "V   = 7\n",
    "\n",
    "m   = 8\n",
    "n   = 9\n",
    "p   = 10\n",
    "q   = 11\n",
    "r   = 12\n",
    "s   = 13\n",
    "t   = 14\n",
    "\n",
    "LEAF= 15 # 0'b1111"
   ]
  },
  {
   "cell_type": "markdown",
   "metadata": {},
   "source": [
    "### 3 types of data structure, min Queue, Complete tree using linked list and stack for backtracking"
   ]
  },
  {
   "cell_type": "code",
   "execution_count": 80,
   "metadata": {},
   "outputs": [],
   "source": [
    "NUM_TO_DEBUG = 0\n",
    "with open('input.txt', 'r') as file1:\n",
    "  file_in = file1.readlines()\n",
    "\n",
    "  NUM = int(file_in[0])\n",
    "\n",
    "for i in range(NUM):\n",
    "  mode = int(file_in[1 + 2 * i + 0])\n",
    "  in_weight = [int(val) for val in file_in[1 + 2 * i + 1 + 0].split()]\n",
    "\n",
    "  char = [A, B, C, E, I, L, O, V]\n",
    "  nodes = []\n",
    "  for idx,w in enumerate(in_weight):\n",
    "      nodes.append([char[idx],LEAF,LEAF,w,[0,0,0,0,0,0,0,0]])\n",
    "\n",
    "  if NUM_TO_DEBUG == i:\n",
    "     break"
   ]
  },
  {
   "cell_type": "code",
   "execution_count": 81,
   "metadata": {},
   "outputs": [
    {
     "data": {
      "text/plain": [
       "[3, 7, 6, 5, 3, 3, 5, 7]"
      ]
     },
     "execution_count": 81,
     "metadata": {},
     "output_type": "execute_result"
    }
   ],
   "source": [
    "in_weight"
   ]
  },
  {
   "cell_type": "code",
   "execution_count": 82,
   "metadata": {},
   "outputs": [
    {
     "data": {
      "text/plain": [
       "[[0, 15, 15, 3, [0, 0, 0, 0, 0, 0, 0, 0]],\n",
       " [1, 15, 15, 7, [0, 0, 0, 0, 0, 0, 0, 0]],\n",
       " [2, 15, 15, 6, [0, 0, 0, 0, 0, 0, 0, 0]],\n",
       " [3, 15, 15, 5, [0, 0, 0, 0, 0, 0, 0, 0]],\n",
       " [4, 15, 15, 3, [0, 0, 0, 0, 0, 0, 0, 0]],\n",
       " [5, 15, 15, 3, [0, 0, 0, 0, 0, 0, 0, 0]],\n",
       " [6, 15, 15, 5, [0, 0, 0, 0, 0, 0, 0, 0]],\n",
       " [7, 15, 15, 7, [0, 0, 0, 0, 0, 0, 0, 0]]]"
      ]
     },
     "execution_count": 82,
     "metadata": {},
     "output_type": "execute_result"
    }
   ],
   "source": [
    "nodes"
   ]
  },
  {
   "cell_type": "code",
   "execution_count": 83,
   "metadata": {},
   "outputs": [],
   "source": [
    "code_book = {A:'',B:'',C:'',E:'',I:'',L:'',O:'',V:''}"
   ]
  },
  {
   "cell_type": "markdown",
   "metadata": {},
   "source": [
    "### Sort the list according to the weight in desceding order"
   ]
  },
  {
   "cell_type": "markdown",
   "metadata": {},
   "source": [
    "### BubbleSort width fixed to 8, place 'L'=15 and assign max weight = 31 when you pop out the value from the queue"
   ]
  },
  {
   "cell_type": "code",
   "execution_count": 84,
   "metadata": {},
   "outputs": [],
   "source": [
    "def bubble_sort_caw(char:list, weight:list):\n",
    "    n = 8\n",
    "    char_out = [char[i] for i in range(n)] # no need to initialize in verilog\n",
    "    # Traverse through all array elements\n",
    "    for i in range(n-1):\n",
    "        # range(n) also work but outer loop will\n",
    "        # repeat one time more than needed.\n",
    "        # Last i elements are already in place\n",
    "        for j in range(0, n-i-1):\n",
    "            # traverse the array from 0 to n-i-1\n",
    "            # Swap if the element found is greater\n",
    "            # than the next element\n",
    "            if weight[j] < weight[j + 1]:\n",
    "                char_out[j], char_out[j + 1] = char_out[j + 1], char_out[j]\n",
    "                weight[j], weight[j + 1] = weight[j + 1], weight[j]\n",
    "\n",
    "    return char_out\n"
   ]
  },
  {
   "cell_type": "code",
   "execution_count": 85,
   "metadata": {},
   "outputs": [],
   "source": [
    "chars = bubble_sort_caw([nodes[i][0] for i in range(len(nodes))],[nodes[i][3] for i in range(len(nodes))]) # pass (nodes, weights) into sort"
   ]
  },
  {
   "cell_type": "code",
   "execution_count": 86,
   "metadata": {},
   "outputs": [
    {
     "data": {
      "text/plain": [
       "[[0, 15, 15, 3, [0, 0, 0, 0, 0, 0, 0, 0]],\n",
       " [1, 15, 15, 7, [0, 0, 0, 0, 0, 0, 0, 0]],\n",
       " [2, 15, 15, 6, [0, 0, 0, 0, 0, 0, 0, 0]],\n",
       " [3, 15, 15, 5, [0, 0, 0, 0, 0, 0, 0, 0]],\n",
       " [4, 15, 15, 3, [0, 0, 0, 0, 0, 0, 0, 0]],\n",
       " [5, 15, 15, 3, [0, 0, 0, 0, 0, 0, 0, 0]],\n",
       " [6, 15, 15, 5, [0, 0, 0, 0, 0, 0, 0, 0]],\n",
       " [7, 15, 15, 7, [0, 0, 0, 0, 0, 0, 0, 0]]]"
      ]
     },
     "execution_count": 86,
     "metadata": {},
     "output_type": "execute_result"
    }
   ],
   "source": [
    "nodes"
   ]
  },
  {
   "cell_type": "code",
   "execution_count": 87,
   "metadata": {},
   "outputs": [
    {
     "data": {
      "text/plain": [
       "[1, 7, 2, 3, 6, 0, 4, 5]"
      ]
     },
     "execution_count": 87,
     "metadata": {},
     "output_type": "execute_result"
    }
   ],
   "source": [
    "chars"
   ]
  },
  {
   "cell_type": "markdown",
   "metadata": {},
   "source": [
    "### Building sub-tree take two elements out and create a dummy nodes"
   ]
  },
  {
   "cell_type": "markdown",
   "metadata": {},
   "source": [
    "- Define nodes: nodeA = ['char','Left child index','Right child index','Weight','Encoded bits']"
   ]
  },
  {
   "cell_type": "code",
   "execution_count": 88,
   "metadata": {},
   "outputs": [],
   "source": [
    "node1 = nodes.pop() # Right\n",
    "node2 = nodes.pop() # Left"
   ]
  },
  {
   "cell_type": "code",
   "execution_count": 89,
   "metadata": {},
   "outputs": [
    {
     "data": {
      "text/plain": [
       "([7, 15, 15, 7, [0, 0, 0, 0, 0, 0, 0, 0]],\n",
       " [6, 15, 15, 5, [0, 0, 0, 0, 0, 0, 0, 0]])"
      ]
     },
     "execution_count": 89,
     "metadata": {},
     "output_type": "execute_result"
    }
   ],
   "source": [
    "node1,node2"
   ]
  },
  {
   "cell_type": "code",
   "execution_count": 90,
   "metadata": {},
   "outputs": [],
   "source": [
    "dummy_node_name = [m, n, p, q, r, s, t]\n",
    "tree = []\n",
    "tree_ptr = 0\n",
    "\n",
    "tree.append(node1)\n",
    "node1_idx = tree_ptr\n",
    "tree_ptr += 1\n",
    "\n",
    "tree.append(node2)\n",
    "node2_idx = tree_ptr\n",
    "tree_ptr += 1\n",
    "\n",
    "dummy_node = [dummy_node_name[0],node1_idx,node2_idx,node1[3]+node2[3],[0,0,0,0,0,0,0,0]]"
   ]
  },
  {
   "cell_type": "code",
   "execution_count": 91,
   "metadata": {},
   "outputs": [
    {
     "data": {
      "text/plain": [
       "([7, 15, 15, 7, [0, 0, 0, 0, 0, 0, 0, 0]], 2)"
      ]
     },
     "execution_count": 91,
     "metadata": {},
     "output_type": "execute_result"
    }
   ],
   "source": [
    "tree[0],tree_ptr"
   ]
  },
  {
   "cell_type": "code",
   "execution_count": 92,
   "metadata": {},
   "outputs": [
    {
     "data": {
      "text/plain": [
       "[8, 0, 1, 12, [0, 0, 0, 0, 0, 0, 0, 0]]"
      ]
     },
     "execution_count": 92,
     "metadata": {},
     "output_type": "execute_result"
    }
   ],
   "source": [
    "dummy_node"
   ]
  },
  {
   "cell_type": "code",
   "execution_count": 93,
   "metadata": {},
   "outputs": [],
   "source": [
    "nodes.append(dummy_node)"
   ]
  },
  {
   "cell_type": "code",
   "execution_count": 94,
   "metadata": {},
   "outputs": [
    {
     "data": {
      "text/plain": [
       "[[0, 15, 15, 3, [0, 0, 0, 0, 0, 0, 0, 0]],\n",
       " [1, 15, 15, 7, [0, 0, 0, 0, 0, 0, 0, 0]],\n",
       " [2, 15, 15, 6, [0, 0, 0, 0, 0, 0, 0, 0]],\n",
       " [3, 15, 15, 5, [0, 0, 0, 0, 0, 0, 0, 0]],\n",
       " [4, 15, 15, 3, [0, 0, 0, 0, 0, 0, 0, 0]],\n",
       " [5, 15, 15, 3, [0, 0, 0, 0, 0, 0, 0, 0]],\n",
       " [8, 0, 1, 12, [0, 0, 0, 0, 0, 0, 0, 0]]]"
      ]
     },
     "execution_count": 94,
     "metadata": {},
     "output_type": "execute_result"
    }
   ],
   "source": [
    "nodes"
   ]
  },
  {
   "cell_type": "code",
   "execution_count": 95,
   "metadata": {},
   "outputs": [
    {
     "data": {
      "text/plain": [
       "[[7, 15, 15, 7, [0, 0, 0, 0, 0, 0, 0, 0]],\n",
       " [6, 15, 15, 5, [0, 0, 0, 0, 0, 0, 0, 0]]]"
      ]
     },
     "execution_count": 95,
     "metadata": {},
     "output_type": "execute_result"
    }
   ],
   "source": [
    "tree"
   ]
  },
  {
   "cell_type": "markdown",
   "metadata": {},
   "source": [
    "#### Do sortings using weights, than combine to make new sub trees repeat until there is nothing left"
   ]
  },
  {
   "cell_type": "code",
   "execution_count": 96,
   "metadata": {},
   "outputs": [],
   "source": [
    "char = [A, B, C, E, I, L, O, V]\n",
    "nodes = []\n",
    "tree = []\n",
    "tree_ptr = 0\n",
    "dummy_node_name = [m, n, p, q, r, s, t]\n",
    "\n",
    "for idx,w in enumerate(in_weight):\n",
    "    nodes.append([char[idx],LEAF,LEAF,w,[0,0,0,0,0,0,0,0],0])\n",
    "    tree.append([char[idx],LEAF,LEAF,w,[0,0,0,0,0,0,0,0],0])\n",
    "    tree_ptr += 1\n",
    "\n",
    "cnt = 0\n",
    "\n",
    "while cnt != 7:\n",
    "    # Only root node left.\n",
    "    if len(nodes) == 1:\n",
    "        break\n",
    "\n",
    "    # Sortings\n",
    "    char_in = [nodes[i][0] for i in range(len(nodes))]\n",
    "    weight_in = [nodes[i][3] for i in range(len(nodes))]\n",
    "    char_out = bubble_sort_caw(char_in,weight_in) # pass (nodes, weights) into sort\n",
    "    # print(char_out)\n",
    "    # using char_out to update nodes\n",
    "    sorted_nodes = []\n",
    "    for i in range(8):\n",
    "        sorted_nodes.append(nodes[char_in.index(char_out[i])])\n",
    "\n",
    "    nodes = sorted_nodes\n",
    "\n",
    "    node1   = nodes[7] # Smaller to right\n",
    "    node2   = nodes[6] # Larger to left\n",
    "\n",
    "    # Plug original slots wth LEAF and max weight\n",
    "    nodes[7] = [LEAF,LEAF,LEAF,31,[0,0,0,0,0,0,0,0],0]\n",
    "    nodes[6] = [LEAF,LEAF,LEAF,31,[0,0,0,0,0,0,0,0],0]\n",
    "\n",
    "    node1_idx = node1[0]\n",
    "    node2_idx = node2[0]\n",
    "\n",
    "    # Create dummy nodes\n",
    "    sub_tree = [tree_ptr,node2_idx,node1_idx,node1[3]+node2[3],[0,0,0,0,0,0,0,0],0]\n",
    "    cnt += 1\n",
    "    # Push dummy nodes into nodes list\n",
    "    nodes[7] = sub_tree\n",
    "    tree.append(sub_tree)\n",
    "    tree_ptr += 1\n"
   ]
  },
  {
   "cell_type": "code",
   "execution_count": 97,
   "metadata": {},
   "outputs": [
    {
     "data": {
      "text/plain": [
       "[[0, 15, 15, 3, [0, 0, 0, 0, 0, 0, 0, 0], 0],\n",
       " [1, 15, 15, 7, [0, 0, 0, 0, 0, 0, 0, 0], 0],\n",
       " [2, 15, 15, 6, [0, 0, 0, 0, 0, 0, 0, 0], 0],\n",
       " [3, 15, 15, 5, [0, 0, 0, 0, 0, 0, 0, 0], 0],\n",
       " [4, 15, 15, 3, [0, 0, 0, 0, 0, 0, 0, 0], 0],\n",
       " [5, 15, 15, 3, [0, 0, 0, 0, 0, 0, 0, 0], 0],\n",
       " [6, 15, 15, 5, [0, 0, 0, 0, 0, 0, 0, 0], 0],\n",
       " [7, 15, 15, 7, [0, 0, 0, 0, 0, 0, 0, 0], 0],\n",
       " [8, 4, 5, 6, [0, 0, 0, 0, 0, 0, 0, 0], 0],\n",
       " [9, 6, 0, 8, [0, 0, 0, 0, 0, 0, 0, 0], 0],\n",
       " [10, 8, 3, 11, [0, 0, 0, 0, 0, 0, 0, 0], 0],\n",
       " [11, 7, 2, 13, [0, 0, 0, 0, 0, 0, 0, 0], 0],\n",
       " [12, 9, 1, 15, [0, 0, 0, 0, 0, 0, 0, 0], 0],\n",
       " [13, 11, 10, 24, [0, 0, 0, 0, 0, 0, 0, 0], 0],\n",
       " [14, 13, 12, 39, [0, 0, 0, 0, 0, 0, 0, 0], 0]]"
      ]
     },
     "execution_count": 97,
     "metadata": {},
     "output_type": "execute_result"
    }
   ],
   "source": [
    "tree"
   ]
  },
  {
   "cell_type": "markdown",
   "metadata": {},
   "source": [
    "#### Traversing the Huffman tree with a stack, start traversing from last node, eta, which is the root node"
   ]
  },
  {
   "cell_type": "code",
   "execution_count": 98,
   "metadata": {},
   "outputs": [],
   "source": [
    "import copy\n",
    "stack = [len(tree)-1] #idx\n",
    "\n",
    "while stack != []:\n",
    "    # If left child, encode 0, right child encode 1\n",
    "    cur_node_idx = stack.pop()\n",
    "\n",
    "    # Extract current node from tree\n",
    "    cur_node = tree[cur_node_idx]\n",
    "    cur_char       = cur_node[0]\n",
    "    cur_encode_bit = cur_node[4]\n",
    "    cur_bit_count  = cur_node[5]\n",
    "\n",
    "    if cur_char in code_book:\n",
    "        code_book[cur_char] = cur_encode_bit\n",
    "\n",
    "    left_child_idx = cur_node[1]\n",
    "    right_child_idx = cur_node[2]\n",
    "\n",
    "    # Visit left child, concatenate the encode bits, and put it into stack\n",
    "    # Check if the child has left child\n",
    "    if left_child_idx != LEAF:\n",
    "        encode_bit = copy.deepcopy(cur_encode_bit)\n",
    "        encode_bit[cur_bit_count] = 0\n",
    "\n",
    "        tree[left_child_idx][4] = encode_bit\n",
    "        tree[left_child_idx][5] = cur_bit_count + 1\n",
    "        # Push its idx into stack\n",
    "        stack.append(left_child_idx)\n",
    "\n",
    "    # Visit right child, concatenate the encode bits, and put its children into stack\n",
    "    # Check if the child has right child\n",
    "    if right_child_idx != LEAF:\n",
    "        encode_bit = copy.deepcopy(cur_encode_bit)\n",
    "        encode_bit[cur_bit_count] = 1\n",
    "\n",
    "        tree[right_child_idx][4] = encode_bit\n",
    "        tree[right_child_idx][5] = cur_bit_count + 1\n",
    "        # Push its idx into stack\n",
    "        stack.append(right_child_idx)\n"
   ]
  },
  {
   "cell_type": "code",
   "execution_count": 99,
   "metadata": {},
   "outputs": [
    {
     "data": {
      "text/plain": [
       "[[0, 15, 15, 3, [1, 0, 1, 0, 0, 0, 0, 0], 3],\n",
       " [1, 15, 15, 7, [1, 1, 0, 0, 0, 0, 0, 0], 2],\n",
       " [2, 15, 15, 6, [0, 0, 1, 0, 0, 0, 0, 0], 3],\n",
       " [3, 15, 15, 5, [0, 1, 1, 0, 0, 0, 0, 0], 3],\n",
       " [4, 15, 15, 3, [0, 1, 0, 0, 0, 0, 0, 0], 4],\n",
       " [5, 15, 15, 3, [0, 1, 0, 1, 0, 0, 0, 0], 4],\n",
       " [6, 15, 15, 5, [1, 0, 0, 0, 0, 0, 0, 0], 3],\n",
       " [7, 15, 15, 7, [0, 0, 0, 0, 0, 0, 0, 0], 3],\n",
       " [8, 4, 5, 6, [0, 1, 0, 0, 0, 0, 0, 0], 3],\n",
       " [9, 6, 0, 8, [1, 0, 0, 0, 0, 0, 0, 0], 2],\n",
       " [10, 8, 3, 11, [0, 1, 0, 0, 0, 0, 0, 0], 2],\n",
       " [11, 7, 2, 13, [0, 0, 0, 0, 0, 0, 0, 0], 2],\n",
       " [12, 9, 1, 15, [1, 0, 0, 0, 0, 0, 0, 0], 1],\n",
       " [13, 11, 10, 24, [0, 0, 0, 0, 0, 0, 0, 0], 1],\n",
       " [14, 13, 12, 39, [0, 0, 0, 0, 0, 0, 0, 0], 0]]"
      ]
     },
     "execution_count": 99,
     "metadata": {},
     "output_type": "execute_result"
    }
   ],
   "source": [
    "tree"
   ]
  },
  {
   "cell_type": "code",
   "execution_count": 100,
   "metadata": {},
   "outputs": [
    {
     "data": {
      "text/plain": [
       "{0: [1, 0, 1, 0, 0, 0, 0, 0],\n",
       " 1: [1, 1, 0, 0, 0, 0, 0, 0],\n",
       " 2: [0, 0, 1, 0, 0, 0, 0, 0],\n",
       " 3: [0, 1, 1, 0, 0, 0, 0, 0],\n",
       " 4: [0, 1, 0, 0, 0, 0, 0, 0],\n",
       " 5: [0, 1, 0, 1, 0, 0, 0, 0],\n",
       " 6: [1, 0, 0, 0, 0, 0, 0, 0],\n",
       " 7: [0, 0, 0, 0, 0, 0, 0, 0]}"
      ]
     },
     "execution_count": 100,
     "metadata": {},
     "output_type": "execute_result"
    }
   ],
   "source": [
    "code_book"
   ]
  },
  {
   "cell_type": "code",
   "execution_count": 101,
   "metadata": {},
   "outputs": [
    {
     "data": {
      "text/plain": [
       "0"
      ]
     },
     "execution_count": 101,
     "metadata": {},
     "output_type": "execute_result"
    }
   ],
   "source": [
    "code_book[0][4]"
   ]
  },
  {
   "cell_type": "markdown",
   "metadata": {},
   "source": [
    "#### Output ILOVE"
   ]
  },
  {
   "cell_type": "code",
   "execution_count": 102,
   "metadata": {},
   "outputs": [],
   "source": [
    "output = ''\n",
    "for e in [I,L,O,V,E]:\n",
    "    bit_len = tree[e][5] # Valid length bit\n",
    "    bits    = tree[e][4]\n",
    "    for i in range(bit_len):\n",
    "        output = output + str(bits[i])"
   ]
  },
  {
   "cell_type": "code",
   "execution_count": 103,
   "metadata": {},
   "outputs": [
    {
     "data": {
      "text/plain": [
       "'01000101100000011'"
      ]
     },
     "execution_count": 103,
     "metadata": {},
     "output_type": "execute_result"
    }
   ],
   "source": [
    "output"
   ]
  },
  {
   "cell_type": "markdown",
   "metadata": {},
   "source": [
    "### Output ICLAB"
   ]
  },
  {
   "cell_type": "code",
   "execution_count": 104,
   "metadata": {},
   "outputs": [],
   "source": [
    "output = ''\n",
    "for e in [I,C,L,A,B]:\n",
    "    bit_len = tree[e][5]\n",
    "    bits    = tree[e][4]\n",
    "    for i in range(bit_len):\n",
    "        output = output + str(bits[i])"
   ]
  },
  {
   "cell_type": "code",
   "execution_count": 105,
   "metadata": {},
   "outputs": [
    {
     "data": {
      "text/plain": [
       "'0100001010110111'"
      ]
     },
     "execution_count": 105,
     "metadata": {},
     "output_type": "execute_result"
    }
   ],
   "source": [
    "output"
   ]
  }
 ],
 "metadata": {
  "kernelspec": {
   "display_name": "Python 3 (ipykernel)",
   "language": "python",
   "name": "python3"
  },
  "language_info": {
   "codemirror_mode": {
    "name": "ipython",
    "version": 3
   },
   "file_extension": ".py",
   "mimetype": "text/x-python",
   "name": "python",
   "nbconvert_exporter": "python",
   "pygments_lexer": "ipython3",
   "version": "3.11.6"
  }
 },
 "nbformat": 4,
 "nbformat_minor": 2
}
