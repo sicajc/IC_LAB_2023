{
 "cells": [
  {
   "cell_type": "markdown",
   "metadata": {},
   "source": [
    "## Example\n",
    "- A B C E I L O V,if mode 0 output huffman Code os ILOVE, if mode 1 output huffman code of ICLAB"
   ]
  },
  {
   "cell_type": "code",
   "execution_count": 85,
   "metadata": {},
   "outputs": [],
   "source": [
    "A   = 0\n",
    "B   = 1\n",
    "C   = 2\n",
    "E   = 3\n",
    "I   = 4\n",
    "L   = 5\n",
    "O   = 6\n",
    "V   = 7\n",
    "#-------------------------------\n",
    "m   = 8\n",
    "n   = 9\n",
    "p   = 10\n",
    "q   = 11\n",
    "r   = 12\n",
    "s   = 13\n",
    "t   = 14\n",
    "\n",
    "LEAF= 15 # 0'b1111"
   ]
  },
  {
   "cell_type": "markdown",
   "metadata": {},
   "source": [
    "### 3 types of data structure, min Queue, Complete tree using linked list and stack for backtracking"
   ]
  },
  {
   "cell_type": "code",
   "execution_count": 86,
   "metadata": {},
   "outputs": [],
   "source": [
    "NUM_TO_DEBUG = 2\n",
    "with open('input.txt', 'r') as file1:\n",
    "  file_in = file1.readlines()\n",
    "\n",
    "  NUM = int(file_in[0])\n",
    "\n",
    "for i in range(NUM):\n",
    "  mode = int(file_in[1 + 2 * i + 0])\n",
    "  in_weight = [int(val) for val in file_in[1 + 2 * i + 1 + 0].split()]\n",
    "\n",
    "  char = [A, B, C, E, I, L, O, V]\n",
    "  nodes = []\n",
    "  for idx,w in enumerate(in_weight):\n",
    "      nodes.append([char[idx],LEAF,LEAF,w,[0,0,0,0,0,0,0,0]])\n",
    "\n",
    "  if NUM_TO_DEBUG == i:\n",
    "     break"
   ]
  },
  {
   "cell_type": "code",
   "execution_count": 87,
   "metadata": {},
   "outputs": [
    {
     "data": {
      "text/plain": [
       "[1, 1, 2, 2, 4, 4, 6, 6]"
      ]
     },
     "execution_count": 87,
     "metadata": {},
     "output_type": "execute_result"
    }
   ],
   "source": [
    "in_weight"
   ]
  },
  {
   "cell_type": "code",
   "execution_count": 88,
   "metadata": {},
   "outputs": [
    {
     "data": {
      "text/plain": [
       "[[0, 15, 15, 1, [0, 0, 0, 0, 0, 0, 0, 0]],\n",
       " [1, 15, 15, 1, [0, 0, 0, 0, 0, 0, 0, 0]],\n",
       " [2, 15, 15, 2, [0, 0, 0, 0, 0, 0, 0, 0]],\n",
       " [3, 15, 15, 2, [0, 0, 0, 0, 0, 0, 0, 0]],\n",
       " [4, 15, 15, 4, [0, 0, 0, 0, 0, 0, 0, 0]],\n",
       " [5, 15, 15, 4, [0, 0, 0, 0, 0, 0, 0, 0]],\n",
       " [6, 15, 15, 6, [0, 0, 0, 0, 0, 0, 0, 0]],\n",
       " [7, 15, 15, 6, [0, 0, 0, 0, 0, 0, 0, 0]]]"
      ]
     },
     "execution_count": 88,
     "metadata": {},
     "output_type": "execute_result"
    }
   ],
   "source": [
    "nodes"
   ]
  },
  {
   "cell_type": "code",
   "execution_count": 89,
   "metadata": {},
   "outputs": [],
   "source": [
    "code_book = {A:'',B:'',C:'',E:'',I:'',L:'',O:'',V:''}"
   ]
  },
  {
   "cell_type": "markdown",
   "metadata": {},
   "source": [
    "### Extreme case test"
   ]
  },
  {
   "cell_type": "code",
   "execution_count": 90,
   "metadata": {},
   "outputs": [],
   "source": [
    "# in_weight = [3, 6, 5, 4, 5, 5, 4, 3] #max weight 35\n",
    "\n",
    "# for idx,w in enumerate(in_weight):\n",
    "#       nodes.append([char[idx],LEAF,LEAF,w,[0,0,0,0,0,0,0,0]])"
   ]
  },
  {
   "cell_type": "markdown",
   "metadata": {},
   "source": [
    "### Sort the list according to the weight in desceding order"
   ]
  },
  {
   "cell_type": "markdown",
   "metadata": {},
   "source": [
    "### BubbleSort width fixed to 8, place 'L'=15 and assign max weight = 31 when you pop out the value from the queue"
   ]
  },
  {
   "cell_type": "code",
   "execution_count": 91,
   "metadata": {},
   "outputs": [],
   "source": [
    "def bubble_sort_caw(char:list, weight:list):\n",
    "    n = 8\n",
    "    char_out = [char[i] for i in range(n)] # no need to initialize in verilog\n",
    "    # Traverse through all array elements\n",
    "    for i in range(n-1):\n",
    "        # range(n) also work but outer loop will\n",
    "        # repeat one time more than needed.\n",
    "        # Last i elements are already in place\n",
    "        for j in range(0, n-i-1):\n",
    "            # traverse the array from 0 to n-i-1\n",
    "            # Swap if the element found is greater\n",
    "            # than the next element\n",
    "            if weight[j] < weight[j + 1]:\n",
    "                char_out[j], char_out[j + 1] = char_out[j + 1], char_out[j]\n",
    "                weight[j], weight[j + 1] = weight[j + 1], weight[j]\n",
    "\n",
    "    return char_out\n"
   ]
  },
  {
   "cell_type": "code",
   "execution_count": 92,
   "metadata": {},
   "outputs": [],
   "source": [
    "chars = bubble_sort_caw([nodes[i][0] for i in range(len(nodes))],[nodes[i][3] for i in range(len(nodes))]) # pass (nodes, weights) into sort"
   ]
  },
  {
   "cell_type": "code",
   "execution_count": 93,
   "metadata": {},
   "outputs": [
    {
     "data": {
      "text/plain": [
       "[[0, 15, 15, 1, [0, 0, 0, 0, 0, 0, 0, 0]],\n",
       " [1, 15, 15, 1, [0, 0, 0, 0, 0, 0, 0, 0]],\n",
       " [2, 15, 15, 2, [0, 0, 0, 0, 0, 0, 0, 0]],\n",
       " [3, 15, 15, 2, [0, 0, 0, 0, 0, 0, 0, 0]],\n",
       " [4, 15, 15, 4, [0, 0, 0, 0, 0, 0, 0, 0]],\n",
       " [5, 15, 15, 4, [0, 0, 0, 0, 0, 0, 0, 0]],\n",
       " [6, 15, 15, 6, [0, 0, 0, 0, 0, 0, 0, 0]],\n",
       " [7, 15, 15, 6, [0, 0, 0, 0, 0, 0, 0, 0]]]"
      ]
     },
     "execution_count": 93,
     "metadata": {},
     "output_type": "execute_result"
    }
   ],
   "source": [
    "nodes"
   ]
  },
  {
   "cell_type": "code",
   "execution_count": 94,
   "metadata": {},
   "outputs": [
    {
     "data": {
      "text/plain": [
       "[6, 7, 4, 5, 2, 3, 0, 1]"
      ]
     },
     "execution_count": 94,
     "metadata": {},
     "output_type": "execute_result"
    }
   ],
   "source": [
    "chars"
   ]
  },
  {
   "cell_type": "markdown",
   "metadata": {},
   "source": [
    "### Building sub-tree take two elements out and create a dummy nodes"
   ]
  },
  {
   "cell_type": "markdown",
   "metadata": {},
   "source": [
    "- Define nodes: nodeA = ['char','Left child index','Right child index','Weight','Encoded bits']"
   ]
  },
  {
   "cell_type": "code",
   "execution_count": 95,
   "metadata": {},
   "outputs": [],
   "source": [
    "node1 = nodes.pop() # Right\n",
    "node2 = nodes.pop() # Left"
   ]
  },
  {
   "cell_type": "code",
   "execution_count": 96,
   "metadata": {},
   "outputs": [
    {
     "data": {
      "text/plain": [
       "([7, 15, 15, 6, [0, 0, 0, 0, 0, 0, 0, 0]],\n",
       " [6, 15, 15, 6, [0, 0, 0, 0, 0, 0, 0, 0]])"
      ]
     },
     "execution_count": 96,
     "metadata": {},
     "output_type": "execute_result"
    }
   ],
   "source": [
    "node1,node2"
   ]
  },
  {
   "cell_type": "code",
   "execution_count": 97,
   "metadata": {},
   "outputs": [],
   "source": [
    "dummy_node_name = [m, n, p, q, r, s, t]\n",
    "tree = []\n",
    "tree_ptr = 0\n",
    "\n",
    "tree.append(node1)\n",
    "node1_idx = tree_ptr\n",
    "tree_ptr += 1\n",
    "\n",
    "tree.append(node2)\n",
    "node2_idx = tree_ptr\n",
    "tree_ptr += 1\n",
    "\n",
    "dummy_node = [dummy_node_name[0],node1_idx,node2_idx,node1[3]+node2[3],[0,0,0,0,0,0,0,0]]"
   ]
  },
  {
   "cell_type": "code",
   "execution_count": 98,
   "metadata": {},
   "outputs": [
    {
     "data": {
      "text/plain": [
       "([7, 15, 15, 6, [0, 0, 0, 0, 0, 0, 0, 0]], 2)"
      ]
     },
     "execution_count": 98,
     "metadata": {},
     "output_type": "execute_result"
    }
   ],
   "source": [
    "tree[0],tree_ptr"
   ]
  },
  {
   "cell_type": "code",
   "execution_count": 99,
   "metadata": {},
   "outputs": [
    {
     "data": {
      "text/plain": [
       "[8, 0, 1, 12, [0, 0, 0, 0, 0, 0, 0, 0]]"
      ]
     },
     "execution_count": 99,
     "metadata": {},
     "output_type": "execute_result"
    }
   ],
   "source": [
    "dummy_node"
   ]
  },
  {
   "cell_type": "code",
   "execution_count": 100,
   "metadata": {},
   "outputs": [],
   "source": [
    "nodes.append(dummy_node)"
   ]
  },
  {
   "cell_type": "code",
   "execution_count": 101,
   "metadata": {},
   "outputs": [
    {
     "data": {
      "text/plain": [
       "[[0, 15, 15, 1, [0, 0, 0, 0, 0, 0, 0, 0]],\n",
       " [1, 15, 15, 1, [0, 0, 0, 0, 0, 0, 0, 0]],\n",
       " [2, 15, 15, 2, [0, 0, 0, 0, 0, 0, 0, 0]],\n",
       " [3, 15, 15, 2, [0, 0, 0, 0, 0, 0, 0, 0]],\n",
       " [4, 15, 15, 4, [0, 0, 0, 0, 0, 0, 0, 0]],\n",
       " [5, 15, 15, 4, [0, 0, 0, 0, 0, 0, 0, 0]],\n",
       " [8, 0, 1, 12, [0, 0, 0, 0, 0, 0, 0, 0]]]"
      ]
     },
     "execution_count": 101,
     "metadata": {},
     "output_type": "execute_result"
    }
   ],
   "source": [
    "nodes"
   ]
  },
  {
   "cell_type": "code",
   "execution_count": 102,
   "metadata": {},
   "outputs": [
    {
     "data": {
      "text/plain": [
       "[[7, 15, 15, 6, [0, 0, 0, 0, 0, 0, 0, 0]],\n",
       " [6, 15, 15, 6, [0, 0, 0, 0, 0, 0, 0, 0]]]"
      ]
     },
     "execution_count": 102,
     "metadata": {},
     "output_type": "execute_result"
    }
   ],
   "source": [
    "tree"
   ]
  },
  {
   "cell_type": "code",
   "execution_count": 103,
   "metadata": {},
   "outputs": [],
   "source": [
    "tree = [[idx,LEAF,LEAF,31,[0,0,0,0,0,0,0],0] for idx in range(15)]"
   ]
  },
  {
   "cell_type": "code",
   "execution_count": 104,
   "metadata": {},
   "outputs": [
    {
     "data": {
      "text/plain": [
       "[[0, 15, 15, 31, [0, 0, 0, 0, 0, 0, 0], 0],\n",
       " [1, 15, 15, 31, [0, 0, 0, 0, 0, 0, 0], 0],\n",
       " [2, 15, 15, 31, [0, 0, 0, 0, 0, 0, 0], 0],\n",
       " [3, 15, 15, 31, [0, 0, 0, 0, 0, 0, 0], 0],\n",
       " [4, 15, 15, 31, [0, 0, 0, 0, 0, 0, 0], 0],\n",
       " [5, 15, 15, 31, [0, 0, 0, 0, 0, 0, 0], 0],\n",
       " [6, 15, 15, 31, [0, 0, 0, 0, 0, 0, 0], 0],\n",
       " [7, 15, 15, 31, [0, 0, 0, 0, 0, 0, 0], 0],\n",
       " [8, 15, 15, 31, [0, 0, 0, 0, 0, 0, 0], 0],\n",
       " [9, 15, 15, 31, [0, 0, 0, 0, 0, 0, 0], 0],\n",
       " [10, 15, 15, 31, [0, 0, 0, 0, 0, 0, 0], 0],\n",
       " [11, 15, 15, 31, [0, 0, 0, 0, 0, 0, 0], 0],\n",
       " [12, 15, 15, 31, [0, 0, 0, 0, 0, 0, 0], 0],\n",
       " [13, 15, 15, 31, [0, 0, 0, 0, 0, 0, 0], 0],\n",
       " [14, 15, 15, 31, [0, 0, 0, 0, 0, 0, 0], 0]]"
      ]
     },
     "execution_count": 104,
     "metadata": {},
     "output_type": "execute_result"
    }
   ],
   "source": [
    "tree"
   ]
  },
  {
   "cell_type": "markdown",
   "metadata": {},
   "source": [
    "#### Do sortings using weights, than combine to make new sub trees repeat until there is nothing left"
   ]
  },
  {
   "cell_type": "code",
   "execution_count": 105,
   "metadata": {},
   "outputs": [],
   "source": [
    "import copy\n",
    "sorter_in = []\n",
    "\n",
    "# Read weights in\n",
    "for cnt in range(8):\n",
    "    # Plug the weights into the correct tree position\n",
    "    tree[cnt][3] = in_weight[cnt]\n",
    "    sorter_in.append([cnt,in_weight[cnt]])\n",
    "\n",
    "cnt = 0\n",
    "tree_ptr = 8\n",
    "\n",
    "## Building trees\n",
    "while cnt != 7:\n",
    "    # Sortings\n",
    "    char_in = [sorter_in[i][0] for i in range(8)]\n",
    "    sort_c_in = copy.deepcopy(char_in)\n",
    "\n",
    "    weight_in = [sorter_in[i][1] for i in range(8)]\n",
    "    sort_w_in = copy.deepcopy(weight_in)\n",
    "\n",
    "    char_out = bubble_sort_caw(sort_c_in,sort_w_in) # pass (nodes, weights) into sort\n",
    "\n",
    "    # Update sorter in\n",
    "    for i in range(6):\n",
    "        sorter_in[i] = [char_out[i],weight_in[char_in.index(char_out[i])]]\n",
    "\n",
    "    node1_idx   = char_out[7] # Smaller to right, higher index bit\n",
    "    node2_idx   = char_out[6] # Larger to left, lower index bit\n",
    "\n",
    "    node1 = tree[node1_idx]\n",
    "    node2 = tree[node2_idx]\n",
    "    merged_node_weight = node1[3]+node2[3]\n",
    "    # Create dummy nodes\n",
    "    sub_tree = [tree_ptr,node2_idx,node1_idx,merged_node_weight,[0,0,0,0,0,0,0],0]\n",
    "    # Push dummy nodes and LEAF into nodes list\n",
    "    sorter_in[6] = [LEAF,31]\n",
    "    sorter_in[7] = [tree_ptr,merged_node_weight]\n",
    "    # print(sorter_in)\n",
    "    tree[tree_ptr] = sub_tree\n",
    "    tree_ptr += 1\n",
    "\n",
    "    cnt += 1\n"
   ]
  },
  {
   "cell_type": "code",
   "execution_count": 106,
   "metadata": {},
   "outputs": [
    {
     "data": {
      "text/plain": [
       "[[0, 15, 15, 1, [0, 0, 0, 0, 0, 0, 0], 0],\n",
       " [1, 15, 15, 1, [0, 0, 0, 0, 0, 0, 0], 0],\n",
       " [2, 15, 15, 2, [0, 0, 0, 0, 0, 0, 0], 0],\n",
       " [3, 15, 15, 2, [0, 0, 0, 0, 0, 0, 0], 0],\n",
       " [4, 15, 15, 4, [0, 0, 0, 0, 0, 0, 0], 0],\n",
       " [5, 15, 15, 4, [0, 0, 0, 0, 0, 0, 0], 0],\n",
       " [6, 15, 15, 6, [0, 0, 0, 0, 0, 0, 0], 0],\n",
       " [7, 15, 15, 6, [0, 0, 0, 0, 0, 0, 0], 0],\n",
       " [8, 0, 1, 2, [0, 0, 0, 0, 0, 0, 0], 0],\n",
       " [9, 3, 8, 4, [0, 0, 0, 0, 0, 0, 0], 0],\n",
       " [10, 9, 2, 6, [0, 0, 0, 0, 0, 0, 0], 0],\n",
       " [11, 4, 5, 8, [0, 0, 0, 0, 0, 0, 0], 0],\n",
       " [12, 7, 10, 12, [0, 0, 0, 0, 0, 0, 0], 0],\n",
       " [13, 11, 6, 14, [0, 0, 0, 0, 0, 0, 0], 0],\n",
       " [14, 13, 12, 26, [0, 0, 0, 0, 0, 0, 0], 0]]"
      ]
     },
     "execution_count": 106,
     "metadata": {},
     "output_type": "execute_result"
    }
   ],
   "source": [
    "tree"
   ]
  },
  {
   "cell_type": "markdown",
   "metadata": {},
   "source": [
    "#### Notice that the older subtree and older dummy nodes are always in larger index! So simply use a cnt to down count to traverse the whole tree!"
   ]
  },
  {
   "cell_type": "code",
   "execution_count": 107,
   "metadata": {},
   "outputs": [],
   "source": [
    "cnt = 14\n",
    "\n",
    "# Traversing the tree by down counting from root\n",
    "while cnt != 0:\n",
    "    cur_node = tree[cnt]\n",
    "    cur_code        = cur_node[4]\n",
    "    cur_bit_count   = cur_node[5]\n",
    "    left_child_idx  = cur_node[1]\n",
    "    right_child_idx = cur_node[2]\n",
    "\n",
    "    if left_child_idx != LEAF and right_child_idx != LEAF:\n",
    "        # Assign left child code\n",
    "        left_child_code = copy.deepcopy(cur_code)\n",
    "        left_child_code[cur_bit_count] = 0\n",
    "        tree[left_child_idx][4] = left_child_code\n",
    "        # Assign bit counts\n",
    "        tree[left_child_idx][5] = cur_bit_count + 1\n",
    "\n",
    "        # Assign right child code\n",
    "        right_child_code = copy.deepcopy(cur_code)\n",
    "        right_child_code[cur_bit_count] = 1\n",
    "        tree[right_child_idx][4] = right_child_code\n",
    "        # Assign bit counts\n",
    "        tree[right_child_idx][5] = cur_bit_count + 1\n",
    "\n",
    "    cnt = cnt - 1"
   ]
  },
  {
   "cell_type": "code",
   "execution_count": 108,
   "metadata": {},
   "outputs": [
    {
     "data": {
      "text/plain": [
       "[[0, 15, 15, 1, [1, 1, 0, 1, 0, 0, 0], 5],\n",
       " [1, 15, 15, 1, [1, 1, 0, 1, 1, 0, 0], 5],\n",
       " [2, 15, 15, 2, [1, 1, 1, 0, 0, 0, 0], 3],\n",
       " [3, 15, 15, 2, [1, 1, 0, 0, 0, 0, 0], 4],\n",
       " [4, 15, 15, 4, [0, 0, 0, 0, 0, 0, 0], 3],\n",
       " [5, 15, 15, 4, [0, 0, 1, 0, 0, 0, 0], 3],\n",
       " [6, 15, 15, 6, [0, 1, 0, 0, 0, 0, 0], 2],\n",
       " [7, 15, 15, 6, [1, 0, 0, 0, 0, 0, 0], 2],\n",
       " [8, 0, 1, 2, [1, 1, 0, 1, 0, 0, 0], 4],\n",
       " [9, 3, 8, 4, [1, 1, 0, 0, 0, 0, 0], 3],\n",
       " [10, 9, 2, 6, [1, 1, 0, 0, 0, 0, 0], 2],\n",
       " [11, 4, 5, 8, [0, 0, 0, 0, 0, 0, 0], 2],\n",
       " [12, 7, 10, 12, [1, 0, 0, 0, 0, 0, 0], 1],\n",
       " [13, 11, 6, 14, [0, 0, 0, 0, 0, 0, 0], 1],\n",
       " [14, 13, 12, 26, [0, 0, 0, 0, 0, 0, 0], 0]]"
      ]
     },
     "execution_count": 108,
     "metadata": {},
     "output_type": "execute_result"
    }
   ],
   "source": [
    "tree"
   ]
  },
  {
   "cell_type": "markdown",
   "metadata": {},
   "source": [
    "####\n",
    "A   = 0\n",
    "B   = 1\n",
    "C   = 2\n",
    "E   = 3\n",
    "I   = 4\n",
    "L   = 5\n",
    "O   = 6\n",
    "V   = 7"
   ]
  },
  {
   "cell_type": "markdown",
   "metadata": {},
   "source": [
    "#### Output ILOVE"
   ]
  },
  {
   "cell_type": "code",
   "execution_count": 109,
   "metadata": {},
   "outputs": [],
   "source": [
    "output = ''\n",
    "for e in [I,L,O,V,E]:\n",
    "    bit_len = tree[e][5] # Valid length bit\n",
    "    bits    = tree[e][4]\n",
    "    for i in range(bit_len):\n",
    "        output = output + str(bits[i])"
   ]
  },
  {
   "cell_type": "code",
   "execution_count": 110,
   "metadata": {},
   "outputs": [
    {
     "data": {
      "text/plain": [
       "'00000101101100'"
      ]
     },
     "execution_count": 110,
     "metadata": {},
     "output_type": "execute_result"
    }
   ],
   "source": [
    "output"
   ]
  },
  {
   "cell_type": "markdown",
   "metadata": {},
   "source": [
    "### Output ICLAB"
   ]
  },
  {
   "cell_type": "code",
   "execution_count": 111,
   "metadata": {},
   "outputs": [],
   "source": [
    "output = ''\n",
    "for e in [I,C,L,A,B]:\n",
    "    bit_len = tree[e][5]\n",
    "    bits    = tree[e][4]\n",
    "    for i in range(bit_len):\n",
    "        output = output + str(bits[i])"
   ]
  },
  {
   "cell_type": "code",
   "execution_count": 112,
   "metadata": {},
   "outputs": [
    {
     "data": {
      "text/plain": [
       "'0001110011101011011'"
      ]
     },
     "execution_count": 112,
     "metadata": {},
     "output_type": "execute_result"
    }
   ],
   "source": [
    "output"
   ]
  }
 ],
 "metadata": {
  "kernelspec": {
   "display_name": "Python 3 (ipykernel)",
   "language": "python",
   "name": "python3"
  },
  "language_info": {
   "codemirror_mode": {
    "name": "ipython",
    "version": 3
   },
   "file_extension": ".py",
   "mimetype": "text/x-python",
   "name": "python",
   "nbconvert_exporter": "python",
   "pygments_lexer": "ipython3",
   "version": "3.11.6"
  }
 },
 "nbformat": 4,
 "nbformat_minor": 2
}
