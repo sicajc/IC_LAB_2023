{
 "cells": [
  {
   "cell_type": "code",
   "execution_count": 88,
   "metadata": {},
   "outputs": [
    {
     "name": "stdout",
     "output_type": "stream",
     "text": [
      "Test Case 1:\n",
      "n = 4\n",
      "Data:\n",
      "\n",
      "Test Case 2:\n",
      "n = 2\n",
      "Data:\n",
      "2 3 6\n",
      "4 3 2\n",
      "2 2 2\n",
      "5 3 3\n",
      "7 3 6\n",
      "5 2 6\n",
      "\n",
      "Test Case 3:\n",
      "n = 1\n",
      "Data:\n",
      "7 4 4\n",
      "5 7 4\n",
      "5 2 4\n",
      "4 5 3\n",
      "3 3 7\n",
      "1 3 2\n",
      "\n",
      "Test Case 4:\n",
      "n = 1\n",
      "Data:\n",
      "6 4 6\n",
      "1 1 7\n",
      "1 1 1\n",
      "7 6 5\n",
      "7 5 3\n",
      "2 7 3\n",
      "\n",
      "Test Case 5:\n",
      "n = 0\n",
      "Data:\n",
      "7 6 2\n",
      "7 4 7\n",
      "5 4 5\n",
      "2 6 4\n",
      "6 6 4\n",
      "3 4 1\n",
      "\n"
     ]
    }
   ],
   "source": [
    "# Define a function to parse the data for each test case\n",
    "def parse_test_case(lines):\n",
    "    n = int(lines[0])\n",
    "    data = []\n",
    "    for line in lines[1:]:\n",
    "        row = list(map(int, line.split()))\n",
    "        data.append(row)\n",
    "    return n, data\n",
    "\n",
    "# Read the input file\n",
    "with open(\"input.txt\", \"r\") as file:\n",
    "    lines = file.readlines()\n",
    "\n",
    "# Initialize variables to keep track of the test cases\n",
    "test_cases = []\n",
    "current_test_case = []\n",
    "\n",
    "# Iterate through the lines and group them into test cases\n",
    "for line in lines:\n",
    "    line = line.strip()\n",
    "    if line:\n",
    "        current_test_case.append(line)\n",
    "    else:\n",
    "        if current_test_case:\n",
    "            test_cases.append(parse_test_case(current_test_case))\n",
    "            current_test_case = []\n",
    "\n",
    "# If there's a test case left at the end of the file, add it\n",
    "if current_test_case:\n",
    "    test_cases.append(parse_test_case(current_test_case))\n",
    "\n",
    "# Now, test_cases contains a list of tuples, where each tuple consists of (n, data) for each test case\n",
    "# You can access them as needed\n",
    "\n",
    "# Example: Print the contents of the test cases\n",
    "for idx, (n, data) in enumerate(test_cases, start=1):\n",
    "    print(f\"Test Case {idx}:\")\n",
    "    print(f\"n = {n}\")\n",
    "    print(\"Data:\")\n",
    "    for row in data:\n",
    "        print(\" \".join(map(str, row)))\n",
    "    print()\n"
   ]
  },
  {
   "cell_type": "code",
   "execution_count": 89,
   "metadata": {},
   "outputs": [
    {
     "data": {
      "text/plain": [
       "(2, [[2, 3, 6], [4, 3, 2], [2, 2, 2], [5, 3, 3], [7, 3, 6], [5, 2, 6]])"
      ]
     },
     "execution_count": 89,
     "metadata": {},
     "output_type": "execute_result"
    }
   ],
   "source": [
    "test_cases[1]"
   ]
  },
  {
   "cell_type": "code",
   "execution_count": 90,
   "metadata": {},
   "outputs": [
    {
     "name": "stdout",
     "output_type": "stream",
     "text": [
      "[2, 3, 6]\n",
      "[4, 3, 2]\n",
      "[2, 2, 2]\n",
      "[5, 3, 3]\n",
      "[7, 3, 6]\n",
      "[5, 2, 6]\n"
     ]
    }
   ],
   "source": [
    "current_test_num = 1\n",
    "test_number = test_cases[0][0]\n",
    "N= 6\n",
    "vds , vgs , width = [],[],[]\n",
    "\n",
    "golden = test_cases[current_test_num][0]\n",
    "\n",
    "for test_vector in test_cases[current_test_num][1]:\n",
    "    print(test_vector)\n",
    "    vds.append(test_vector[0])      \n",
    "    vgs.append(test_vector[1])      \n",
    "    width.append(test_vector[2])  \n",
    "    \n",
    "id_gm_result = [0 for i in range(0,N)]\n",
    "sorted_result = [0 for i in range(0,N)]\n",
    "mode  = 0"
   ]
  },
  {
   "cell_type": "code",
   "execution_count": 91,
   "metadata": {},
   "outputs": [
    {
     "data": {
      "text/plain": [
       "(2, [3, 3, 2, 3, 3, 2], [2, 4, 2, 5, 7, 5], [6, 2, 2, 3, 6, 6])"
      ]
     },
     "execution_count": 91,
     "metadata": {},
     "output_type": "execute_result"
    }
   ],
   "source": [
    "golden, vgs , vds, width"
   ]
  },
  {
   "cell_type": "code",
   "execution_count": 92,
   "metadata": {},
   "outputs": [],
   "source": [
    "for i in range(0,N):\n",
    "    if ((vgs[i]-1) > vds[i]):\n",
    "        if(mode == 0 or mode == 2):\n",
    "            # Transconductance\n",
    "            id_gm_result[i] =  (width[i] * ((2 * (vgs[i] - 1) * vds[i]) - (vds[i]*vds[i])))//3\n",
    "        else:\n",
    "            # Current\n",
    "            id_gm_result[i] =  2 * ((width[i]*vds[i]) // 3)\n",
    "    else:\n",
    "        if(mode == 0 or mode == 2):\n",
    "            # Trans\n",
    "            id_gm_result[i] =  (width[i] * ((vgs[i]-1)*(vgs[i]-1))) // 3        \n",
    "        else:\n",
    "            # Current\n",
    "            id_gm_result[i] =  2 * ((width[i]*(vgs[i]-1)) // 3)"
   ]
  },
  {
   "cell_type": "code",
   "execution_count": 93,
   "metadata": {},
   "outputs": [
    {
     "data": {
      "text/plain": [
       "[8, 2, 0, 4, 8, 2]"
      ]
     },
     "execution_count": 93,
     "metadata": {},
     "output_type": "execute_result"
    }
   ],
   "source": [
    "id_gm_result"
   ]
  },
  {
   "cell_type": "code",
   "execution_count": 94,
   "metadata": {},
   "outputs": [],
   "source": [
    "id_gm_result.sort(reverse=True)"
   ]
  },
  {
   "cell_type": "code",
   "execution_count": 95,
   "metadata": {},
   "outputs": [
    {
     "data": {
      "text/plain": [
       "[8, 8, 4, 2, 2, 0]"
      ]
     },
     "execution_count": 95,
     "metadata": {},
     "output_type": "execute_result"
    }
   ],
   "source": [
    "id_gm_result"
   ]
  },
  {
   "cell_type": "code",
   "execution_count": 96,
   "metadata": {},
   "outputs": [],
   "source": [
    "if mode == 0:\n",
    "    out_n = (id_gm_result[3] + id_gm_result[4] + id_gm_result[5] ) // 3\n",
    "elif mode == 1:\n",
    "    out_n = (3*id_gm_result[3] + 4*id_gm_result[4] + 5*id_gm_result[5] ) // 12\n",
    "elif mode == 2:\n",
    "    out_n = (id_gm_result[0] + id_gm_result[1] + id_gm_result[2] ) // 3    \n",
    "elif mode == 3:\n",
    "    out_n = (3*id_gm_result[0] + 4*id_gm_result[1] + 5*id_gm_result[2] ) // 12\n",
    "    "
   ]
  },
  {
   "cell_type": "code",
   "execution_count": 97,
   "metadata": {},
   "outputs": [
    {
     "data": {
      "text/plain": [
       "1"
      ]
     },
     "execution_count": 97,
     "metadata": {},
     "output_type": "execute_result"
    }
   ],
   "source": [
    "out_n"
   ]
  },
  {
   "cell_type": "code",
   "execution_count": 98,
   "metadata": {},
   "outputs": [
    {
     "data": {
      "text/plain": [
       "False"
      ]
     },
     "execution_count": 98,
     "metadata": {},
     "output_type": "execute_result"
    }
   ],
   "source": [
    "out_n == golden"
   ]
  },
  {
   "cell_type": "code",
   "execution_count": 46,
   "metadata": {},
   "outputs": [],
   "source": [
    "file.close()"
   ]
  }
 ],
 "metadata": {
  "kernelspec": {
   "display_name": "base",
   "language": "python",
   "name": "python3"
  },
  "language_info": {
   "codemirror_mode": {
    "name": "ipython",
    "version": 3
   },
   "file_extension": ".py",
   "mimetype": "text/x-python",
   "name": "python",
   "nbconvert_exporter": "python",
   "pygments_lexer": "ipython3",
   "version": "3.9.12"
  },
  "orig_nbformat": 4
 },
 "nbformat": 4,
 "nbformat_minor": 2
}
