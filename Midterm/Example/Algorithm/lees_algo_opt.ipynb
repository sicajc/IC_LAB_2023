{
 "cells": [
  {
   "cell_type": "code",
   "execution_count": 1,
   "metadata": {},
   "outputs": [],
   "source": [
    "import numpy as np\n",
    "import copy\n",
    "MAP_SIZE = 16\n",
    "\n",
    "# Do data structure augmentation on both map\n",
    "# Path map, 0 as passable, 1 as block, 2,3 as seq for further optimization\n",
    "path_map = np.array([[0 for y in range(MAP_SIZE+2)] for x in range(MAP_SIZE+2)])\n",
    "\n",
    "# Location map, 0 as passable, 1 as blocked\n",
    "location_map = np.array([[0 for y in range(MAP_SIZE+2)] for x in range(MAP_SIZE+2)])\n",
    "\n",
    "# Wall padding for boundary condition handling\n",
    "for y in range(MAP_SIZE+2):\n",
    "    for x in range(MAP_SIZE+2):\n",
    "        if y == 0 or x == 0 or y == MAP_SIZE+1 or x == MAP_SIZE+1:\n",
    "            path_map[y,x] = 3\n",
    "            location_map[y,x] = 1\n",
    "\n",
    "# Thus all target is offsetted by (1,1)\n",
    "# (x,y)\n",
    "# Assign example location map\n",
    "# Macro 1\n",
    "location_map[3:5,11:15] = 9\n",
    "location_map[11:13,5:7] = 9\n",
    "# Macro 2\n",
    "location_map[3:6,3:7] = 4\n",
    "location_map[13:15,12:15] = 4"
   ]
  },
  {
   "cell_type": "code",
   "execution_count": 2,
   "metadata": {},
   "outputs": [],
   "source": [
    "def copy_loc_path(path_map,location_map):\n",
    "    for y in range(MAP_SIZE+2):\n",
    "        for x in range(MAP_SIZE+2):\n",
    "            if location_map[y,x] != 0:\n",
    "                path_map[y,x] = 3\n",
    "            else:\n",
    "                path_map[y,x] = 0\n",
    "    return"
   ]
  },
  {
   "cell_type": "code",
   "execution_count": 3,
   "metadata": {},
   "outputs": [],
   "source": [
    "copy_loc_path(path_map,location_map)"
   ]
  },
  {
   "cell_type": "code",
   "execution_count": 4,
   "metadata": {},
   "outputs": [
    {
     "data": {
      "text/plain": [
       "array([[1, 1, 1, 1, 1, 1, 1, 1, 1, 1, 1, 1, 1, 1, 1, 1, 1, 1],\n",
       "       [1, 0, 0, 0, 0, 0, 0, 0, 0, 0, 0, 0, 0, 0, 0, 0, 0, 1],\n",
       "       [1, 0, 0, 0, 0, 0, 0, 0, 0, 0, 0, 0, 0, 0, 0, 0, 0, 1],\n",
       "       [1, 0, 0, 4, 4, 4, 4, 0, 0, 0, 0, 9, 9, 9, 9, 0, 0, 1],\n",
       "       [1, 0, 0, 4, 4, 4, 4, 0, 0, 0, 0, 9, 9, 9, 9, 0, 0, 1],\n",
       "       [1, 0, 0, 4, 4, 4, 4, 0, 0, 0, 0, 0, 0, 0, 0, 0, 0, 1],\n",
       "       [1, 0, 0, 0, 0, 0, 0, 0, 0, 0, 0, 0, 0, 0, 0, 0, 0, 1],\n",
       "       [1, 0, 0, 0, 0, 0, 0, 0, 0, 0, 0, 0, 0, 0, 0, 0, 0, 1],\n",
       "       [1, 0, 0, 0, 0, 0, 0, 0, 0, 0, 0, 0, 0, 0, 0, 0, 0, 1],\n",
       "       [1, 0, 0, 0, 0, 0, 0, 0, 0, 0, 0, 0, 0, 0, 0, 0, 0, 1],\n",
       "       [1, 0, 0, 0, 0, 0, 0, 0, 0, 0, 0, 0, 0, 0, 0, 0, 0, 1],\n",
       "       [1, 0, 0, 0, 0, 9, 9, 0, 0, 0, 0, 0, 0, 0, 0, 0, 0, 1],\n",
       "       [1, 0, 0, 0, 0, 9, 9, 0, 0, 0, 0, 0, 0, 0, 0, 0, 0, 1],\n",
       "       [1, 0, 0, 0, 0, 0, 0, 0, 0, 0, 0, 0, 4, 4, 4, 0, 0, 1],\n",
       "       [1, 0, 0, 0, 0, 0, 0, 0, 0, 0, 0, 0, 4, 4, 4, 0, 0, 1],\n",
       "       [1, 0, 0, 0, 0, 0, 0, 0, 0, 0, 0, 0, 0, 0, 0, 0, 0, 1],\n",
       "       [1, 0, 0, 0, 0, 0, 0, 0, 0, 0, 0, 0, 0, 0, 0, 0, 0, 1],\n",
       "       [1, 1, 1, 1, 1, 1, 1, 1, 1, 1, 1, 1, 1, 1, 1, 1, 1, 1]])"
      ]
     },
     "execution_count": 4,
     "metadata": {},
     "output_type": "execute_result"
    }
   ],
   "source": [
    "location_map"
   ]
  },
  {
   "cell_type": "code",
   "execution_count": 5,
   "metadata": {},
   "outputs": [
    {
     "data": {
      "text/plain": [
       "array([[3, 3, 3, 3, 3, 3, 3, 3, 3, 3, 3, 3, 3, 3, 3, 3, 3, 3],\n",
       "       [3, 0, 0, 0, 0, 0, 0, 0, 0, 0, 0, 0, 0, 0, 0, 0, 0, 3],\n",
       "       [3, 0, 0, 0, 0, 0, 0, 0, 0, 0, 0, 0, 0, 0, 0, 0, 0, 3],\n",
       "       [3, 0, 0, 3, 3, 3, 3, 0, 0, 0, 0, 3, 3, 3, 3, 0, 0, 3],\n",
       "       [3, 0, 0, 3, 3, 3, 3, 0, 0, 0, 0, 3, 3, 3, 3, 0, 0, 3],\n",
       "       [3, 0, 0, 3, 3, 3, 3, 0, 0, 0, 0, 0, 0, 0, 0, 0, 0, 3],\n",
       "       [3, 0, 0, 0, 0, 0, 0, 0, 0, 0, 0, 0, 0, 0, 0, 0, 0, 3],\n",
       "       [3, 0, 0, 0, 0, 0, 0, 0, 0, 0, 0, 0, 0, 0, 0, 0, 0, 3],\n",
       "       [3, 0, 0, 0, 0, 0, 0, 0, 0, 0, 0, 0, 0, 0, 0, 0, 0, 3],\n",
       "       [3, 0, 0, 0, 0, 0, 0, 0, 0, 0, 0, 0, 0, 0, 0, 0, 0, 3],\n",
       "       [3, 0, 0, 0, 0, 0, 0, 0, 0, 0, 0, 0, 0, 0, 0, 0, 0, 3],\n",
       "       [3, 0, 0, 0, 0, 3, 3, 0, 0, 0, 0, 0, 0, 0, 0, 0, 0, 3],\n",
       "       [3, 0, 0, 0, 0, 3, 3, 0, 0, 0, 0, 0, 0, 0, 0, 0, 0, 3],\n",
       "       [3, 0, 0, 0, 0, 0, 0, 0, 0, 0, 0, 0, 3, 3, 3, 0, 0, 3],\n",
       "       [3, 0, 0, 0, 0, 0, 0, 0, 0, 0, 0, 0, 3, 3, 3, 0, 0, 3],\n",
       "       [3, 0, 0, 0, 0, 0, 0, 0, 0, 0, 0, 0, 0, 0, 0, 0, 0, 3],\n",
       "       [3, 0, 0, 0, 0, 0, 0, 0, 0, 0, 0, 0, 0, 0, 0, 0, 0, 3],\n",
       "       [3, 3, 3, 3, 3, 3, 3, 3, 3, 3, 3, 3, 3, 3, 3, 3, 3, 3]])"
      ]
     },
     "execution_count": 5,
     "metadata": {},
     "output_type": "execute_result"
    }
   ],
   "source": [
    "path_map"
   ]
  },
  {
   "cell_type": "code",
   "execution_count": 6,
   "metadata": {},
   "outputs": [],
   "source": [
    "## Given net_id,loc_x and loc_y\n",
    "net_id_1 = 9\n",
    "src_x_1 = 5  #source\n",
    "src_y_1 = 10\n",
    "dst_x_1 = 11 #sink\n",
    "dst_y_1 = 3\n",
    "\n",
    "net_id_2 = 4\n",
    "src_x_2 = 4  #source\n",
    "src_y_2 = 2\n",
    "dst_x_2 = 13 # sink\n",
    "dst_y_2 = 13"
   ]
  },
  {
   "cell_type": "code",
   "execution_count": 7,
   "metadata": {},
   "outputs": [],
   "source": [
    "path_map_nxt = copy.deepcopy(path_map)"
   ]
  },
  {
   "cell_type": "code",
   "execution_count": 8,
   "metadata": {},
   "outputs": [],
   "source": [
    "def adjacent_has_1_2(path_map,dst_y,dst_x):\n",
    "    if path_map[dst_y+1,dst_x] == 1 or path_map[dst_y-1,dst_x]==1 or \\\n",
    "       path_map[dst_y,dst_x+1]==1 or path_map[dst_y,dst_x-1]==1 \\\n",
    "       or path_map[dst_y+1,dst_x] == 2 or path_map[dst_y-1,dst_x]==2 or \\\n",
    "       path_map[dst_y,dst_x+1]==2 or path_map[dst_y,dst_x-1]==2:\n",
    "        return True\n",
    "    else:\n",
    "        return False"
   ]
  },
  {
   "cell_type": "code",
   "execution_count": 9,
   "metadata": {},
   "outputs": [],
   "source": [
    "def fillpath(src_x,src_y,dst_x,dst_y,location_map,path_map):\n",
    "    # Initailize source, all source must be offsetted by (1,1)\n",
    "    cur_y = src_y+1\n",
    "    cur_x = src_x+1\n",
    "    target_y = dst_y+1\n",
    "    target_x = dst_x+1\n",
    "    for neighbor in [[cur_y+1,cur_x],[cur_y-1,cur_x],[cur_y,cur_x+1],[cur_y,cur_x-1]]:\n",
    "        neighbor_x = neighbor[1]\n",
    "        neighbor_y = neighbor[0]\n",
    "        if location_map[neighbor_y,neighbor_x] == 0 and path_map[neighbor_y,neighbor_x] == 0:\n",
    "            path_map[neighbor_y,neighbor_x] = 1\n",
    "\n",
    "    cnt = 1\n",
    "    path_map_nxt = copy.deepcopy(path_map)\n",
    "    while True:\n",
    "        if cnt == 4:\n",
    "            cnt = 0\n",
    "\n",
    "        if adjacent_has_1_2(path_map,target_y,target_x):\n",
    "            return path_map,cnt\n",
    "\n",
    "        for cur_y in range(1,MAP_SIZE+1):\n",
    "            for cur_x in range(1,MAP_SIZE+1):\n",
    "                if location_map[cur_y,cur_x] == 0 and path_map[cur_y,cur_x] == 0:\n",
    "                    # Down,up,right,left\n",
    "                    if adjacent_has_1_2(path_map,cur_y,cur_x):\n",
    "                        if cnt == 0:\n",
    "                            path_map_nxt[cur_y,cur_x] = 1\n",
    "                        elif cnt == 1:\n",
    "                            path_map_nxt[cur_y,cur_x] = 1\n",
    "                        elif cnt == 2:\n",
    "                            path_map_nxt[cur_y,cur_x] = 2\n",
    "                        elif cnt == 3:\n",
    "                            path_map_nxt[cur_y,cur_x] = 2\n",
    "\n",
    "        # print(path_map_nxt)\n",
    "        path_map = copy.deepcopy(path_map_nxt)\n",
    "        cnt += 1"
   ]
  },
  {
   "cell_type": "code",
   "execution_count": 10,
   "metadata": {},
   "outputs": [],
   "source": [
    "path_map,cnt = fillpath(src_x_1,src_y_1,dst_x_1,dst_y_1,location_map,path_map)"
   ]
  },
  {
   "cell_type": "code",
   "execution_count": 11,
   "metadata": {},
   "outputs": [
    {
     "data": {
      "text/plain": [
       "(array([[3, 3, 3, 3, 3, 3, 3, 3, 3, 3, 3, 3, 3, 3, 3, 3, 3, 3],\n",
       "        [3, 0, 0, 0, 0, 0, 2, 2, 2, 0, 0, 0, 0, 0, 0, 0, 0, 3],\n",
       "        [3, 0, 0, 0, 0, 2, 2, 1, 2, 2, 0, 0, 0, 0, 0, 0, 0, 3],\n",
       "        [3, 0, 2, 3, 3, 3, 3, 1, 1, 2, 2, 3, 3, 3, 3, 0, 0, 3],\n",
       "        [3, 2, 2, 3, 3, 3, 3, 2, 1, 1, 2, 3, 3, 3, 3, 0, 0, 3],\n",
       "        [3, 2, 1, 3, 3, 3, 3, 2, 2, 1, 1, 2, 2, 0, 0, 0, 0, 3],\n",
       "        [3, 1, 1, 2, 2, 1, 1, 1, 2, 2, 1, 1, 2, 2, 0, 0, 0, 3],\n",
       "        [3, 1, 2, 2, 1, 1, 2, 1, 1, 2, 2, 1, 1, 2, 2, 0, 0, 3],\n",
       "        [3, 2, 2, 1, 1, 2, 2, 2, 1, 1, 2, 2, 1, 1, 2, 2, 0, 3],\n",
       "        [3, 2, 1, 1, 2, 2, 1, 2, 2, 1, 1, 2, 2, 1, 1, 2, 2, 3],\n",
       "        [3, 1, 1, 2, 2, 1, 1, 1, 2, 2, 1, 1, 2, 2, 1, 1, 2, 3],\n",
       "        [3, 2, 1, 1, 2, 3, 3, 1, 1, 2, 2, 1, 1, 2, 2, 1, 1, 3],\n",
       "        [3, 2, 2, 1, 1, 3, 3, 1, 2, 2, 1, 1, 2, 2, 1, 1, 2, 3],\n",
       "        [3, 1, 2, 2, 1, 1, 2, 2, 2, 1, 1, 2, 3, 3, 3, 2, 2, 3],\n",
       "        [3, 1, 1, 2, 2, 1, 1, 2, 1, 1, 2, 2, 3, 3, 3, 2, 0, 3],\n",
       "        [3, 2, 1, 1, 2, 2, 1, 1, 1, 2, 2, 1, 1, 2, 2, 0, 0, 3],\n",
       "        [3, 2, 2, 1, 1, 2, 2, 1, 2, 2, 1, 1, 2, 2, 0, 0, 0, 3],\n",
       "        [3, 3, 3, 3, 3, 3, 3, 3, 3, 3, 3, 3, 3, 3, 3, 3, 3, 3]]),\n",
       " 0)"
      ]
     },
     "execution_count": 11,
     "metadata": {},
     "output_type": "execute_result"
    }
   ],
   "source": [
    "path_map,cnt"
   ]
  },
  {
   "cell_type": "markdown",
   "metadata": {},
   "source": [
    "### Notice that you can reuse the cnt final state for retracing, retrace simply subtracts the cnt"
   ]
  },
  {
   "cell_type": "code",
   "execution_count": 12,
   "metadata": {},
   "outputs": [],
   "source": [
    "def retrace_path(net_id,src_x,src_y,dst_x,dst_y,location_map,path_map,cnt):\n",
    "    # Find the first label and starting seq from dst, implement FSM in python\n",
    "    cur_x   = dst_x + 1\n",
    "    cur_y   = dst_y + 1\n",
    "    target_x = src_x + 1\n",
    "    target_y = src_y + 1\n",
    "\n",
    "    # From the cnt given, counts back\n",
    "    while True:\n",
    "        if cnt == 0:\n",
    "            nxt_count = 3\n",
    "        else:\n",
    "            nxt_count = cnt-1\n",
    "\n",
    "        if (cur_y+1 ==target_y and cur_x == target_x) or (cur_y-1 == target_y and cur_x == target_x) or (cur_y==target_y and cur_x+1 == target_x)\\\n",
    "        or (cur_y == target_y and cur_x-1 == target_x):\n",
    "            return\n",
    "\n",
    "        if nxt_count == 2 or nxt_count == 3: # Expect 2\n",
    "            # Down\n",
    "            if path_map[cur_y+1,cur_x] == 2:\n",
    "                cur_y = cur_y + 1\n",
    "            # Up\n",
    "            elif path_map[cur_y-1,cur_x] == 2:\n",
    "                cur_y = cur_y-1\n",
    "            # Right\n",
    "            elif path_map[cur_y,cur_x+1] == 2:\n",
    "                cur_x = cur_x+1\n",
    "            # Left\n",
    "            elif path_map[cur_y,cur_x-1] == 2:\n",
    "                cur_x = cur_x-1\n",
    "\n",
    "        elif nxt_count == 0 or nxt_count == 1: # Expect 1\n",
    "            # Down\n",
    "            if path_map[cur_y+1,cur_x] == 1:\n",
    "                cur_y = cur_y + 1\n",
    "            # Up\n",
    "            elif path_map[cur_y-1,cur_x] == 1:\n",
    "                cur_y = cur_y-1\n",
    "            # Right\n",
    "            elif path_map[cur_y,cur_x+1] == 1:\n",
    "                cur_x = cur_x+1\n",
    "            # Left\n",
    "            elif path_map[cur_y,cur_x-1] == 1:\n",
    "                cur_x = cur_x-1\n",
    "\n",
    "        cnt = nxt_count\n",
    "        location_map[cur_y,cur_x] = net_id\n",
    "        path_map[cur_y,cur_x] = 3"
   ]
  },
  {
   "cell_type": "code",
   "execution_count": 13,
   "metadata": {},
   "outputs": [],
   "source": [
    "retrace_path(net_id_1,src_x_1,src_y_1,dst_x_1,dst_y_1,location_map,path_map,cnt)"
   ]
  },
  {
   "cell_type": "code",
   "execution_count": 14,
   "metadata": {},
   "outputs": [
    {
     "data": {
      "text/plain": [
       "array([[1, 1, 1, 1, 1, 1, 1, 1, 1, 1, 1, 1, 1, 1, 1, 1, 1, 1],\n",
       "       [1, 0, 0, 0, 0, 0, 0, 0, 0, 0, 0, 0, 0, 0, 0, 0, 0, 1],\n",
       "       [1, 0, 0, 0, 0, 0, 0, 0, 0, 0, 0, 0, 0, 0, 0, 0, 0, 1],\n",
       "       [1, 0, 0, 4, 4, 4, 4, 0, 0, 0, 0, 9, 9, 9, 9, 0, 0, 1],\n",
       "       [1, 0, 0, 4, 4, 4, 4, 0, 0, 0, 0, 9, 9, 9, 9, 0, 0, 1],\n",
       "       [1, 0, 0, 4, 4, 4, 4, 0, 0, 0, 0, 0, 9, 0, 0, 0, 0, 1],\n",
       "       [1, 0, 0, 0, 0, 0, 0, 0, 0, 0, 0, 0, 9, 0, 0, 0, 0, 1],\n",
       "       [1, 0, 0, 0, 0, 0, 0, 0, 0, 0, 0, 0, 9, 0, 0, 0, 0, 1],\n",
       "       [1, 0, 0, 0, 0, 0, 0, 0, 0, 0, 0, 0, 9, 0, 0, 0, 0, 1],\n",
       "       [1, 0, 0, 0, 0, 0, 0, 0, 0, 0, 0, 0, 9, 0, 0, 0, 0, 1],\n",
       "       [1, 0, 0, 0, 0, 0, 0, 0, 0, 0, 0, 0, 9, 0, 0, 0, 0, 1],\n",
       "       [1, 0, 0, 0, 0, 9, 9, 9, 9, 9, 9, 9, 9, 0, 0, 0, 0, 1],\n",
       "       [1, 0, 0, 0, 0, 9, 9, 0, 0, 0, 0, 0, 0, 0, 0, 0, 0, 1],\n",
       "       [1, 0, 0, 0, 0, 0, 0, 0, 0, 0, 0, 0, 4, 4, 4, 0, 0, 1],\n",
       "       [1, 0, 0, 0, 0, 0, 0, 0, 0, 0, 0, 0, 4, 4, 4, 0, 0, 1],\n",
       "       [1, 0, 0, 0, 0, 0, 0, 0, 0, 0, 0, 0, 0, 0, 0, 0, 0, 1],\n",
       "       [1, 0, 0, 0, 0, 0, 0, 0, 0, 0, 0, 0, 0, 0, 0, 0, 0, 1],\n",
       "       [1, 1, 1, 1, 1, 1, 1, 1, 1, 1, 1, 1, 1, 1, 1, 1, 1, 1]])"
      ]
     },
     "execution_count": 14,
     "metadata": {},
     "output_type": "execute_result"
    }
   ],
   "source": [
    "location_map"
   ]
  },
  {
   "cell_type": "code",
   "execution_count": 15,
   "metadata": {},
   "outputs": [
    {
     "data": {
      "text/plain": [
       "array([[1, 1, 1, 1, 1, 1, 1, 1, 1, 1, 1, 1, 1, 1, 1, 1, 1, 1],\n",
       "       [1, 0, 0, 0, 0, 0, 0, 0, 0, 0, 0, 0, 0, 0, 0, 0, 0, 1],\n",
       "       [1, 0, 0, 0, 0, 0, 0, 0, 0, 0, 0, 0, 0, 0, 0, 0, 0, 1],\n",
       "       [1, 0, 0, 4, 4, 4, 4, 0, 0, 0, 0, 9, 9, 9, 9, 0, 0, 1],\n",
       "       [1, 0, 0, 4, 4, 4, 4, 0, 0, 0, 0, 9, 9, 9, 9, 0, 0, 1],\n",
       "       [1, 0, 0, 4, 4, 4, 4, 0, 0, 0, 0, 0, 9, 0, 0, 0, 0, 1],\n",
       "       [1, 0, 0, 0, 0, 0, 0, 0, 0, 0, 0, 0, 9, 0, 0, 0, 0, 1],\n",
       "       [1, 0, 0, 0, 0, 0, 0, 0, 0, 0, 0, 0, 9, 0, 0, 0, 0, 1],\n",
       "       [1, 0, 0, 0, 0, 0, 0, 0, 0, 0, 0, 0, 9, 0, 0, 0, 0, 1],\n",
       "       [1, 0, 0, 0, 0, 0, 0, 0, 0, 0, 0, 0, 9, 0, 0, 0, 0, 1],\n",
       "       [1, 0, 0, 0, 0, 0, 0, 0, 0, 0, 0, 0, 9, 0, 0, 0, 0, 1],\n",
       "       [1, 0, 0, 0, 0, 9, 9, 9, 9, 9, 9, 9, 9, 0, 0, 0, 0, 1],\n",
       "       [1, 0, 0, 0, 0, 9, 9, 0, 0, 0, 0, 0, 0, 0, 0, 0, 0, 1],\n",
       "       [1, 0, 0, 0, 0, 0, 0, 0, 0, 0, 0, 0, 4, 4, 4, 0, 0, 1],\n",
       "       [1, 0, 0, 0, 0, 0, 0, 0, 0, 0, 0, 0, 4, 4, 4, 0, 0, 1],\n",
       "       [1, 0, 0, 0, 0, 0, 0, 0, 0, 0, 0, 0, 0, 0, 0, 0, 0, 1],\n",
       "       [1, 0, 0, 0, 0, 0, 0, 0, 0, 0, 0, 0, 0, 0, 0, 0, 0, 1],\n",
       "       [1, 1, 1, 1, 1, 1, 1, 1, 1, 1, 1, 1, 1, 1, 1, 1, 1, 1]])"
      ]
     },
     "execution_count": 15,
     "metadata": {},
     "output_type": "execute_result"
    }
   ],
   "source": [
    "location_map"
   ]
  },
  {
   "cell_type": "code",
   "execution_count": 16,
   "metadata": {},
   "outputs": [
    {
     "data": {
      "text/plain": [
       "array([[3, 3, 3, 3, 3, 3, 3, 3, 3, 3, 3, 3, 3, 3, 3, 3, 3, 3],\n",
       "       [3, 0, 0, 0, 0, 0, 2, 2, 2, 0, 0, 0, 0, 0, 0, 0, 0, 3],\n",
       "       [3, 0, 0, 0, 0, 2, 2, 1, 2, 2, 0, 0, 0, 0, 0, 0, 0, 3],\n",
       "       [3, 0, 2, 3, 3, 3, 3, 1, 1, 2, 2, 3, 3, 3, 3, 0, 0, 3],\n",
       "       [3, 2, 2, 3, 3, 3, 3, 2, 1, 1, 2, 3, 3, 3, 3, 0, 0, 3],\n",
       "       [3, 2, 1, 3, 3, 3, 3, 2, 2, 1, 1, 2, 3, 0, 0, 0, 0, 3],\n",
       "       [3, 1, 1, 2, 2, 1, 1, 1, 2, 2, 1, 1, 3, 2, 0, 0, 0, 3],\n",
       "       [3, 1, 2, 2, 1, 1, 2, 1, 1, 2, 2, 1, 3, 2, 2, 0, 0, 3],\n",
       "       [3, 2, 2, 1, 1, 2, 2, 2, 1, 1, 2, 2, 3, 1, 2, 2, 0, 3],\n",
       "       [3, 2, 1, 1, 2, 2, 1, 2, 2, 1, 1, 2, 3, 1, 1, 2, 2, 3],\n",
       "       [3, 1, 1, 2, 2, 1, 1, 1, 2, 2, 1, 1, 3, 2, 1, 1, 2, 3],\n",
       "       [3, 2, 1, 1, 2, 3, 3, 3, 3, 3, 3, 3, 3, 2, 2, 1, 1, 3],\n",
       "       [3, 2, 2, 1, 1, 3, 3, 1, 2, 2, 1, 1, 2, 2, 1, 1, 2, 3],\n",
       "       [3, 1, 2, 2, 1, 1, 2, 2, 2, 1, 1, 2, 3, 3, 3, 2, 2, 3],\n",
       "       [3, 1, 1, 2, 2, 1, 1, 2, 1, 1, 2, 2, 3, 3, 3, 2, 0, 3],\n",
       "       [3, 2, 1, 1, 2, 2, 1, 1, 1, 2, 2, 1, 1, 2, 2, 0, 0, 3],\n",
       "       [3, 2, 2, 1, 1, 2, 2, 1, 2, 2, 1, 1, 2, 2, 0, 0, 0, 3],\n",
       "       [3, 3, 3, 3, 3, 3, 3, 3, 3, 3, 3, 3, 3, 3, 3, 3, 3, 3]])"
      ]
     },
     "execution_count": 16,
     "metadata": {},
     "output_type": "execute_result"
    }
   ],
   "source": [
    "path_map"
   ]
  },
  {
   "cell_type": "markdown",
   "metadata": {},
   "source": [
    "- Clear path map"
   ]
  },
  {
   "cell_type": "code",
   "execution_count": 17,
   "metadata": {},
   "outputs": [],
   "source": [
    "for y in range(MAP_SIZE+2):\n",
    "    for x in range(MAP_SIZE+2):\n",
    "        if path_map[y,x] != 3:\n",
    "            path_map[y,x] = 0"
   ]
  },
  {
   "cell_type": "code",
   "execution_count": 18,
   "metadata": {},
   "outputs": [],
   "source": [
    "def clear_pathmap(path_map):\n",
    "    for y in range(MAP_SIZE+2):\n",
    "        for x in range(MAP_SIZE+2):\n",
    "            if path_map[y,x] != 3:\n",
    "                path_map[y,x] = 0\n",
    "\n",
    "    return"
   ]
  },
  {
   "cell_type": "code",
   "execution_count": 19,
   "metadata": {},
   "outputs": [],
   "source": [
    "net_id_2 = 4\n",
    "src_x_2 = 4  #source\n",
    "src_y_2 = 4\n",
    "dst_x_2 = 13 # sink\n",
    "dst_y_2 = 13"
   ]
  },
  {
   "cell_type": "code",
   "execution_count": 20,
   "metadata": {},
   "outputs": [],
   "source": [
    "path_map,cnt = fillpath(src_x_2,src_y_2,dst_x_2,dst_y_2,location_map,path_map)"
   ]
  },
  {
   "cell_type": "code",
   "execution_count": 21,
   "metadata": {},
   "outputs": [
    {
     "data": {
      "text/plain": [
       "array([[3, 3, 3, 3, 3, 3, 3, 3, 3, 3, 3, 3, 3, 3, 3, 3, 3, 3],\n",
       "       [3, 1, 1, 1, 2, 1, 1, 2, 1, 1, 2, 2, 1, 1, 2, 2, 1, 3],\n",
       "       [3, 1, 2, 1, 1, 1, 2, 2, 2, 1, 1, 2, 2, 1, 1, 2, 2, 3],\n",
       "       [3, 2, 2, 3, 3, 3, 3, 1, 2, 2, 1, 3, 3, 3, 3, 2, 1, 3],\n",
       "       [3, 2, 1, 3, 3, 3, 3, 1, 1, 2, 2, 3, 3, 3, 3, 1, 1, 3],\n",
       "       [3, 1, 1, 3, 3, 3, 3, 2, 1, 1, 2, 2, 3, 2, 2, 1, 2, 3],\n",
       "       [3, 1, 2, 2, 1, 1, 1, 2, 2, 1, 1, 2, 3, 1, 2, 2, 2, 3],\n",
       "       [3, 1, 1, 2, 2, 1, 2, 2, 1, 1, 2, 2, 3, 0, 1, 2, 1, 3],\n",
       "       [3, 2, 1, 1, 2, 2, 2, 1, 1, 2, 2, 1, 3, 0, 0, 1, 0, 3],\n",
       "       [3, 2, 2, 1, 1, 2, 1, 1, 2, 2, 1, 1, 3, 0, 0, 0, 0, 3],\n",
       "       [3, 1, 2, 2, 1, 1, 1, 2, 2, 1, 1, 2, 3, 1, 0, 0, 0, 3],\n",
       "       [3, 1, 1, 2, 2, 3, 3, 3, 3, 3, 3, 3, 3, 2, 1, 0, 0, 3],\n",
       "       [3, 2, 1, 1, 2, 3, 3, 1, 1, 2, 2, 1, 1, 2, 2, 1, 0, 3],\n",
       "       [3, 2, 2, 1, 1, 1, 2, 2, 1, 1, 2, 2, 3, 3, 3, 0, 0, 3],\n",
       "       [3, 1, 2, 2, 1, 2, 2, 1, 1, 2, 2, 1, 3, 3, 3, 0, 0, 3],\n",
       "       [3, 1, 1, 2, 2, 2, 1, 1, 2, 2, 1, 1, 2, 2, 1, 0, 0, 3],\n",
       "       [3, 2, 1, 1, 2, 1, 1, 2, 2, 1, 1, 2, 2, 1, 0, 0, 0, 3],\n",
       "       [3, 3, 3, 3, 3, 3, 3, 3, 3, 3, 3, 3, 3, 3, 3, 3, 3, 3]])"
      ]
     },
     "execution_count": 21,
     "metadata": {},
     "output_type": "execute_result"
    }
   ],
   "source": [
    "path_map"
   ]
  },
  {
   "cell_type": "code",
   "execution_count": 22,
   "metadata": {},
   "outputs": [],
   "source": [
    "retrace_path(net_id_2,src_x_2,src_y_2,dst_x_2,dst_y_2,location_map,path_map,cnt)"
   ]
  },
  {
   "cell_type": "code",
   "execution_count": 23,
   "metadata": {},
   "outputs": [
    {
     "data": {
      "text/plain": [
       "array([[1, 1, 1, 1, 1, 1, 1, 1, 1, 1, 1, 1, 1, 1, 1, 1, 1, 1],\n",
       "       [1, 0, 0, 0, 0, 0, 0, 0, 0, 0, 0, 0, 0, 0, 0, 0, 0, 1],\n",
       "       [1, 0, 0, 0, 0, 0, 0, 0, 0, 0, 0, 0, 0, 0, 0, 0, 0, 1],\n",
       "       [1, 0, 0, 4, 4, 4, 4, 0, 0, 0, 0, 9, 9, 9, 9, 0, 0, 1],\n",
       "       [1, 0, 0, 4, 4, 4, 4, 0, 0, 0, 0, 9, 9, 9, 9, 0, 0, 1],\n",
       "       [1, 0, 0, 4, 4, 4, 4, 0, 0, 0, 0, 0, 9, 0, 0, 0, 0, 1],\n",
       "       [1, 0, 0, 0, 4, 4, 0, 0, 0, 0, 0, 0, 9, 0, 0, 0, 0, 1],\n",
       "       [1, 0, 0, 0, 4, 0, 0, 0, 0, 0, 0, 0, 9, 0, 0, 0, 0, 1],\n",
       "       [1, 0, 0, 0, 4, 0, 0, 0, 0, 0, 0, 0, 9, 0, 0, 0, 0, 1],\n",
       "       [1, 0, 0, 0, 4, 0, 0, 0, 0, 0, 0, 0, 9, 0, 0, 0, 0, 1],\n",
       "       [1, 0, 0, 0, 4, 0, 0, 0, 0, 0, 0, 0, 9, 0, 0, 0, 0, 1],\n",
       "       [1, 0, 0, 0, 4, 9, 9, 9, 9, 9, 9, 9, 9, 0, 0, 0, 0, 1],\n",
       "       [1, 0, 0, 0, 4, 9, 9, 0, 0, 0, 0, 0, 0, 0, 0, 0, 0, 1],\n",
       "       [1, 0, 0, 0, 4, 4, 4, 4, 4, 4, 4, 4, 4, 4, 4, 0, 0, 1],\n",
       "       [1, 0, 0, 0, 0, 0, 0, 0, 0, 0, 0, 4, 4, 4, 4, 0, 0, 1],\n",
       "       [1, 0, 0, 0, 0, 0, 0, 0, 0, 0, 0, 4, 4, 4, 4, 0, 0, 1],\n",
       "       [1, 0, 0, 0, 0, 0, 0, 0, 0, 0, 0, 0, 0, 0, 0, 0, 0, 1],\n",
       "       [1, 1, 1, 1, 1, 1, 1, 1, 1, 1, 1, 1, 1, 1, 1, 1, 1, 1]])"
      ]
     },
     "execution_count": 23,
     "metadata": {},
     "output_type": "execute_result"
    }
   ],
   "source": [
    "location_map"
   ]
  }
 ],
 "metadata": {
  "kernelspec": {
   "display_name": "Python 3",
   "language": "python",
   "name": "python3"
  },
  "language_info": {
   "codemirror_mode": {
    "name": "ipython",
    "version": 3
   },
   "file_extension": ".py",
   "mimetype": "text/x-python",
   "name": "python",
   "nbconvert_exporter": "python",
   "pygments_lexer": "ipython3",
   "version": "3.11.6"
  }
 },
 "nbformat": 4,
 "nbformat_minor": 2
}
