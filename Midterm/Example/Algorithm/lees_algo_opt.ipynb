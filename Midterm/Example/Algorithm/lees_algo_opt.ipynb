{
 "cells": [
  {
   "cell_type": "code",
   "execution_count": 21,
   "metadata": {},
   "outputs": [],
   "source": [
    "import numpy as np\n",
    "import copy\n",
    "from queue import Queue\n",
    "MAP_SIZE = 16\n",
    "path_map = np.array([[0 for y in range(MAP_SIZE)] for x in range(MAP_SIZE)])\n",
    "location_map = np.array([[0 for y in range(MAP_SIZE)] for x in range(MAP_SIZE)])\n",
    "\n",
    "# Framing , double fan out, pick points\n",
    "\n",
    "\n",
    "# (x,y)\n",
    "# Assign example location map\n",
    "# Macro 1\n",
    "location_map[2:4,10:14] = 9\n",
    "location_map[10:12,4:6] = 9\n",
    "# Macro 2\n",
    "location_map[2:5,2:6] = 4\n",
    "location_map[12:14,11:14] = 4"
   ]
  },
  {
   "cell_type": "code",
   "execution_count": 22,
   "metadata": {},
   "outputs": [],
   "source": [
    "path_map = copy.deepcopy(location_map)"
   ]
  },
  {
   "cell_type": "code",
   "execution_count": 23,
   "metadata": {},
   "outputs": [
    {
     "data": {
      "text/plain": [
       "array([[0, 0, 0, 0, 0, 0, 0, 0, 0, 0, 0, 0, 0, 0, 0, 0],\n",
       "       [0, 0, 0, 0, 0, 0, 0, 0, 0, 0, 0, 0, 0, 0, 0, 0],\n",
       "       [0, 0, 4, 4, 4, 4, 0, 0, 0, 0, 9, 9, 9, 9, 0, 0],\n",
       "       [0, 0, 4, 4, 4, 4, 0, 0, 0, 0, 9, 9, 9, 9, 0, 0],\n",
       "       [0, 0, 4, 4, 4, 4, 0, 0, 0, 0, 0, 0, 0, 0, 0, 0],\n",
       "       [0, 0, 0, 0, 0, 0, 0, 0, 0, 0, 0, 0, 0, 0, 0, 0],\n",
       "       [0, 0, 0, 0, 0, 0, 0, 0, 0, 0, 0, 0, 0, 0, 0, 0],\n",
       "       [0, 0, 0, 0, 0, 0, 0, 0, 0, 0, 0, 0, 0, 0, 0, 0],\n",
       "       [0, 0, 0, 0, 0, 0, 0, 0, 0, 0, 0, 0, 0, 0, 0, 0],\n",
       "       [0, 0, 0, 0, 0, 0, 0, 0, 0, 0, 0, 0, 0, 0, 0, 0],\n",
       "       [0, 0, 0, 0, 9, 9, 0, 0, 0, 0, 0, 0, 0, 0, 0, 0],\n",
       "       [0, 0, 0, 0, 9, 9, 0, 0, 0, 0, 0, 0, 0, 0, 0, 0],\n",
       "       [0, 0, 0, 0, 0, 0, 0, 0, 0, 0, 0, 4, 4, 4, 0, 0],\n",
       "       [0, 0, 0, 0, 0, 0, 0, 0, 0, 0, 0, 4, 4, 4, 0, 0],\n",
       "       [0, 0, 0, 0, 0, 0, 0, 0, 0, 0, 0, 0, 0, 0, 0, 0],\n",
       "       [0, 0, 0, 0, 0, 0, 0, 0, 0, 0, 0, 0, 0, 0, 0, 0]])"
      ]
     },
     "execution_count": 23,
     "metadata": {},
     "output_type": "execute_result"
    }
   ],
   "source": [
    "location_map"
   ]
  },
  {
   "cell_type": "code",
   "execution_count": 24,
   "metadata": {},
   "outputs": [
    {
     "data": {
      "text/plain": [
       "array([[0, 0, 0, 0, 0, 0, 0, 0, 0, 0, 0, 0, 0, 0, 0, 0],\n",
       "       [0, 0, 0, 0, 0, 0, 0, 0, 0, 0, 0, 0, 0, 0, 0, 0],\n",
       "       [0, 0, 4, 4, 4, 4, 0, 0, 0, 0, 9, 9, 9, 9, 0, 0],\n",
       "       [0, 0, 4, 4, 4, 4, 0, 0, 0, 0, 9, 9, 9, 9, 0, 0],\n",
       "       [0, 0, 4, 4, 4, 4, 0, 0, 0, 0, 0, 0, 0, 0, 0, 0],\n",
       "       [0, 0, 0, 0, 0, 0, 0, 0, 0, 0, 0, 0, 0, 0, 0, 0],\n",
       "       [0, 0, 0, 0, 0, 0, 0, 0, 0, 0, 0, 0, 0, 0, 0, 0],\n",
       "       [0, 0, 0, 0, 0, 0, 0, 0, 0, 0, 0, 0, 0, 0, 0, 0],\n",
       "       [0, 0, 0, 0, 0, 0, 0, 0, 0, 0, 0, 0, 0, 0, 0, 0],\n",
       "       [0, 0, 0, 0, 0, 0, 0, 0, 0, 0, 0, 0, 0, 0, 0, 0],\n",
       "       [0, 0, 0, 0, 9, 9, 0, 0, 0, 0, 0, 0, 0, 0, 0, 0],\n",
       "       [0, 0, 0, 0, 9, 9, 0, 0, 0, 0, 0, 0, 0, 0, 0, 0],\n",
       "       [0, 0, 0, 0, 0, 0, 0, 0, 0, 0, 0, 4, 4, 4, 0, 0],\n",
       "       [0, 0, 0, 0, 0, 0, 0, 0, 0, 0, 0, 4, 4, 4, 0, 0],\n",
       "       [0, 0, 0, 0, 0, 0, 0, 0, 0, 0, 0, 0, 0, 0, 0, 0],\n",
       "       [0, 0, 0, 0, 0, 0, 0, 0, 0, 0, 0, 0, 0, 0, 0, 0]])"
      ]
     },
     "execution_count": 24,
     "metadata": {},
     "output_type": "execute_result"
    }
   ],
   "source": [
    "path_map"
   ]
  },
  {
   "cell_type": "code",
   "execution_count": 25,
   "metadata": {},
   "outputs": [],
   "source": [
    "## Given net_id,loc_x and loc_y\n",
    "net_id_1 = 9\n",
    "src_x_1 = 5  #source\n",
    "src_y_1 = 10\n",
    "dst_x_1 = 11 #sink\n",
    "dst_y_1 = 3\n",
    "\n",
    "net_id_2 = 4\n",
    "src_x_2 = 4  #source\n",
    "src_y_2 = 2\n",
    "dst_x_2 = 13 # sink\n",
    "dst_y_2 = 13"
   ]
  },
  {
   "cell_type": "code",
   "execution_count": 26,
   "metadata": {},
   "outputs": [],
   "source": [
    "path_map_nxt = copy.deepcopy(path_map)"
   ]
  },
  {
   "cell_type": "code",
   "execution_count": 27,
   "metadata": {},
   "outputs": [],
   "source": [
    "def adjacent_has_1_2(path_map,dst_y,dst_x):\n",
    "    if path_map[dst_y+1,dst_x] == 1 or path_map[dst_y-1,dst_x]==1 or \\\n",
    "       path_map[dst_y,dst_x+1]==1 or path_map[dst_y,dst_x-1]==1 \\\n",
    "       or path_map[dst_y+1,dst_x] == 2 or path_map[dst_y-1,dst_x]==2 or \\\n",
    "       path_map[dst_y,dst_x+1]==2 or path_map[dst_y,dst_x-1]==2:\n",
    "        return True\n",
    "    else:\n",
    "        return False"
   ]
  },
  {
   "cell_type": "code",
   "execution_count": 28,
   "metadata": {},
   "outputs": [],
   "source": [
    "def fillpath(src_x,src_y,dst_x,dst_y,location_map,path_map):\n",
    "    # Initailize source\n",
    "    cur_y = src_y\n",
    "    cur_x = src_x\n",
    "    for neighbor in [[cur_y+1,cur_x],[cur_y-1,cur_x],[cur_y,cur_x+1],[cur_y,cur_x-1]]:\n",
    "        neighbor_x = neighbor[1]\n",
    "        neighbor_y = neighbor[0]\n",
    "        if location_map[neighbor_y,neighbor_x] == 0 and path_map[neighbor_y,neighbor_x] == 0:\n",
    "            path_map[neighbor_y,neighbor_x] = 1\n",
    "\n",
    "    cnt = 1\n",
    "    path_map_nxt = copy.deepcopy(path_map)\n",
    "    while True:\n",
    "        if cnt == 4:\n",
    "            cnt = 0\n",
    "\n",
    "        if adjacent_has_1_2(path_map,dst_y,dst_x):\n",
    "            return path_map\n",
    "\n",
    "        for cur_y in range(1,MAP_SIZE-1):\n",
    "            for cur_x in range(1,MAP_SIZE-1):\n",
    "                if location_map[cur_y,cur_x] == 0 and path_map[cur_y,cur_x] == 0:\n",
    "                    # Down,up,right,left\n",
    "                    if adjacent_has_1_2(path_map,cur_y,cur_x):\n",
    "                        if cnt == 0:\n",
    "                            path_map_nxt[cur_y,cur_x] = 1\n",
    "                        elif cnt == 1:\n",
    "                            path_map_nxt[cur_y,cur_x] = 1\n",
    "                        elif cnt == 2:\n",
    "                            path_map_nxt[cur_y,cur_x] = 2\n",
    "                        elif cnt == 3:\n",
    "                            path_map_nxt[cur_y,cur_x] = 2\n",
    "\n",
    "        # print(path_map_nxt)\n",
    "        path_map = copy.deepcopy(path_map_nxt)\n",
    "        cnt += 1"
   ]
  },
  {
   "cell_type": "code",
   "execution_count": 29,
   "metadata": {},
   "outputs": [],
   "source": [
    "path_map = fillpath(src_x_1,src_y_1,dst_x_1,dst_y_1,location_map,path_map)"
   ]
  },
  {
   "cell_type": "code",
   "execution_count": 30,
   "metadata": {},
   "outputs": [
    {
     "data": {
      "text/plain": [
       "array([[0, 0, 0, 0, 0, 0, 0, 0, 0, 0, 0, 0, 0, 0, 0, 0],\n",
       "       [0, 0, 0, 0, 2, 2, 1, 2, 2, 0, 0, 0, 0, 0, 0, 0],\n",
       "       [0, 2, 4, 4, 4, 4, 1, 1, 2, 2, 9, 9, 9, 9, 0, 0],\n",
       "       [0, 2, 4, 4, 4, 4, 2, 1, 1, 2, 9, 9, 9, 9, 0, 0],\n",
       "       [0, 1, 4, 4, 4, 4, 2, 2, 1, 1, 2, 2, 0, 0, 0, 0],\n",
       "       [0, 1, 2, 2, 1, 1, 1, 2, 2, 1, 1, 2, 2, 0, 0, 0],\n",
       "       [0, 2, 2, 1, 1, 2, 1, 1, 2, 2, 1, 1, 2, 2, 0, 0],\n",
       "       [0, 2, 1, 1, 2, 2, 2, 1, 1, 2, 2, 1, 1, 2, 2, 0],\n",
       "       [0, 1, 1, 2, 2, 1, 2, 2, 1, 1, 2, 2, 1, 1, 2, 0],\n",
       "       [0, 1, 2, 2, 1, 1, 1, 2, 2, 1, 1, 2, 2, 1, 1, 0],\n",
       "       [0, 1, 1, 2, 9, 9, 1, 1, 2, 2, 1, 1, 2, 2, 1, 0],\n",
       "       [0, 2, 1, 1, 9, 9, 1, 2, 2, 1, 1, 2, 2, 1, 1, 0],\n",
       "       [0, 2, 2, 1, 1, 2, 2, 2, 1, 1, 2, 4, 4, 4, 2, 0],\n",
       "       [0, 1, 2, 2, 1, 1, 2, 1, 1, 2, 2, 4, 4, 4, 2, 0],\n",
       "       [0, 1, 1, 2, 2, 1, 1, 1, 2, 2, 1, 1, 2, 2, 0, 0],\n",
       "       [0, 0, 0, 0, 0, 0, 0, 0, 0, 0, 0, 0, 0, 0, 0, 0]])"
      ]
     },
     "execution_count": 30,
     "metadata": {},
     "output_type": "execute_result"
    }
   ],
   "source": [
    "path_map"
   ]
  },
  {
   "cell_type": "code",
   "execution_count": 31,
   "metadata": {},
   "outputs": [],
   "source": [
    "def retrace_path(src_x,src_y,dst_x,dst_y,location_map,path_map):\n",
    "    # Find the first label and starting seq from dst, implement FSM in python\n",
    "    cur_x   = dst_x\n",
    "    cur_y   = dst_y\n",
    "    # Down\n",
    "    if path_map[cur_y+1,cur_x] == 1 or path_map[cur_y+1,cur_x] == 2:\n",
    "        cur_seq = path_map[cur_y+1,cur_x]\n",
    "        cur_y = cur_y + 1\n",
    "    # Up\n",
    "    elif path_map[cur_y-1,cur_x] == 1 or path_map[cur_y-1,cur_x] == 2:\n",
    "        cur_seq = path_map[cur_y-1,cur_x]\n",
    "        cur_y = cur_y-1\n",
    "    # Right\n",
    "    elif path_map[cur_y,cur_x+1] == 1 or path_map[cur_y,cur_x+1] == 2:\n",
    "        cur_seq = path_map[cur_y,cur_x+1]\n",
    "        cur_x = cur_x+1\n",
    "    # Left\n",
    "    elif path_map[cur_y,cur_x-1] == 1 or path_map[cur_y,cur_x-1] == 2:\n",
    "        cur_seq = path_map[cur_y,cur_x-1]\n",
    "        cur_x = cur_x-1\n",
    "\n",
    "    location_map[cur_y,cur_x] = 3\n",
    "\n",
    "    # If src is 2\n",
    "    if cur_seq == 2:\n",
    "        # Neighbor is 2\n",
    "        # Down\n",
    "        if path_map[cur_y+1,cur_x] == 2:\n",
    "            cur_seq = path_map[cur_y+1,cur_x]\n",
    "            cur_y = cur_y + 1\n",
    "            cnt = 1\n",
    "        # Down\n",
    "        elif path_map[cur_y+1,cur_x] == 1:\n",
    "            cur_seq = path_map[cur_y+1,cur_x]\n",
    "            cur_y = cur_y + 1\n",
    "            cnt = 2\n",
    "        # Up\n",
    "        elif path_map[cur_y-1,cur_x] == 2:\n",
    "            cur_seq = path_map[cur_y-1,cur_x]\n",
    "            cur_y = cur_y-1\n",
    "            cnt = 1\n",
    "        # Up\n",
    "        elif path_map[cur_y-1,cur_x] == 1:\n",
    "            cur_seq = path_map[cur_y-1,cur_x]\n",
    "            cur_y = cur_y-1\n",
    "            cnt = 2\n",
    "        # Right\n",
    "        elif path_map[cur_y,cur_x+1] == 2:\n",
    "            cur_seq = path_map[cur_y,cur_x+1]\n",
    "            cur_x = cur_x+1\n",
    "            cnt = 1\n",
    "        # Right\n",
    "        elif path_map[cur_y,cur_x+1] == 1:\n",
    "            cur_seq = path_map[cur_y,cur_x+1]\n",
    "            cur_x = cur_x+1\n",
    "            cnt = 2\n",
    "        # Left\n",
    "        elif path_map[cur_y,cur_x-1] == 2:\n",
    "            cur_seq = path_map[cur_y,cur_x-1]\n",
    "            cur_x = cur_x-1\n",
    "            cnt = 1\n",
    "        # Left\n",
    "        elif path_map[cur_y,cur_x-1] == 1:\n",
    "            cur_seq = path_map[cur_y,cur_x-1]\n",
    "            cur_x = cur_x-1\n",
    "            cnt = 2\n",
    "\n",
    "    # If src is 1\n",
    "    elif cur_seq == 1:\n",
    "        # Neighbor is 2\n",
    "        # Down\n",
    "        if path_map[cur_y+1,cur_x] == 2:\n",
    "            cur_seq = path_map[cur_y+1,cur_x]\n",
    "            cur_y = cur_y + 1\n",
    "            cnt = 0\n",
    "        # Neighbor is 1\n",
    "        # Down\n",
    "        elif path_map[cur_y+1,cur_x] == 1:\n",
    "            cur_seq = path_map[cur_y+1,cur_x]\n",
    "            cur_y = cur_y + 1\n",
    "            cnt = 3\n",
    "        # Up\n",
    "        elif path_map[cur_y-1,cur_x] == 2:\n",
    "            cur_seq = path_map[cur_y-1,cur_x]\n",
    "            cur_y = cur_y-1\n",
    "            cnt = 0\n",
    "        # Up\n",
    "        elif path_map[cur_y-1,cur_x] == 1:\n",
    "            cur_seq = path_map[cur_y-1,cur_x]\n",
    "            cur_y = cur_y-1\n",
    "            cnt = 3\n",
    "        # Right\n",
    "        elif path_map[cur_y,cur_x+1] == 2:\n",
    "            cur_seq = path_map[cur_y,cur_x+1]\n",
    "            cur_x = cur_x+1\n",
    "            cnt = 0\n",
    "        # Right\n",
    "        elif path_map[cur_y,cur_x+1] == 1:\n",
    "            cur_seq = path_map[cur_y,cur_x+1]\n",
    "            cur_x = cur_x+1\n",
    "            cnt = 3\n",
    "        # Left\n",
    "        elif path_map[cur_y,cur_x-1] == 2:\n",
    "            cur_seq = path_map[cur_y,cur_x-1]\n",
    "            cur_x = cur_x-1\n",
    "            cnt = 0\n",
    "        # Left\n",
    "        elif path_map[cur_y,cur_x-1] == 1:\n",
    "            cur_seq = path_map[cur_y,cur_x-1]\n",
    "            cur_x = cur_x-1\n",
    "            cnt = 3\n",
    "\n",
    "    location_map[cur_y,cur_x] = 3\n",
    "\n",
    "    while True:\n",
    "        location_map[cur_y,cur_x] = 3\n",
    "\n",
    "        if (cur_y+1 ==src_y and cur_x == src_x) or (cur_y-1 == src_y and cur_x == src_x) or (cur_y==src_y and cur_x+1 == src_x)\\\n",
    "        or (cur_y == src_y and cur_x-1 == src_x):\n",
    "            return\n",
    "\n",
    "        if cnt == 0 or cnt == 3: # Expect 2\n",
    "            # Down\n",
    "            if path_map[cur_y+1,cur_x] == 2:\n",
    "                cur_seq = path_map[cur_y+1,cur_x]\n",
    "                cur_y = cur_y + 1\n",
    "            # Up\n",
    "            elif path_map[cur_y-1,cur_x] == 2:\n",
    "                cur_seq = path_map[cur_y-1,cur_x]\n",
    "                cur_y = cur_y-1\n",
    "            # Right\n",
    "            elif path_map[cur_y,cur_x+1] == 2:\n",
    "                cur_seq = path_map[cur_y,cur_x+1]\n",
    "                cur_x = cur_x+1\n",
    "            # Left\n",
    "            elif path_map[cur_y,cur_x-1] == 2:\n",
    "                cur_seq = path_map[cur_y,cur_x-1]\n",
    "                cur_x = cur_x-1\n",
    "\n",
    "        elif cnt == 1 or cnt == 2: # Expect 1\n",
    "            # Down\n",
    "            if path_map[cur_y+1,cur_x] == 1:\n",
    "                cur_seq = path_map[cur_y+1,cur_x]\n",
    "                cur_y = cur_y + 1\n",
    "            # Up\n",
    "            elif path_map[cur_y-1,cur_x] == 1:\n",
    "                cur_seq = path_map[cur_y-1,cur_x]\n",
    "                cur_y = cur_y-1\n",
    "            # Right\n",
    "            elif path_map[cur_y,cur_x+1] == 1:\n",
    "                cur_seq = path_map[cur_y,cur_x+1]\n",
    "                cur_x = cur_x+1\n",
    "            # Left\n",
    "            elif path_map[cur_y,cur_x-1] == 1:\n",
    "                cur_seq = path_map[cur_y,cur_x-1]\n",
    "                cur_x = cur_x-1\n",
    "\n",
    "        cnt += 1\n",
    "        cnt = cnt % 4"
   ]
  },
  {
   "cell_type": "code",
   "execution_count": 32,
   "metadata": {},
   "outputs": [],
   "source": [
    "retrace_path(src_x_1,src_y_1,dst_x_1,dst_y_1,location_map,path_map)"
   ]
  },
  {
   "cell_type": "code",
   "execution_count": 33,
   "metadata": {},
   "outputs": [
    {
     "data": {
      "text/plain": [
       "array([[0, 0, 0, 0, 0, 0, 0, 0, 0, 0, 0, 0, 0, 0, 0, 0],\n",
       "       [0, 0, 0, 0, 0, 0, 0, 0, 0, 0, 0, 0, 0, 0, 0, 0],\n",
       "       [0, 0, 4, 4, 4, 4, 0, 0, 0, 0, 9, 9, 9, 9, 0, 0],\n",
       "       [0, 0, 4, 4, 4, 4, 0, 0, 0, 0, 9, 9, 9, 9, 0, 0],\n",
       "       [0, 0, 4, 4, 4, 4, 0, 0, 0, 0, 0, 3, 0, 0, 0, 0],\n",
       "       [0, 0, 0, 0, 0, 0, 0, 0, 0, 0, 0, 3, 0, 0, 0, 0],\n",
       "       [0, 0, 0, 0, 0, 0, 0, 0, 0, 0, 0, 3, 0, 0, 0, 0],\n",
       "       [0, 0, 0, 0, 0, 0, 0, 0, 0, 0, 0, 3, 0, 0, 0, 0],\n",
       "       [0, 0, 0, 0, 0, 0, 0, 0, 0, 0, 0, 3, 0, 0, 0, 0],\n",
       "       [0, 0, 0, 0, 0, 0, 0, 0, 0, 0, 0, 3, 0, 0, 0, 0],\n",
       "       [0, 0, 0, 0, 9, 9, 3, 3, 3, 3, 3, 3, 0, 0, 0, 0],\n",
       "       [0, 0, 0, 0, 9, 9, 0, 0, 0, 0, 0, 0, 0, 0, 0, 0],\n",
       "       [0, 0, 0, 0, 0, 0, 0, 0, 0, 0, 0, 4, 4, 4, 0, 0],\n",
       "       [0, 0, 0, 0, 0, 0, 0, 0, 0, 0, 0, 4, 4, 4, 0, 0],\n",
       "       [0, 0, 0, 0, 0, 0, 0, 0, 0, 0, 0, 0, 0, 0, 0, 0],\n",
       "       [0, 0, 0, 0, 0, 0, 0, 0, 0, 0, 0, 0, 0, 0, 0, 0]])"
      ]
     },
     "execution_count": 33,
     "metadata": {},
     "output_type": "execute_result"
    }
   ],
   "source": [
    "location_map"
   ]
  },
  {
   "cell_type": "code",
   "execution_count": 34,
   "metadata": {},
   "outputs": [],
   "source": [
    "path_map =copy.deepcopy(location_map)"
   ]
  },
  {
   "cell_type": "code",
   "execution_count": 35,
   "metadata": {},
   "outputs": [
    {
     "data": {
      "text/plain": [
       "array([[0, 0, 0, 0, 0, 0, 0, 0, 0, 0, 0, 0, 0, 0, 0, 0],\n",
       "       [0, 0, 0, 0, 0, 0, 0, 0, 0, 0, 0, 0, 0, 0, 0, 0],\n",
       "       [0, 0, 4, 4, 4, 4, 0, 0, 0, 0, 9, 9, 9, 9, 0, 0],\n",
       "       [0, 0, 4, 4, 4, 4, 0, 0, 0, 0, 9, 9, 9, 9, 0, 0],\n",
       "       [0, 0, 4, 4, 4, 4, 0, 0, 0, 0, 0, 3, 0, 0, 0, 0],\n",
       "       [0, 0, 0, 0, 0, 0, 0, 0, 0, 0, 0, 3, 0, 0, 0, 0],\n",
       "       [0, 0, 0, 0, 0, 0, 0, 0, 0, 0, 0, 3, 0, 0, 0, 0],\n",
       "       [0, 0, 0, 0, 0, 0, 0, 0, 0, 0, 0, 3, 0, 0, 0, 0],\n",
       "       [0, 0, 0, 0, 0, 0, 0, 0, 0, 0, 0, 3, 0, 0, 0, 0],\n",
       "       [0, 0, 0, 0, 0, 0, 0, 0, 0, 0, 0, 3, 0, 0, 0, 0],\n",
       "       [0, 0, 0, 0, 9, 9, 3, 3, 3, 3, 3, 3, 0, 0, 0, 0],\n",
       "       [0, 0, 0, 0, 9, 9, 0, 0, 0, 0, 0, 0, 0, 0, 0, 0],\n",
       "       [0, 0, 0, 0, 0, 0, 0, 0, 0, 0, 0, 4, 4, 4, 0, 0],\n",
       "       [0, 0, 0, 0, 0, 0, 0, 0, 0, 0, 0, 4, 4, 4, 0, 0],\n",
       "       [0, 0, 0, 0, 0, 0, 0, 0, 0, 0, 0, 0, 0, 0, 0, 0],\n",
       "       [0, 0, 0, 0, 0, 0, 0, 0, 0, 0, 0, 0, 0, 0, 0, 0]])"
      ]
     },
     "execution_count": 35,
     "metadata": {},
     "output_type": "execute_result"
    }
   ],
   "source": [
    "path_map"
   ]
  },
  {
   "cell_type": "code",
   "execution_count": 36,
   "metadata": {},
   "outputs": [],
   "source": [
    "net_id_2 = 4\n",
    "src_x_2 = 4  #source\n",
    "src_y_2 = 2\n",
    "dst_x_2 = 13 # sink\n",
    "dst_y_2 = 13"
   ]
  },
  {
   "cell_type": "code",
   "execution_count": 37,
   "metadata": {},
   "outputs": [],
   "source": [
    "path_map = fillpath(src_x_2,src_y_2,dst_x_2,dst_y_2,location_map,path_map)"
   ]
  },
  {
   "cell_type": "code",
   "execution_count": 38,
   "metadata": {},
   "outputs": [
    {
     "data": {
      "text/plain": [
       "array([[0, 0, 0, 0, 0, 0, 0, 0, 0, 0, 0, 0, 0, 0, 0, 0],\n",
       "       [0, 2, 2, 1, 1, 1, 2, 2, 1, 1, 2, 2, 1, 1, 2, 0],\n",
       "       [0, 1, 4, 4, 4, 4, 2, 1, 1, 2, 9, 9, 9, 9, 2, 0],\n",
       "       [0, 1, 4, 4, 4, 4, 1, 1, 2, 2, 9, 9, 9, 9, 1, 0],\n",
       "       [0, 2, 4, 4, 4, 4, 1, 2, 2, 1, 1, 3, 2, 2, 1, 0],\n",
       "       [0, 2, 1, 1, 1, 2, 2, 2, 1, 1, 2, 3, 1, 2, 2, 0],\n",
       "       [0, 1, 1, 2, 1, 1, 2, 1, 1, 2, 2, 3, 1, 1, 2, 0],\n",
       "       [0, 1, 2, 2, 2, 1, 1, 1, 2, 2, 1, 3, 2, 1, 1, 0],\n",
       "       [0, 2, 2, 1, 2, 2, 1, 2, 2, 1, 1, 3, 2, 2, 1, 0],\n",
       "       [0, 2, 1, 1, 1, 2, 2, 2, 1, 1, 2, 3, 1, 2, 2, 0],\n",
       "       [0, 1, 1, 2, 9, 9, 3, 3, 3, 3, 3, 3, 1, 1, 2, 0],\n",
       "       [0, 1, 2, 2, 9, 9, 1, 1, 2, 0, 0, 0, 2, 1, 1, 0],\n",
       "       [0, 2, 2, 1, 1, 2, 2, 1, 1, 2, 0, 4, 4, 4, 1, 0],\n",
       "       [0, 2, 1, 1, 2, 2, 1, 1, 2, 0, 0, 4, 4, 4, 2, 0],\n",
       "       [0, 1, 1, 2, 2, 1, 1, 2, 0, 0, 0, 0, 0, 0, 0, 0],\n",
       "       [0, 0, 0, 0, 0, 0, 0, 0, 0, 0, 0, 0, 0, 0, 0, 0]])"
      ]
     },
     "execution_count": 38,
     "metadata": {},
     "output_type": "execute_result"
    }
   ],
   "source": [
    "path_map"
   ]
  },
  {
   "cell_type": "code",
   "execution_count": 39,
   "metadata": {},
   "outputs": [],
   "source": [
    "retrace_path(src_x_2,src_y_2,dst_x_2,dst_y_2,location_map,path_map)"
   ]
  },
  {
   "cell_type": "code",
   "execution_count": 40,
   "metadata": {},
   "outputs": [
    {
     "data": {
      "text/plain": [
       "array([[0, 0, 0, 0, 0, 0, 0, 0, 0, 0, 0, 0, 0, 0, 0, 0],\n",
       "       [0, 0, 0, 0, 3, 3, 3, 3, 3, 3, 3, 3, 3, 3, 3, 0],\n",
       "       [0, 0, 4, 4, 4, 4, 0, 0, 0, 0, 9, 9, 9, 9, 3, 0],\n",
       "       [0, 0, 4, 4, 4, 4, 0, 0, 0, 0, 9, 9, 9, 9, 3, 0],\n",
       "       [0, 0, 4, 4, 4, 4, 0, 0, 0, 0, 0, 3, 0, 0, 3, 0],\n",
       "       [0, 0, 0, 0, 0, 0, 0, 0, 0, 0, 0, 3, 0, 0, 3, 0],\n",
       "       [0, 0, 0, 0, 0, 0, 0, 0, 0, 0, 0, 3, 0, 0, 3, 0],\n",
       "       [0, 0, 0, 0, 0, 0, 0, 0, 0, 0, 0, 3, 0, 0, 3, 0],\n",
       "       [0, 0, 0, 0, 0, 0, 0, 0, 0, 0, 0, 3, 0, 0, 3, 0],\n",
       "       [0, 0, 0, 0, 0, 0, 0, 0, 0, 0, 0, 3, 0, 0, 3, 0],\n",
       "       [0, 0, 0, 0, 9, 9, 3, 3, 3, 3, 3, 3, 0, 0, 3, 0],\n",
       "       [0, 0, 0, 0, 9, 9, 0, 0, 0, 0, 0, 0, 0, 0, 3, 0],\n",
       "       [0, 0, 0, 0, 0, 0, 0, 0, 0, 0, 0, 4, 4, 4, 3, 0],\n",
       "       [0, 0, 0, 0, 0, 0, 0, 0, 0, 0, 0, 4, 4, 4, 3, 0],\n",
       "       [0, 0, 0, 0, 0, 0, 0, 0, 0, 0, 0, 0, 0, 0, 0, 0],\n",
       "       [0, 0, 0, 0, 0, 0, 0, 0, 0, 0, 0, 0, 0, 0, 0, 0]])"
      ]
     },
     "execution_count": 40,
     "metadata": {},
     "output_type": "execute_result"
    }
   ],
   "source": [
    "location_map"
   ]
  }
 ],
 "metadata": {
  "kernelspec": {
   "display_name": "Python 3",
   "language": "python",
   "name": "python3"
  },
  "language_info": {
   "codemirror_mode": {
    "name": "ipython",
    "version": 3
   },
   "file_extension": ".py",
   "mimetype": "text/x-python",
   "name": "python",
   "nbconvert_exporter": "python",
   "pygments_lexer": "ipython3",
   "version": "3.11.6"
  }
 },
 "nbformat": 4,
 "nbformat_minor": 2
}
