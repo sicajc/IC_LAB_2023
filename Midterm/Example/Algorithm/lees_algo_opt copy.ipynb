{
 "cells": [
  {
   "cell_type": "code",
   "execution_count": 1,
   "metadata": {},
   "outputs": [],
   "source": [
    "import numpy as np\n",
    "import copy\n",
    "from queue import Queue\n",
    "MAP_SIZE = 16\n",
    "path_map = np.array([[0 for y in range(MAP_SIZE)] for x in range(MAP_SIZE)])\n",
    "location_map = np.array([[0 for y in range(MAP_SIZE)] for x in range(MAP_SIZE)])\n",
    "\n",
    "# Framing , double fan out, pick points\n",
    "\n",
    "\n",
    "# (x,y)\n",
    "# Assign example location map\n",
    "# Macro 1\n",
    "location_map[2:4,10:14] = 9\n",
    "location_map[10:12,4:6] = 9\n",
    "# Macro 2\n",
    "location_map[2:5,2:6] = 4\n",
    "location_map[12:14,11:14] = 4"
   ]
  },
  {
   "cell_type": "code",
   "execution_count": 2,
   "metadata": {},
   "outputs": [],
   "source": [
    "path_map = copy.deepcopy(location_map)"
   ]
  },
  {
   "cell_type": "code",
   "execution_count": 3,
   "metadata": {},
   "outputs": [
    {
     "data": {
      "text/plain": [
       "array([[0, 0, 0, 0, 0, 0, 0, 0, 0, 0, 0, 0, 0, 0, 0, 0],\n",
       "       [0, 0, 0, 0, 0, 0, 0, 0, 0, 0, 0, 0, 0, 0, 0, 0],\n",
       "       [0, 0, 4, 4, 4, 4, 0, 0, 0, 0, 9, 9, 9, 9, 0, 0],\n",
       "       [0, 0, 4, 4, 4, 4, 0, 0, 0, 0, 9, 9, 9, 9, 0, 0],\n",
       "       [0, 0, 4, 4, 4, 4, 0, 0, 0, 0, 0, 0, 0, 0, 0, 0],\n",
       "       [0, 0, 0, 0, 0, 0, 0, 0, 0, 0, 0, 0, 0, 0, 0, 0],\n",
       "       [0, 0, 0, 0, 0, 0, 0, 0, 0, 0, 0, 0, 0, 0, 0, 0],\n",
       "       [0, 0, 0, 0, 0, 0, 0, 0, 0, 0, 0, 0, 0, 0, 0, 0],\n",
       "       [0, 0, 0, 0, 0, 0, 0, 0, 0, 0, 0, 0, 0, 0, 0, 0],\n",
       "       [0, 0, 0, 0, 0, 0, 0, 0, 0, 0, 0, 0, 0, 0, 0, 0],\n",
       "       [0, 0, 0, 0, 9, 9, 0, 0, 0, 0, 0, 0, 0, 0, 0, 0],\n",
       "       [0, 0, 0, 0, 9, 9, 0, 0, 0, 0, 0, 0, 0, 0, 0, 0],\n",
       "       [0, 0, 0, 0, 0, 0, 0, 0, 0, 0, 0, 4, 4, 4, 0, 0],\n",
       "       [0, 0, 0, 0, 0, 0, 0, 0, 0, 0, 0, 4, 4, 4, 0, 0],\n",
       "       [0, 0, 0, 0, 0, 0, 0, 0, 0, 0, 0, 0, 0, 0, 0, 0],\n",
       "       [0, 0, 0, 0, 0, 0, 0, 0, 0, 0, 0, 0, 0, 0, 0, 0]])"
      ]
     },
     "execution_count": 3,
     "metadata": {},
     "output_type": "execute_result"
    }
   ],
   "source": [
    "location_map"
   ]
  },
  {
   "cell_type": "code",
   "execution_count": 4,
   "metadata": {},
   "outputs": [
    {
     "data": {
      "text/plain": [
       "array([[0, 0, 0, 0, 0, 0, 0, 0, 0, 0, 0, 0, 0, 0, 0, 0],\n",
       "       [0, 0, 0, 0, 0, 0, 0, 0, 0, 0, 0, 0, 0, 0, 0, 0],\n",
       "       [0, 0, 4, 4, 4, 4, 0, 0, 0, 0, 9, 9, 9, 9, 0, 0],\n",
       "       [0, 0, 4, 4, 4, 4, 0, 0, 0, 0, 9, 9, 9, 9, 0, 0],\n",
       "       [0, 0, 4, 4, 4, 4, 0, 0, 0, 0, 0, 0, 0, 0, 0, 0],\n",
       "       [0, 0, 0, 0, 0, 0, 0, 0, 0, 0, 0, 0, 0, 0, 0, 0],\n",
       "       [0, 0, 0, 0, 0, 0, 0, 0, 0, 0, 0, 0, 0, 0, 0, 0],\n",
       "       [0, 0, 0, 0, 0, 0, 0, 0, 0, 0, 0, 0, 0, 0, 0, 0],\n",
       "       [0, 0, 0, 0, 0, 0, 0, 0, 0, 0, 0, 0, 0, 0, 0, 0],\n",
       "       [0, 0, 0, 0, 0, 0, 0, 0, 0, 0, 0, 0, 0, 0, 0, 0],\n",
       "       [0, 0, 0, 0, 9, 9, 0, 0, 0, 0, 0, 0, 0, 0, 0, 0],\n",
       "       [0, 0, 0, 0, 9, 9, 0, 0, 0, 0, 0, 0, 0, 0, 0, 0],\n",
       "       [0, 0, 0, 0, 0, 0, 0, 0, 0, 0, 0, 4, 4, 4, 0, 0],\n",
       "       [0, 0, 0, 0, 0, 0, 0, 0, 0, 0, 0, 4, 4, 4, 0, 0],\n",
       "       [0, 0, 0, 0, 0, 0, 0, 0, 0, 0, 0, 0, 0, 0, 0, 0],\n",
       "       [0, 0, 0, 0, 0, 0, 0, 0, 0, 0, 0, 0, 0, 0, 0, 0]])"
      ]
     },
     "execution_count": 4,
     "metadata": {},
     "output_type": "execute_result"
    }
   ],
   "source": [
    "path_map"
   ]
  },
  {
   "cell_type": "code",
   "execution_count": 5,
   "metadata": {},
   "outputs": [],
   "source": [
    "## Given net_id,loc_x and loc_y\n",
    "net_id_1 = 9\n",
    "src_x_1 = 5  #source\n",
    "src_y_1 = 10\n",
    "dst_x_1 = 11 #sink\n",
    "dst_y_1 = 3\n",
    "\n",
    "net_id_2 = 4\n",
    "src_x_2 = 4  #source\n",
    "src_y_2 = 2\n",
    "dst_x_2 = 13 # sink\n",
    "dst_y_2 = 13"
   ]
  },
  {
   "cell_type": "code",
   "execution_count": 6,
   "metadata": {},
   "outputs": [],
   "source": [
    "def adjacent_has_1_2(path_map,dst_y,dst_x):\n",
    "    if path_map[dst_y+1,dst_x] == 1 or path_map[dst_y-1,dst_x]==1 or \\\n",
    "       path_map[dst_y,dst_x+1]==1 or path_map[dst_y,dst_x-1]==1 \\\n",
    "       or path_map[dst_y+1,dst_x] == 2 or path_map[dst_y-1,dst_x]==2 or \\\n",
    "       path_map[dst_y,dst_x+1]==2 or path_map[dst_y,dst_x-1]==2:\n",
    "        return True\n",
    "    else:\n",
    "        return False"
   ]
  },
  {
   "cell_type": "code",
   "execution_count": 7,
   "metadata": {},
   "outputs": [],
   "source": [
    "def fillpath(src_x,src_y,dst_x,dst_y,location_map,path_map):\n",
    "    # Initailize source\n",
    "    cur_y = src_y\n",
    "    cur_x = src_x\n",
    "    for neighbor in [[cur_y+1,cur_x],[cur_y-1,cur_x],[cur_y,cur_x+1],[cur_y,cur_x-1]]:\n",
    "        neighbor_x = neighbor[1]\n",
    "        neighbor_y = neighbor[0]\n",
    "        if location_map[neighbor_y,neighbor_x] == 0 and path_map[neighbor_y,neighbor_x] == 0:\n",
    "            path_map[neighbor_y,neighbor_x] = 1\n",
    "\n",
    "    cnt = 1\n",
    "    while True:\n",
    "        if cnt == 4:\n",
    "            cnt = 1\n",
    "        for cur_y in range(1,MAP_SIZE-1):\n",
    "            for cur_x in range(1,MAP_SIZE-1):\n",
    "                if cnt == 0:\n",
    "                    if path_map[cur_y,cur_x] == 2:\n",
    "                        for neighbor in [[cur_y+1,cur_x],[cur_y-1,cur_x],[cur_y,cur_x+1],[cur_y,cur_x-1]]:\n",
    "                            neighbor_x = neighbor[1]\n",
    "                            neighbor_y = neighbor[0]\n",
    "                            if location_map[neighbor_y,neighbor_x] == 0 and path_map[neighbor_y,neighbor_x] == 0:\n",
    "                                path_map[neighbor_y,neighbor_x] = 1\n",
    "                elif cnt == 1:\n",
    "                    if path_map[cur_y,cur_x] == 1:\n",
    "                        for neighbor in [[cur_y+1,cur_x],[cur_y-1,cur_x],[cur_y,cur_x+1],[cur_y,cur_x-1]]:\n",
    "                            neighbor_x = neighbor[1]\n",
    "                            neighbor_y = neighbor[0]\n",
    "                            if location_map[neighbor_y,neighbor_x] == 0 and path_map[neighbor_y,neighbor_x] == 0:\n",
    "                                path_map[neighbor_y,neighbor_x] = 1\n",
    "                elif cnt == 2:\n",
    "                    if path_map[cur_y,cur_x] == 1:\n",
    "                        for neighbor in [[cur_y+1,cur_x],[cur_y-1,cur_x],[cur_y,cur_x+1],[cur_y,cur_x-1]]:\n",
    "                            neighbor_x = neighbor[1]\n",
    "                            neighbor_y = neighbor[0]\n",
    "                            if location_map[neighbor_y,neighbor_x] == 0 and path_map[neighbor_y,neighbor_x] == 0:\n",
    "                                path_map[neighbor_y,neighbor_x] = 2\n",
    "                elif cnt == 3:\n",
    "                    if path_map[cur_y,cur_x] == 2:\n",
    "                        for neighbor in [[cur_y+1,cur_x],[cur_y-1,cur_x],[cur_y,cur_x+1],[cur_y,cur_x-1]]:\n",
    "                            neighbor_x = neighbor[1]\n",
    "                            neighbor_y = neighbor[0]\n",
    "                            if location_map[neighbor_y,neighbor_x] == 0 and path_map[neighbor_y,neighbor_x] == 0:\n",
    "                                path_map[neighbor_y,neighbor_x] = 2\n",
    "\n",
    "                if adjacent_has_1_2(path_map,dst_y,dst_x):\n",
    "                    return\n",
    "\n",
    "        cnt += 1"
   ]
  },
  {
   "cell_type": "code",
   "execution_count": 8,
   "metadata": {},
   "outputs": [],
   "source": [
    "fillpath(src_x_1,src_y_1,dst_x_1,dst_y_1,location_map,path_map)"
   ]
  },
  {
   "cell_type": "code",
   "execution_count": 9,
   "metadata": {},
   "outputs": [
    {
     "data": {
      "text/plain": [
       "array([[0, 0, 0, 0, 0, 0, 0, 0, 0, 0, 0, 0, 0, 0, 0, 0],\n",
       "       [0, 0, 0, 0, 0, 0, 0, 0, 0, 0, 0, 0, 0, 0, 0, 0],\n",
       "       [0, 0, 4, 4, 4, 4, 0, 0, 0, 0, 9, 9, 9, 9, 0, 0],\n",
       "       [0, 0, 4, 4, 4, 4, 0, 0, 0, 0, 9, 9, 9, 9, 0, 0],\n",
       "       [0, 0, 4, 4, 4, 4, 2, 2, 2, 2, 2, 2, 0, 0, 0, 0],\n",
       "       [0, 0, 0, 0, 2, 2, 2, 2, 2, 2, 2, 2, 2, 2, 2, 0],\n",
       "       [0, 0, 0, 0, 2, 2, 2, 2, 2, 2, 2, 2, 2, 2, 2, 2],\n",
       "       [0, 0, 0, 2, 2, 2, 2, 2, 2, 2, 2, 2, 2, 2, 2, 2],\n",
       "       [0, 0, 2, 2, 2, 1, 1, 1, 1, 1, 1, 1, 1, 1, 1, 2],\n",
       "       [0, 2, 2, 2, 1, 1, 1, 1, 1, 1, 1, 1, 1, 1, 1, 1],\n",
       "       [0, 2, 2, 2, 9, 9, 1, 1, 1, 1, 1, 1, 1, 1, 1, 1],\n",
       "       [0, 2, 2, 2, 9, 9, 1, 1, 1, 1, 1, 1, 1, 1, 1, 1],\n",
       "       [0, 2, 2, 2, 2, 1, 1, 1, 1, 1, 1, 4, 4, 4, 1, 1],\n",
       "       [0, 2, 2, 2, 2, 1, 1, 1, 1, 1, 1, 4, 4, 4, 1, 1],\n",
       "       [0, 2, 2, 2, 2, 1, 1, 1, 1, 1, 1, 1, 1, 1, 1, 1],\n",
       "       [0, 0, 2, 2, 2, 2, 1, 1, 1, 1, 1, 1, 1, 1, 1, 0]])"
      ]
     },
     "execution_count": 9,
     "metadata": {},
     "output_type": "execute_result"
    }
   ],
   "source": [
    "path_map"
   ]
  }
 ],
 "metadata": {
  "kernelspec": {
   "display_name": "Python 3",
   "language": "python",
   "name": "python3"
  },
  "language_info": {
   "codemirror_mode": {
    "name": "ipython",
    "version": 3
   },
   "file_extension": ".py",
   "mimetype": "text/x-python",
   "name": "python",
   "nbconvert_exporter": "python",
   "pygments_lexer": "ipython3",
   "version": "3.11.6"
  }
 },
 "nbformat": 4,
 "nbformat_minor": 2
}
