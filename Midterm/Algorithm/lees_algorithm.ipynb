{
 "cells": [
  {
   "cell_type": "markdown",
   "metadata": {},
   "source": [
    "### Recreate the example to understand lee's algorithm"
   ]
  },
  {
   "cell_type": "markdown",
   "metadata": {},
   "source": [
    "#### Wave propogation through FIFO and BFS , then perform retrace backtrack to connect the macro with same net_id"
   ]
  },
  {
   "cell_type": "code",
   "execution_count": 1,
   "metadata": {},
   "outputs": [],
   "source": [
    "import numpy as np\n",
    "import copy\n",
    "from queue import Queue\n",
    "MAP_SIZE = 16\n",
    "path_map = np.array([[0 for y in range(MAP_SIZE)] for x in range(MAP_SIZE)])\n",
    "location_map = np.array([[0 for y in range(MAP_SIZE)] for x in range(MAP_SIZE)])\n",
    "\n",
    "# Framing , double fan out, pick points\n",
    "\n",
    "\n",
    "# (x,y)\n",
    "# Assign example location map\n",
    "# Macro 1\n",
    "location_map[2:4,10:14] = 9\n",
    "location_map[10:12,4:6] = 9\n",
    "# Macro 2\n",
    "location_map[2:5,2:6] = 4\n",
    "location_map[12:14,11:14] = 4\n"
   ]
  },
  {
   "cell_type": "code",
   "execution_count": 2,
   "metadata": {},
   "outputs": [
    {
     "data": {
      "text/plain": [
       "array([[0, 0, 0, 0, 0, 0, 0, 0, 0, 0, 0, 0, 0, 0, 0, 0],\n",
       "       [0, 0, 0, 0, 0, 0, 0, 0, 0, 0, 0, 0, 0, 0, 0, 0],\n",
       "       [0, 0, 4, 4, 4, 4, 0, 0, 0, 0, 9, 9, 9, 9, 0, 0],\n",
       "       [0, 0, 4, 4, 4, 4, 0, 0, 0, 0, 9, 9, 9, 9, 0, 0],\n",
       "       [0, 0, 4, 4, 4, 4, 0, 0, 0, 0, 0, 0, 0, 0, 0, 0],\n",
       "       [0, 0, 0, 0, 0, 0, 0, 0, 0, 0, 0, 0, 0, 0, 0, 0],\n",
       "       [0, 0, 0, 0, 0, 0, 0, 0, 0, 0, 0, 0, 0, 0, 0, 0],\n",
       "       [0, 0, 0, 0, 0, 0, 0, 0, 0, 0, 0, 0, 0, 0, 0, 0],\n",
       "       [0, 0, 0, 0, 0, 0, 0, 0, 0, 0, 0, 0, 0, 0, 0, 0],\n",
       "       [0, 0, 0, 0, 0, 0, 0, 0, 0, 0, 0, 0, 0, 0, 0, 0],\n",
       "       [0, 0, 0, 0, 9, 9, 0, 0, 0, 0, 0, 0, 0, 0, 0, 0],\n",
       "       [0, 0, 0, 0, 9, 9, 0, 0, 0, 0, 0, 0, 0, 0, 0, 0],\n",
       "       [0, 0, 0, 0, 0, 0, 0, 0, 0, 0, 0, 4, 4, 4, 0, 0],\n",
       "       [0, 0, 0, 0, 0, 0, 0, 0, 0, 0, 0, 4, 4, 4, 0, 0],\n",
       "       [0, 0, 0, 0, 0, 0, 0, 0, 0, 0, 0, 0, 0, 0, 0, 0],\n",
       "       [0, 0, 0, 0, 0, 0, 0, 0, 0, 0, 0, 0, 0, 0, 0, 0]])"
      ]
     },
     "execution_count": 2,
     "metadata": {},
     "output_type": "execute_result"
    }
   ],
   "source": [
    "location_map"
   ]
  },
  {
   "cell_type": "code",
   "execution_count": 3,
   "metadata": {},
   "outputs": [],
   "source": [
    "path_map = copy.deepcopy(location_map)"
   ]
  },
  {
   "cell_type": "markdown",
   "metadata": {},
   "source": [
    "### Lee's algorithm using location map"
   ]
  },
  {
   "cell_type": "code",
   "execution_count": 4,
   "metadata": {},
   "outputs": [],
   "source": [
    "## Given net_id,loc_x and loc_y\n",
    "net_id_1 = 9\n",
    "loc_x_11 = 5  #source\n",
    "loc_y_11 = 10\n",
    "loc_x_21 = 11 #sink\n",
    "loc_y_21 = 3\n",
    "\n",
    "net_id_2 = 4\n",
    "loc_x_12 = 4  #source\n",
    "loc_y_12 = 2\n",
    "loc_x_22 = 13 # sink\n",
    "loc_y_22 = 13"
   ]
  },
  {
   "cell_type": "code",
   "execution_count": 5,
   "metadata": {},
   "outputs": [],
   "source": [
    "def checkValidNeighbor(location_map,path_map,neighbor):\n",
    "    x = neighbor[1]\n",
    "    y = neighbor[0]\n",
    "    if (x < MAP_SIZE and y < MAP_SIZE and x>=0 and y>=0) and (path_map[y,x] == 0 and location_map[y,x] == 0):\n",
    "        return True\n",
    "    return False"
   ]
  },
  {
   "cell_type": "markdown",
   "metadata": {},
   "source": [
    "### Fill path"
   ]
  },
  {
   "cell_type": "code",
   "execution_count": 6,
   "metadata": {},
   "outputs": [],
   "source": [
    "def fillpath(src_x,src_y,dst_x,dst_y,location_map,path_map):\n",
    "    q = Queue(maxsize=100)\n",
    "    q.put([src_y,src_x,1])\n",
    "\n",
    "    break_flag = 0\n",
    "    while not q.empty():\n",
    "        current_node = q.get()\n",
    "        cur_x = current_node[1]\n",
    "        cur_y = current_node[0]\n",
    "        cur_seq = current_node[2]\n",
    "\n",
    "        nxt_seq = cur_seq + 1\n",
    "        if nxt_seq == 4:\n",
    "            nxt_seq = 1\n",
    "\n",
    "        # Down,up,right,left\n",
    "        for neighbor in [[cur_y+1,cur_x,nxt_seq],[cur_y-1,cur_x,nxt_seq],[cur_y,cur_x+1,nxt_seq],[cur_y,cur_x-1,nxt_seq]]:\n",
    "            neighbor_x = neighbor[1]\n",
    "            neighbor_y = neighbor[0]\n",
    "\n",
    "            # If current node is neighbor\n",
    "            if neighbor_x == dst_x and  neighbor_y == dst_y:\n",
    "                path_map[neighbor_y,neighbor_x] = cur_seq\n",
    "                break_flag = 1\n",
    "                break\n",
    "            elif checkValidNeighbor(location_map,path_map,neighbor) == True:\n",
    "                path_map[neighbor_y,neighbor_x] = cur_seq\n",
    "                q.put(neighbor)\n",
    "\n",
    "        if break_flag == 1:\n",
    "            break"
   ]
  },
  {
   "cell_type": "code",
   "execution_count": 7,
   "metadata": {},
   "outputs": [],
   "source": [
    "fillpath(loc_x_11,loc_y_11,loc_x_21,loc_y_21,location_map,path_map)"
   ]
  },
  {
   "cell_type": "code",
   "execution_count": 8,
   "metadata": {},
   "outputs": [
    {
     "data": {
      "text/plain": [
       "array([[0, 0, 0, 0, 1, 3, 2, 3, 1, 0, 0, 0, 0, 0, 0, 0],\n",
       "       [0, 0, 0, 1, 3, 2, 1, 2, 3, 1, 0, 0, 0, 0, 0, 0],\n",
       "       [0, 3, 4, 4, 4, 4, 3, 1, 2, 3, 9, 9, 9, 9, 0, 0],\n",
       "       [3, 2, 4, 4, 4, 4, 2, 3, 1, 2, 9, 1, 9, 9, 0, 0],\n",
       "       [2, 1, 4, 4, 4, 4, 1, 2, 3, 1, 2, 3, 0, 0, 0, 0],\n",
       "       [1, 3, 2, 1, 3, 2, 3, 1, 2, 3, 1, 2, 3, 0, 0, 0],\n",
       "       [3, 2, 1, 3, 2, 1, 2, 3, 1, 2, 3, 1, 2, 3, 0, 0],\n",
       "       [2, 1, 3, 2, 1, 3, 1, 2, 3, 1, 2, 3, 1, 2, 3, 0],\n",
       "       [1, 3, 2, 1, 3, 2, 3, 1, 2, 3, 1, 2, 3, 1, 2, 3],\n",
       "       [3, 2, 1, 3, 2, 1, 2, 3, 1, 2, 3, 1, 2, 3, 1, 2],\n",
       "       [1, 3, 2, 1, 9, 9, 1, 2, 3, 1, 2, 3, 1, 2, 3, 1],\n",
       "       [2, 1, 3, 2, 9, 9, 2, 3, 1, 2, 3, 1, 2, 3, 1, 2],\n",
       "       [3, 2, 1, 3, 2, 1, 3, 1, 2, 3, 1, 4, 4, 4, 2, 3],\n",
       "       [1, 3, 2, 1, 3, 2, 1, 2, 3, 1, 2, 4, 4, 4, 3, 0],\n",
       "       [2, 1, 3, 2, 1, 3, 2, 3, 1, 2, 3, 1, 2, 3, 0, 0],\n",
       "       [3, 2, 1, 3, 2, 1, 3, 1, 2, 3, 1, 2, 3, 0, 0, 0]])"
      ]
     },
     "execution_count": 8,
     "metadata": {},
     "output_type": "execute_result"
    }
   ],
   "source": [
    "path_map"
   ]
  },
  {
   "cell_type": "markdown",
   "metadata": {},
   "source": [
    "### Retrace path"
   ]
  },
  {
   "cell_type": "code",
   "execution_count": 9,
   "metadata": {},
   "outputs": [],
   "source": [
    "def retrace_path(net_id,src_x,src_y,dst_x,dst_y,location_map,path_map):\n",
    "    found_flag = 0\n",
    "    # From terminal do backtracking follow the traverse sequence 3 2 1\n",
    "    cur_node = [dst_y,dst_x,path_map[dst_y,dst_x]]\n",
    "    while True:\n",
    "        cur_x   = cur_node[1]\n",
    "        cur_y   = cur_node[0]\n",
    "        cur_seq = cur_node[2]\n",
    "\n",
    "        # Down,up,right,left\n",
    "        for neighbor in [[cur_y+1,cur_x,path_map[cur_y+1,cur_x]],[cur_y-1,cur_x,path_map[cur_y-1,cur_x]],\\\n",
    "                         [cur_y,cur_x+1,path_map[cur_y,cur_x+1]],[cur_y,cur_x-1,path_map[cur_y,cur_x-1]]]:\n",
    "\n",
    "            neighbor_x   = neighbor[1]\n",
    "            neighbor_y   = neighbor[0]\n",
    "            neighbor_seq = neighbor[2]\n",
    "\n",
    "            if cur_seq == 1:\n",
    "                nxt_seq = 3\n",
    "            else:\n",
    "                nxt_seq = cur_seq - 1\n",
    "\n",
    "            # Neighbor is source break!\n",
    "            if neighbor_x == src_x and neighbor_y == src_y:\n",
    "                location_map[cur_y,cur_x] = net_id\n",
    "                path_map[cur_y,cur_x] = net_id\n",
    "                found_flag = 1\n",
    "                break\n",
    "\n",
    "            if neighbor_seq == nxt_seq and (neighbor_x < MAP_SIZE and neighbor_y < MAP_SIZE and neighbor_x >=0 and neighbor_y>=0):\n",
    "                location_map[cur_y,cur_x] = net_id\n",
    "                path_map[cur_y,cur_x] = net_id\n",
    "                cur_node = neighbor\n",
    "                break\n",
    "\n",
    "        if found_flag == 1:\n",
    "            break"
   ]
  },
  {
   "cell_type": "code",
   "execution_count": 10,
   "metadata": {},
   "outputs": [],
   "source": [
    "retrace_path(net_id_1,loc_x_11,loc_y_11,loc_x_21,loc_y_21,location_map,path_map)"
   ]
  },
  {
   "cell_type": "code",
   "execution_count": 11,
   "metadata": {},
   "outputs": [
    {
     "data": {
      "text/plain": [
       "array([[0, 0, 0, 0, 0, 0, 0, 0, 0, 0, 0, 0, 0, 0, 0, 0],\n",
       "       [0, 0, 0, 0, 0, 0, 0, 0, 0, 0, 0, 0, 0, 0, 0, 0],\n",
       "       [0, 0, 4, 4, 4, 4, 0, 0, 0, 0, 9, 9, 9, 9, 0, 0],\n",
       "       [0, 0, 4, 4, 4, 4, 0, 0, 0, 0, 9, 9, 9, 9, 0, 0],\n",
       "       [0, 0, 4, 4, 4, 4, 0, 0, 0, 0, 0, 9, 0, 0, 0, 0],\n",
       "       [0, 0, 0, 0, 0, 0, 0, 0, 0, 0, 0, 9, 0, 0, 0, 0],\n",
       "       [0, 0, 0, 0, 0, 0, 0, 0, 0, 0, 0, 9, 0, 0, 0, 0],\n",
       "       [0, 0, 0, 0, 0, 0, 0, 0, 0, 0, 0, 9, 0, 0, 0, 0],\n",
       "       [0, 0, 0, 0, 0, 0, 0, 0, 0, 0, 0, 9, 0, 0, 0, 0],\n",
       "       [0, 0, 0, 0, 0, 0, 0, 0, 0, 0, 0, 9, 0, 0, 0, 0],\n",
       "       [0, 0, 0, 0, 9, 9, 9, 9, 9, 9, 9, 9, 0, 0, 0, 0],\n",
       "       [0, 0, 0, 0, 9, 9, 0, 0, 0, 0, 0, 0, 0, 0, 0, 0],\n",
       "       [0, 0, 0, 0, 0, 0, 0, 0, 0, 0, 0, 4, 4, 4, 0, 0],\n",
       "       [0, 0, 0, 0, 0, 0, 0, 0, 0, 0, 0, 4, 4, 4, 0, 0],\n",
       "       [0, 0, 0, 0, 0, 0, 0, 0, 0, 0, 0, 0, 0, 0, 0, 0],\n",
       "       [0, 0, 0, 0, 0, 0, 0, 0, 0, 0, 0, 0, 0, 0, 0, 0]])"
      ]
     },
     "execution_count": 11,
     "metadata": {},
     "output_type": "execute_result"
    }
   ],
   "source": [
    "location_map"
   ]
  },
  {
   "cell_type": "code",
   "execution_count": 12,
   "metadata": {},
   "outputs": [
    {
     "data": {
      "text/plain": [
       "array([[0, 0, 0, 0, 1, 3, 2, 3, 1, 0, 0, 0, 0, 0, 0, 0],\n",
       "       [0, 0, 0, 1, 3, 2, 1, 2, 3, 1, 0, 0, 0, 0, 0, 0],\n",
       "       [0, 3, 4, 4, 4, 4, 3, 1, 2, 3, 9, 9, 9, 9, 0, 0],\n",
       "       [3, 2, 4, 4, 4, 4, 2, 3, 1, 2, 9, 9, 9, 9, 0, 0],\n",
       "       [2, 1, 4, 4, 4, 4, 1, 2, 3, 1, 2, 9, 0, 0, 0, 0],\n",
       "       [1, 3, 2, 1, 3, 2, 3, 1, 2, 3, 1, 9, 3, 0, 0, 0],\n",
       "       [3, 2, 1, 3, 2, 1, 2, 3, 1, 2, 3, 9, 2, 3, 0, 0],\n",
       "       [2, 1, 3, 2, 1, 3, 1, 2, 3, 1, 2, 9, 1, 2, 3, 0],\n",
       "       [1, 3, 2, 1, 3, 2, 3, 1, 2, 3, 1, 9, 3, 1, 2, 3],\n",
       "       [3, 2, 1, 3, 2, 1, 2, 3, 1, 2, 3, 9, 2, 3, 1, 2],\n",
       "       [1, 3, 2, 1, 9, 9, 9, 9, 9, 9, 9, 9, 1, 2, 3, 1],\n",
       "       [2, 1, 3, 2, 9, 9, 2, 3, 1, 2, 3, 1, 2, 3, 1, 2],\n",
       "       [3, 2, 1, 3, 2, 1, 3, 1, 2, 3, 1, 4, 4, 4, 2, 3],\n",
       "       [1, 3, 2, 1, 3, 2, 1, 2, 3, 1, 2, 4, 4, 4, 3, 0],\n",
       "       [2, 1, 3, 2, 1, 3, 2, 3, 1, 2, 3, 1, 2, 3, 0, 0],\n",
       "       [3, 2, 1, 3, 2, 1, 3, 1, 2, 3, 1, 2, 3, 0, 0, 0]])"
      ]
     },
     "execution_count": 12,
     "metadata": {},
     "output_type": "execute_result"
    }
   ],
   "source": [
    "path_map"
   ]
  },
  {
   "cell_type": "code",
   "execution_count": 13,
   "metadata": {},
   "outputs": [],
   "source": [
    "path_map = copy.deepcopy(location_map)"
   ]
  },
  {
   "cell_type": "markdown",
   "metadata": {},
   "source": [
    "### Repeat for second net"
   ]
  },
  {
   "cell_type": "code",
   "execution_count": 14,
   "metadata": {},
   "outputs": [],
   "source": [
    "fillpath(loc_x_12,loc_y_12,loc_x_22,loc_y_22,location_map,path_map)"
   ]
  },
  {
   "cell_type": "code",
   "execution_count": 15,
   "metadata": {},
   "outputs": [],
   "source": [
    "retrace_path(net_id_2,loc_x_12,loc_y_12,loc_x_22,loc_y_22,location_map,path_map)"
   ]
  },
  {
   "cell_type": "code",
   "execution_count": 16,
   "metadata": {},
   "outputs": [
    {
     "data": {
      "text/plain": [
       "array([[0, 0, 0, 0, 0, 0, 0, 0, 0, 0, 0, 0, 0, 0, 0, 0],\n",
       "       [0, 0, 0, 0, 4, 4, 4, 4, 4, 4, 4, 4, 4, 4, 4, 0],\n",
       "       [0, 0, 4, 4, 4, 4, 0, 0, 0, 0, 9, 9, 9, 9, 4, 0],\n",
       "       [0, 0, 4, 4, 4, 4, 0, 0, 0, 0, 9, 9, 9, 9, 4, 0],\n",
       "       [0, 0, 4, 4, 4, 4, 0, 0, 0, 0, 0, 9, 0, 0, 4, 0],\n",
       "       [0, 0, 0, 0, 0, 0, 0, 0, 0, 0, 0, 9, 0, 0, 4, 0],\n",
       "       [0, 0, 0, 0, 0, 0, 0, 0, 0, 0, 0, 9, 0, 0, 4, 0],\n",
       "       [0, 0, 0, 0, 0, 0, 0, 0, 0, 0, 0, 9, 0, 0, 4, 0],\n",
       "       [0, 0, 0, 0, 0, 0, 0, 0, 0, 0, 0, 9, 0, 0, 4, 0],\n",
       "       [0, 0, 0, 0, 0, 0, 0, 0, 0, 0, 0, 9, 0, 0, 4, 0],\n",
       "       [0, 0, 0, 0, 9, 9, 9, 9, 9, 9, 9, 9, 0, 0, 4, 0],\n",
       "       [0, 0, 0, 0, 9, 9, 0, 0, 0, 0, 0, 0, 0, 0, 4, 0],\n",
       "       [0, 0, 0, 0, 0, 0, 0, 0, 0, 0, 0, 4, 4, 4, 4, 0],\n",
       "       [0, 0, 0, 0, 0, 0, 0, 0, 0, 0, 0, 4, 4, 4, 4, 0],\n",
       "       [0, 0, 0, 0, 0, 0, 0, 0, 0, 0, 0, 0, 0, 0, 0, 0],\n",
       "       [0, 0, 0, 0, 0, 0, 0, 0, 0, 0, 0, 0, 0, 0, 0, 0]])"
      ]
     },
     "execution_count": 16,
     "metadata": {},
     "output_type": "execute_result"
    }
   ],
   "source": [
    "location_map"
   ]
  }
 ],
 "metadata": {
  "kernelspec": {
   "display_name": "Python 3",
   "language": "python",
   "name": "python3"
  },
  "language_info": {
   "codemirror_mode": {
    "name": "ipython",
    "version": 3
   },
   "file_extension": ".py",
   "mimetype": "text/x-python",
   "name": "python",
   "nbconvert_exporter": "python",
   "pygments_lexer": "ipython3",
   "version": "3.11.6"
  }
 },
 "nbformat": 4,
 "nbformat_minor": 2
}
